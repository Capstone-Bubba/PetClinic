{
 "cells": [
  {
   "cell_type": "markdown",
   "id": "6765d482",
   "metadata": {},
   "source": [
    "# Library Import"
   ]
  },
  {
   "cell_type": "code",
   "execution_count": 1,
   "id": "85b56e31",
   "metadata": {},
   "outputs": [],
   "source": [
    "import os ,time\n",
    "\n",
    "import glob\n",
    "import random\n",
    "from PIL import Image\n",
    "\n",
    "import torch\n",
    "import torch.nn as nn\n",
    "from torchvision import transforms\n",
    "import torchvision.transforms.functional as TF\n",
    "from torch.utils.data import Dataset, DataLoader\n",
    "from torch.cuda.amp import autocast, grad_scaler\n",
    "from torch.optim.lr_scheduler import _LRScheduler\n",
    "import torch_optimizer as optim\n",
    "\n",
    "import numpy as np\n",
    "import pandas as pd, cv2\n",
    "from tqdm import tqdm\n",
    "from easydict import EasyDict\n",
    "from sklearn.preprocessing import LabelEncoder #Label Encoder로 숫자로 변경함\n",
    "from sklearn.model_selection import StratifiedKFold\n",
    "from sklearn.metrics import f1_score\n",
    "from ptflops import get_model_complexity_info\n",
    "\n",
    "from collections import Counter\n",
    "import argparse\n",
    "import neptune.new as neptune\n",
    "import timm\n",
    "from efficientnet_pytorch import EfficientNet\n",
    "\n",
    "#안하면 오류남\n",
    "import warnings\n",
    "from pandas.core.common import SettingWithCopyWarning\n",
    "warnings.simplefilter(action=\"ignore\", category=SettingWithCopyWarning)\n",
    "warnings.filterwarnings(action='ignore')\n",
    "\n",
    "os.environ['CUDA_LAUNCH_BLOCKING'] = \"1\"\n",
    "os.environ[\"CUDA_VISIBLE_DEVICES\"] = \"0\""
   ]
  },
  {
   "cell_type": "markdown",
   "id": "3cc071c0",
   "metadata": {},
   "source": [
    "# Data Load"
   ]
  },
  {
   "cell_type": "code",
   "execution_count": 2,
   "id": "215d4ff4",
   "metadata": {},
   "outputs": [
    {
     "data": {
      "text/html": [
       "<div>\n",
       "<style scoped>\n",
       "    .dataframe tbody tr th:only-of-type {\n",
       "        vertical-align: middle;\n",
       "    }\n",
       "\n",
       "    .dataframe tbody tr th {\n",
       "        vertical-align: top;\n",
       "    }\n",
       "\n",
       "    .dataframe thead th {\n",
       "        text-align: right;\n",
       "    }\n",
       "</style>\n",
       "<table border=\"1\" class=\"dataframe\">\n",
       "  <thead>\n",
       "    <tr style=\"text-align: right;\">\n",
       "      <th></th>\n",
       "      <th>file_name</th>\n",
       "      <th>label</th>\n",
       "    </tr>\n",
       "  </thead>\n",
       "  <tbody>\n",
       "    <tr>\n",
       "      <th>0</th>\n",
       "      <td>/home/twogudack/petclinc/Dataset/cropdata/무증상/...</td>\n",
       "      <td>0</td>\n",
       "    </tr>\n",
       "    <tr>\n",
       "      <th>1</th>\n",
       "      <td>/home/twogudack/petclinc/Dataset/cropdata/무증상/...</td>\n",
       "      <td>0</td>\n",
       "    </tr>\n",
       "    <tr>\n",
       "      <th>2</th>\n",
       "      <td>/home/twogudack/petclinc/Dataset/cropdata/무증상/...</td>\n",
       "      <td>0</td>\n",
       "    </tr>\n",
       "    <tr>\n",
       "      <th>3</th>\n",
       "      <td>/home/twogudack/petclinc/Dataset/cropdata/무증상/...</td>\n",
       "      <td>0</td>\n",
       "    </tr>\n",
       "    <tr>\n",
       "      <th>4</th>\n",
       "      <td>/home/twogudack/petclinc/Dataset/cropdata/무증상/...</td>\n",
       "      <td>0</td>\n",
       "    </tr>\n",
       "    <tr>\n",
       "      <th>...</th>\n",
       "      <td>...</td>\n",
       "      <td>...</td>\n",
       "    </tr>\n",
       "    <tr>\n",
       "      <th>10320</th>\n",
       "      <td>/home/twogudack/petclinc/Dataset/cropdata/유증상/...</td>\n",
       "      <td>6</td>\n",
       "    </tr>\n",
       "    <tr>\n",
       "      <th>10321</th>\n",
       "      <td>/home/twogudack/petclinc/Dataset/cropdata/유증상/...</td>\n",
       "      <td>6</td>\n",
       "    </tr>\n",
       "    <tr>\n",
       "      <th>10322</th>\n",
       "      <td>/home/twogudack/petclinc/Dataset/cropdata/유증상/...</td>\n",
       "      <td>6</td>\n",
       "    </tr>\n",
       "    <tr>\n",
       "      <th>10323</th>\n",
       "      <td>/home/twogudack/petclinc/Dataset/cropdata/유증상/...</td>\n",
       "      <td>6</td>\n",
       "    </tr>\n",
       "    <tr>\n",
       "      <th>10324</th>\n",
       "      <td>/home/twogudack/petclinc/Dataset/cropdata/유증상/...</td>\n",
       "      <td>6</td>\n",
       "    </tr>\n",
       "  </tbody>\n",
       "</table>\n",
       "<p>10325 rows × 2 columns</p>\n",
       "</div>"
      ],
      "text/plain": [
       "                                               file_name  label\n",
       "0      /home/twogudack/petclinc/Dataset/cropdata/무증상/...      0\n",
       "1      /home/twogudack/petclinc/Dataset/cropdata/무증상/...      0\n",
       "2      /home/twogudack/petclinc/Dataset/cropdata/무증상/...      0\n",
       "3      /home/twogudack/petclinc/Dataset/cropdata/무증상/...      0\n",
       "4      /home/twogudack/petclinc/Dataset/cropdata/무증상/...      0\n",
       "...                                                  ...    ...\n",
       "10320  /home/twogudack/petclinc/Dataset/cropdata/유증상/...      6\n",
       "10321  /home/twogudack/petclinc/Dataset/cropdata/유증상/...      6\n",
       "10322  /home/twogudack/petclinc/Dataset/cropdata/유증상/...      6\n",
       "10323  /home/twogudack/petclinc/Dataset/cropdata/유증상/...      6\n",
       "10324  /home/twogudack/petclinc/Dataset/cropdata/유증상/...      6\n",
       "\n",
       "[10325 rows x 2 columns]"
      ]
     },
     "metadata": {},
     "output_type": "display_data"
    }
   ],
   "source": [
    "train_data = pd.read_csv(\"../Dataset/region_A.csv\")\n",
    "display(train_data)"
   ]
  },
  {
   "cell_type": "markdown",
   "id": "d62a4dde",
   "metadata": {},
   "source": [
    "# Train"
   ]
  },
  {
   "cell_type": "markdown",
   "id": "095f9989",
   "metadata": {},
   "source": [
    "## Transform 설정"
   ]
  },
  {
   "cell_type": "markdown",
   "id": "fdb0e443",
   "metadata": {},
   "source": [
    "### 감마 변환"
   ]
  },
  {
   "cell_type": "code",
   "execution_count": 3,
   "id": "7354d8d1",
   "metadata": {},
   "outputs": [],
   "source": [
    "class GammaTranform:\n",
    "    def __init__(self,a,b):\n",
    "        self.a = a\n",
    "        self.b = b\n",
    "    def __call__(self, I):\n",
    "        gamma = random.uniform(self.a, self.b)\n",
    "        return TF.adjust_gamma(I,gam)"
   ]
  },
  {
   "cell_type": "markdown",
   "id": "04339e72",
   "metadata": {},
   "source": [
    "### 데이터 version 선택"
   ]
  },
  {
   "cell_type": "code",
   "execution_count": 4,
   "id": "09f9a9a4",
   "metadata": {},
   "outputs": [],
   "source": [
    "def augmentation(img_size, ver):\n",
    "    if ver==1:\n",
    "        transform = transforms.Compose([\n",
    "                transforms.Resize((img_size, img_size)),\n",
    "                transforms.Normalize(mean=[0.485, 0.456, 0.406],\n",
    "                                     std=[0.229, 0.224, 0.225]),\n",
    "                ])   \n",
    "    elif ver==2:\n",
    "        transform = transforms.Compose([\n",
    "                transforms.RandomRotation(degrees=20),\n",
    "                transforms.RandomAffine(degrees=(10,30)),\n",
    "                transforms.RandomHorizontalFlip(),\n",
    "                transforms.RandomVerticalFlip(),\n",
    "                transforms.Resize((img_size, img_size)),\n",
    "                transforms.Normalize(mean=[0.485, 0.456, 0.406],\n",
    "                                    std=[0.229, 0.224, 0.225]),\n",
    "            ])   \n",
    "    elif ver==3:\n",
    "        transform = transforms.Compose([\n",
    "                transforms.RandomRotation(degrees=180),\n",
    "                transforms.RandomAffine(degrees=(10,30)),\n",
    "                transforms.RandomHorizontalFlip(),\n",
    "                transforms.RandomVerticalFlip(),\n",
    "                transforms.Resize((img_size, img_size)),\n",
    "                transforms.Normalize(mean=[0.485, 0.456, 0.406],\n",
    "                                    std=[0.229, 0.224, 0.225]),\n",
    "            ])  \n",
    "    elif ver==4:\n",
    "        transform = transforms.Compose([\n",
    "                transforms.RandomRotation(degrees=20),\n",
    "                transforms.RandomAffine(degrees=(10,30)),\n",
    "                transforms.Resize((img_size, img_size)),\n",
    "                transforms.Normalize(mean=[0.485, 0.456, 0.406],\n",
    "                                    std=[0.229, 0.224, 0.225]),\n",
    "            ])   \n",
    "    elif ver==5:\n",
    "        transform = transforms.Compose([\n",
    "                transforms.RandomRotation(degrees=180),\n",
    "                transforms.RandomAffine(degrees=(10,30)),\n",
    "                transforms.Resize((img_size, img_size)),\n",
    "                transforms.Normalize(mean=[0.485, 0.456, 0.406],\n",
    "                                    std=[0.229, 0.224, 0.225]),\n",
    "            ]) \n",
    "    elif ver==6:\n",
    "        transform = transforms.Compose([\n",
    "                transforms.RandomRotation(degrees=180),\n",
    "                transforms.RandomHorizontalFlip(),\n",
    "                transforms.RandomVerticalFlip(),\n",
    "                transforms.RandomAffine(30),\n",
    "                transforms.ColorJitter(),\n",
    "                transforms.RandomInvert(),\n",
    "                transforms.Resize((img_size, img_size)),\n",
    "                transforms.Normalize(mean=[0.485, 0.456, 0.406],\n",
    "                                    std=[0.229, 0.224, 0.225]),\n",
    "            ])    \n",
    "    elif ver==7:\n",
    "        transform = transforms.Compose([\n",
    "                transforms.RandomRotation(degrees=180),\n",
    "                transforms.RandomAffine(degrees=45),\n",
    "                transforms.Resize((img_size, img_size)),\n",
    "                transforms.RandomHorizontalFlip(),\n",
    "                transforms.RandomVerticalFlip(),    \n",
    "                transforms.Normalize(mean=[0.485, 0.456, 0.406],\n",
    "                                    std=[0.229, 0.224, 0.225]),\n",
    "            ])   \n",
    "    elif ver==8:\n",
    "        transform = transforms.Compose([\n",
    "                transforms.RandomRotation(degrees=10),\n",
    "                transforms.RandomHorizontalFlip(),\n",
    "                transforms.RandomVerticalFlip(),\n",
    "                transforms.RandomAffine(30),\n",
    "                transforms.Resize((img_size, img_size)),\n",
    "                transforms.Normalize(mean=[0.485, 0.456, 0.406],\n",
    "                                    std=[0.229, 0.224, 0.225]),\n",
    "            ])\n",
    "    elif ver==9:\n",
    "        transform = transforms.Compose([\n",
    "                transforms.RandomRotation(degrees=(0,180)),\n",
    "                transforms.RandomHorizontalFlip(),\n",
    "                transforms.RandomVerticalFlip(),\n",
    "                transforms.RandomAffine(30),\n",
    "                GammaTransform(0.6,1.0),\n",
    "                transforms.Resize((img_size, img_size)),\n",
    "                transforms.Normalize(mean=[0.485, 0.456, 0.406],\n",
    "                                    std=[0.229, 0.224, 0.225]),\n",
    "            ])       \n",
    "    elif ver==10:\n",
    "        transform = transforms.Compose([\n",
    "                transforms.RandomRotation(degrees=(180)),\n",
    "                transforms.RandomHorizontalFlip(),\n",
    "                transforms.RandomVerticalFlip(),\n",
    "                transforms.RandomAffine(30),\n",
    "                transforms.ColorJitter(),\n",
    "                transforms.RandomInvert(),\n",
    "                transforms.Resize((img_size, img_size)),\n",
    "                transforms.Normalize(mean=[0.485, 0.456, 0.406],\n",
    "                                    std=[0.229, 0.224, 0.225]),\n",
    "            ]) \n",
    "    elif ver==11:\n",
    "        transform = transforms.Compose([\n",
    "                transforms.RandomRotation(degrees=20),\n",
    "                transforms.RandomHorizontalFlip(),\n",
    "                transforms.RandomVerticalFlip(),\n",
    "                transforms.Resize((img_size, img_size)),\n",
    "                transforms.Normalize(mean=[0.485, 0.456, 0.406],\n",
    "                                    std=[0.229, 0.224, 0.225]),\n",
    "            ])      \n",
    "    return transform"
   ]
  },
  {
   "cell_type": "markdown",
   "id": "b4cc473f",
   "metadata": {},
   "source": [
    "# Custom DataLoader"
   ]
  },
  {
   "cell_type": "markdown",
   "id": "e9079cec",
   "metadata": {},
   "source": [
    "### Train_Dataset"
   ]
  },
  {
   "cell_type": "code",
   "execution_count": 5,
   "id": "d046f56b",
   "metadata": {},
   "outputs": [],
   "source": [
    "class Train_Dataset(Dataset):\n",
    "    def __init__(self, df, transform=None, is_training=False):\n",
    "        \n",
    "        self.file_name = df['file_name'].values\n",
    "        self.label = df['label'].values\n",
    "        self.transform = transform\n",
    "        self.is_training = is_training\n",
    "        print(f\"데이터셋 생성 완료,,\\n 데이터셋 사이즈 : {len(self.file_name)}\")\n",
    "        \n",
    "    def __getitem__(self, index):\n",
    "        img_path = self.file_name[index]\n",
    "        image = cv2.imread(img_path).astype(np.float32) #numpy형식으로 불러옴\n",
    "        label = self.label[index]\n",
    "        \n",
    "  \n",
    "        image = cv2.cvtColor(image, cv2.COLOR_BGR2RGB)/ 255.0 #데이터 증강을 위해 바꿈  \n",
    "        image_transform = self.transform\n",
    "            \n",
    "        #image transform 시행\n",
    "        image = image.transpose(2,0,1) #HWC ->> CHW\n",
    "        image = image_transform(torch.from_numpy(image))\n",
    "        \n",
    "        return image, label\n",
    "    \n",
    "    def __len__(self):\n",
    "        return len(self.file_name)"
   ]
  },
  {
   "cell_type": "markdown",
   "id": "b4baa792",
   "metadata": {},
   "source": [
    "### TestDataset Loader"
   ]
  },
  {
   "cell_type": "code",
   "execution_count": 6,
   "id": "7aed6f5f",
   "metadata": {},
   "outputs": [],
   "source": [
    "class Test_Dataset(Dataset):\n",
    "    def __init__(self, df, transform=None):\n",
    "        self.file_name = df['file_name'].values\n",
    "        self.transform = transform\n",
    "\n",
    "        print(f\"테스트 데이터셋 생성 완료,,\\n 데이터셋 사이즈 : {len(self.file_name)}\")\n",
    "\n",
    "    def __getitem__(self, index):        \n",
    "        image = np.array(Image.open(self.file_name[index]).convert('RGB'))\n",
    "\n",
    "        if self.transform is not None:\n",
    "            image = self.transform(Image.fromarray(image))\n",
    "\n",
    "        return image\n",
    "\n",
    "    def __len__(self):\n",
    "        return len(self.file_name)"
   ]
  },
  {
   "cell_type": "markdown",
   "id": "0e525ebc",
   "metadata": {},
   "source": [
    "### Data Loader"
   ]
  },
  {
   "cell_type": "code",
   "execution_count": 7,
   "id": "0147cfff",
   "metadata": {},
   "outputs": [],
   "source": [
    "def get_loader(df, phase: str, batch_size, shuffle, num_workers, transform, is_training=False):\n",
    "\n",
    "    if phase == 'test':\n",
    "        dataset = Test_Dataset(df, transform)\n",
    "        data_loader = DataLoader(dataset, batch_size=batch_size, shuffle=shuffle, num_workers=num_workers, pin_memory=True)\n",
    "    else:\n",
    "        dataset = Train_Dataset(df, transform, is_training=is_training)\n",
    "        data_loader = DataLoader(dataset, batch_size=batch_size, shuffle=shuffle, num_workers=num_workers, pin_memory=True, drop_last=False)\n",
    "\n",
    "    return data_loader"
   ]
  },
  {
   "cell_type": "markdown",
   "id": "af3d70a0",
   "metadata": {},
   "source": [
    "# ConFig 설정"
   ]
  },
  {
   "cell_type": "code",
   "execution_count": 8,
   "id": "f4e4e741",
   "metadata": {},
   "outputs": [],
   "source": [
    "def getConfig():\n",
    "    parser = argparse.ArgumentParser()\n",
    "\n",
    "    parser.add_argument('--data_path', type=str, default='../Dataset')\n",
    "    parser.add_argument('--file_name', type=str, default='train.csv')\n",
    "    parser.add_argument('--fold', type=int, default=0, help='Validation Fold')\n",
    "    parser.add_argument('--Kfold', type=int, default=5, help='Number of Split Folds')\n",
    "    parser.add_argument('--tag', default='PetFriends', type=str, help='tag')\n",
    "\n",
    "    # Model parameter settings\n",
    "    parser.add_argument('--model_type', type=str, default='', help='CNN or Transformer')\n",
    "    parser.add_argument('--encoder_name', type=str, default='regnety_040') #regnety 모델사용\n",
    "    parser.add_argument('--drop_path_rate', type=float, default=0.2)\n",
    "    parser.add_argument('--num_classes', type=int, default=7)\n",
    "\n",
    "    # Training parameter settings\n",
    "    ## Base Parameter\n",
    "    parser.add_argument('--epochs', type=int, default=50)\n",
    "    parser.add_argument('--img_size', type=int, default=256)\n",
    "    parser.add_argument('--batch_size', type=int, default=128)\n",
    "    \n",
    "    parser.add_argument('--initial_lr', type=float, default=1e-5)\n",
    "    parser.add_argument('--weight_decay', type=float, default=1e-4)\n",
    "    \n",
    "    ## Augmentation\n",
    "    parser.add_argument('--aug_ver', type=int, default=1)\n",
    "    \n",
    "    ### Cosine Annealing\n",
    "    parser.add_argument('--warm_epoch', type=int, default=5)  #  WarmUp Scheduler\n",
    "    parser.add_argument('--max_lr', type=float, default=1e-3)\n",
    "\n",
    "    parser.add_argument('--patience', type=int, default=10, help='Early Stopping')\n",
    "    parser.add_argument('--use_aug', type=bool, default=False, help='augmentation for pill and zipper')\n",
    "\n",
    "    # Hardware settings\n",
    "    parser.add_argument('--logging', type=bool, default=True)\n",
    "    parser.add_argument('--num_workers', type=int, default=4)\n",
    "    parser.add_argument('--seed', type=int, default=42)\n",
    "    args,_ = parser.parse_known_args()\n",
    "\n",
    "    return args"
   ]
  },
  {
   "cell_type": "markdown",
   "id": "bea6d135",
   "metadata": {},
   "source": [
    "# Model Load"
   ]
  },
  {
   "cell_type": "markdown",
   "id": "466045e4",
   "metadata": {},
   "source": [
    "### Network 생성"
   ]
  },
  {
   "cell_type": "code",
   "execution_count": 9,
   "id": "abd7a955",
   "metadata": {},
   "outputs": [],
   "source": [
    "class Net(nn.Module):\n",
    "    def __init__(self, args):\n",
    "        super().__init__()\n",
    "        #self.encoder = timm.create_model(args.encoder_name, pretrained=True, drop_path_rate = args.drop_path_rate, num_classes = args.num_classes)\n",
    "        self.encoder = EfficientNet.from_pretrained(args.encoder_name,num_classes = args.num_classes )\n",
    "        \n",
    "    def forward(self, x):\n",
    "        x = self.encoder(x)\n",
    "        return x"
   ]
  },
  {
   "cell_type": "markdown",
   "id": "88eed96e",
   "metadata": {},
   "source": [
    "### Scheduler 설정 Loss class"
   ]
  },
  {
   "cell_type": "code",
   "execution_count": 10,
   "id": "9aaf33f8",
   "metadata": {},
   "outputs": [],
   "source": [
    "class Set_lr(_LRScheduler):\n",
    "    def __init__(self, optimizer, total_iters, last_epoch=-1):\n",
    "        \n",
    "        self.total_iters = total_iters\n",
    "        super(Set_lr,self).__init__(optimizer, last_epoch=last_epoch)\n",
    "\n",
    "    def get_lr(self):\n",
    "        return [base_lr * self.last_epoch / (self.total_iters + 1e-7) for base_lr in self.base_lrs]\n",
    "    \n",
    "class Loss_setting(object):\n",
    "    def __init__(self, num=40):\n",
    "        self.num = num\n",
    "        self.reset()\n",
    "\n",
    "    def reset(self):\n",
    "        self.val = 0\n",
    "        self.avg = 0\n",
    "        self.sum = 0\n",
    "        self.count = 0\n",
    "        self.losses = []\n",
    "\n",
    "    def update(self, val, n=1):\n",
    "        self.val = val\n",
    "        self.sum += val * n\n",
    "        self.count += n\n",
    "        self.avg = self.sum / self.count\n",
    "        self.losses.append(val)"
   ]
  },
  {
   "cell_type": "markdown",
   "id": "86b72225",
   "metadata": {},
   "source": [
    "# Train 함수 생성"
   ]
  },
  {
   "cell_type": "code",
   "execution_count": 11,
   "id": "442a56d3",
   "metadata": {},
   "outputs": [],
   "source": [
    "class Trainer():\n",
    "    def __init__(self, args, try_count):\n",
    "        super(Trainer, self).__init__()\n",
    "        self.device = torch.device('cuda' if torch.cuda.is_available() else 'cpu')\n",
    "        \n",
    "        save_path = os.path.join('result/', str(try_count).zfill(3))\n",
    "        os.makedirs(save_path, exist_ok=True)\n",
    "        \n",
    "        #neptune ai\n",
    "        run = neptune.init(\n",
    "        project=\"twogudak/Petfrineds\",\n",
    "        api_token=\"eyJhcGlfYWRkcmVzcyI6Imh0dHBzOi8vYXBwLm5lcHR1bmUuYWkiLCJhcGlfdXJsIjoiaHR0cHM6Ly9hcHAubmVwdHVuZS5haSIsImFwaV9rZXkiOiJhMDljNTU0ZC03NGM4LTQwNzEtYTBlNi0yYzE1OGZiNmE1MjkifQ==\",\n",
    "        )  # your credentials\n",
    "        \n",
    "        run[\"parameters\"] = args\n",
    "        \n",
    "        # Train, Valid Dataset Load\n",
    "        train_data = pd.read_csv(os.path.join(args.data_path, args.file_name))\n",
    "        \n",
    "        #Fold Setting\n",
    "        KFold = kf = StratifiedKFold(n_splits=args.Kfold)\n",
    "        for fold_num,(_,val_idx) in enumerate(KFold.split(train_data, y = train_data['label'])):\n",
    "            train_data.loc[val_idx,'fold'] = fold_num\n",
    "            \n",
    "        val_data = train_data[train_data['fold'] == args.fold].reset_index(drop=True)\n",
    "        train_data = train_data[train_data['fold'] != args.fold].reset_index(drop=True)\n",
    "        \n",
    "        #Data Augmentation\n",
    "        self.train_transform = augmentation(img_size=args.img_size, ver=args.aug_ver)\n",
    "        self.test_transform = augmentation(img_size=args.img_size, ver=1)\n",
    "        \n",
    "        #Load Train Data\n",
    "        self.train_loader = get_loader(train_data, phase='train', batch_size=args.batch_size, shuffle=True,\n",
    "                                       num_workers=args.num_workers, transform=self.train_transform, is_training=args.use_aug)\n",
    "        \n",
    "        self.val_loader = get_loader(val_data, phase='train', batch_size=args.batch_size, shuffle=False,\n",
    "                                       num_workers=args.num_workers, transform=self.test_transform, is_training=False)\n",
    "        \n",
    "        #Model Load\n",
    "        self.model = Net(args).to(self.device)\n",
    "        amcs, params = get_model_complexity_info(self.model, (3,args.img_size, args.img_size), as_strings=True,\n",
    "                                               print_per_layer_stat=False, verbose=False)\n",
    "        \n",
    "        print(f'Macs : {amcs}')\n",
    "        print(f'params : {[params]}')\n",
    "        \n",
    "        #Loss\n",
    "        self.criterion = nn.CrossEntropyLoss()\n",
    "        \n",
    "        #Optimizer\n",
    "        self.optimizer = optim.Lamb(self.model.parameters(), lr=args.initial_lr, weight_decay=args.weight_decay)\n",
    "        iter_per_epoch = len(self.train_loader)\n",
    "        \n",
    "    \n",
    "        #Scheduler\n",
    "        self.warmup_scheduler = Set_lr(self.optimizer, iter_per_epoch * args.warm_epoch)\n",
    "        self.scheduler = torch.optim.lr_scheduler.OneCycleLR(self.optimizer, max_lr=args.max_lr, steps_per_epoch=iter_per_epoch, epochs=args.epochs)\n",
    "\n",
    "        load_epoch=0\n",
    "        \n",
    "        #Train, Val\n",
    "        \n",
    "        best_loss = np.inf\n",
    "        best_acc = 0\n",
    "        best_f1 = 0\n",
    "        best_epoch = 0\n",
    "        early_stopping = 0\n",
    "        start = time.time()\n",
    "        for epoch in range(load_epoch+1, args.epochs+1):\n",
    "            self.epoch = epoch\n",
    "\n",
    "            if epoch > args.warm_epoch:\n",
    "                self.scheduler.step()\n",
    "                    \n",
    "            train_loss, train_acc, train_f1 = self.training(args)\n",
    "            state_dict = self.model.state_dict() #Save\n",
    "\n",
    "            val_loss, val_acc, val_f1 = self.validate(phase='val')\n",
    "\n",
    "            #neptune\n",
    "\n",
    "            if args.logging == True:               \n",
    "                run['Train loss'].log(train_loss)\n",
    "                run['Train acc'].log(train_acc)\n",
    "                run['Train f1'].log(train_f1)\n",
    "\n",
    "                run['val loss'].log(val_loss)\n",
    "                run['val acc'].log(val_acc)\n",
    "                run['val f1'].log(val_f1)\n",
    "\n",
    "\n",
    "            #Save Model\n",
    "\n",
    "            if val_loss < best_loss:\n",
    "                early_stopping = 0 \n",
    "                best_epoch = epoch\n",
    "                best_loss = val_loss\n",
    "                best_acc = val_acc\n",
    "                best_f1 = val_f1\n",
    "\n",
    "                torch.save({'epoch':epoch,\n",
    "                            'state_dict':state_dict,\n",
    "                            'optimizer': self.optimizer.state_dict(),\n",
    "                            'scheduler': self.scheduler.state_dict(),}, os.path.join(save_path,'best_model.pth'))\n",
    "\n",
    "                print(f\"SAVE: {best_epoch}epoch\")\n",
    "\n",
    "            else:\n",
    "                early_stopping += 1\n",
    "\n",
    "            if early_stopping == args.patience: #계속 발전이 없으면 중지시킴\n",
    "                break\n",
    "\n",
    "            if epoch == args.epochs:\n",
    "                torch.save({'epoch':epoch,\n",
    "                            'state_dict':state_dict,\n",
    "                            'optimizer': self.optimizer.state_dict(),\n",
    "                            'scheduler': self.scheduler.state_dict(),\n",
    "                    }, os.path.join(save_path,'CZION_.pth'))\n",
    "                print('---SAVE: last epoch--------')\n",
    "                    \n",
    "        #epoch끝\n",
    "        print(f\"Best Val Epoch:{best_epoch}, Val Loss : {best_loss}, Val Acc:{best_acc}, Best Val F1:{best_f1}\")\n",
    "        end = time.time()\n",
    "        print(f\"Total Process time:{(end - start) / 60:.3f}Minute\")\n",
    "        run[\"Best result\"] = {\n",
    "            \"Best_epoch\" : best_epoch,\n",
    "            \"Best_loss\" : best_loss,\n",
    "            \"best_acc\" : best_acc,\n",
    "            \"best_f1\" : best_f1,\n",
    "        }\n",
    "        run.stop()# neptune stop\n",
    "        \n",
    "        \n",
    "    def training(self, args):\n",
    "        self.model.train()\n",
    "        train_loss = Loss_setting()\n",
    "        train_acc = 0\n",
    "        preds_list = []\n",
    "        labels_list = []\n",
    "\n",
    "        scaler = grad_scaler.GradScaler()\n",
    "\n",
    "        for i, (images, labels) in enumerate(tqdm(self.train_loader)):\n",
    "            images = torch.tensor(images, device=self.device, dtype=torch.float32)\n",
    "            labels = torch.tensor(labels, device=self.device, dtype=torch.long)\n",
    "\n",
    "            if self.epoch <= args.warm_epoch:\n",
    "                self.warmup_scheduler.step()\n",
    "\n",
    "            self.model.zero_grad(set_to_none=True)\n",
    "\n",
    "            with autocast():\n",
    "                preds = self.model(images)\n",
    "                loss = self.criterion(preds, labels)\n",
    "            scaler.scale(loss).backward()\n",
    "            scaler.step(self.optimizer)\n",
    "            scaler.update()\n",
    "\n",
    "            # Metric\n",
    "            train_acc += (preds.argmax(dim=1) == labels).sum().item()\n",
    "            preds_list.extend(preds.argmax(dim=1).cpu().detach().numpy())\n",
    "            labels_list.extend(labels.cpu().detach().numpy())\n",
    "            train_loss.update(loss.item(), n=images.size(0))\n",
    "                \n",
    "                \n",
    "        train_acc /= len(self.train_loader.dataset)\n",
    "        train_f1 = f1_score(np.array(labels_list), np.array(preds_list), average='macro')\n",
    "\n",
    "        print(f'Epoch:[{self.epoch}/{args.epochs}]')\n",
    "        print(f'Train Loss:{train_loss.avg} | Acc:{train_acc} | F1:{train_f1}')\n",
    "\n",
    "        return train_loss.avg, train_acc, train_f1\n",
    "                \n",
    "\n",
    "    def validate(self, phase='val'):\n",
    "        self.model.eval()\n",
    "        with torch.no_grad():\n",
    "            val_loss = Loss_setting()\n",
    "            val_acc = 0\n",
    "            preds_list = []\n",
    "            labels_list = []\n",
    "\n",
    "            for images, labels in tqdm(self.val_loader):\n",
    "                images = torch.tensor(images, device=self.device, dtype=torch.float32)\n",
    "                labels = torch.tensor(labels, device=self.device, dtype=torch.long)\n",
    "\n",
    "                preds = self.model(images)\n",
    "                loss = self.criterion(preds, labels)\n",
    "\n",
    "                val_acc += (preds.argmax(dim=1) == labels).sum().item()\n",
    "                preds_list.extend(preds.argmax(dim=1).cpu().detach().numpy())\n",
    "                labels_list.extend(labels.cpu().detach().numpy())\n",
    "\n",
    "                val_loss.update(loss.item(), n=images.size(0))\n",
    "            val_acc /= len(self.val_loader.dataset)\n",
    "            val_f1 = f1_score(np.array(labels_list), np.array(preds_list), average='macro')\n",
    "\n",
    "            print(f'{phase} Loss:{val_loss.avg} | Acc:{val_acc} | F1:{val_f1}')\n",
    "\n",
    "        return val_loss.avg, val_acc, val_f1"
   ]
  },
  {
   "cell_type": "markdown",
   "id": "323cad6a",
   "metadata": {},
   "source": [
    "# 학습"
   ]
  },
  {
   "cell_type": "code",
   "execution_count": null,
   "id": "0ed17c80",
   "metadata": {},
   "outputs": [
    {
     "name": "stdout",
     "output_type": "stream",
     "text": [
      "https://app.neptune.ai/twogudak/Petfrineds/e/PET-43\n",
      "Remember to stop your run once you’ve finished logging your metadata (https://docs.neptune.ai/api-reference/run#.stop). It will be stopped automatically only when the notebook kernel/interactive console is terminated.\n",
      "데이터셋 생성 완료,,\n",
      " 데이터셋 사이즈 : 8260\n",
      "데이터셋 생성 완료,,\n",
      " 데이터셋 사이즈 : 2065\n",
      "Loaded pretrained weights for efficientnet-b0\n",
      "Macs : 25.64 MMac\n",
      "params : ['4.02 M']\n"
     ]
    },
    {
     "name": "stderr",
     "output_type": "stream",
     "text": [
      "100%|█████████████████████████████████████████| 104/104 [01:02<00:00,  1.68it/s]\n"
     ]
    },
    {
     "name": "stdout",
     "output_type": "stream",
     "text": [
      "Epoch:[1/200]\n",
      "Train Loss:1.9403604098728724 | Acc:0.16476997578692493 | F1:0.14072222331410447\n"
     ]
    },
    {
     "name": "stderr",
     "output_type": "stream",
     "text": [
      "100%|███████████████████████████████████████████| 26/26 [00:05<00:00,  4.66it/s]\n"
     ]
    },
    {
     "name": "stdout",
     "output_type": "stream",
     "text": [
      "val Loss:1.950740357288148 | Acc:0.1486682808716707 | F1:0.1320459274916654\n",
      "SAVE: 1epoch\n"
     ]
    },
    {
     "name": "stderr",
     "output_type": "stream",
     "text": [
      "100%|█████████████████████████████████████████| 104/104 [00:47<00:00,  2.19it/s]\n"
     ]
    },
    {
     "name": "stdout",
     "output_type": "stream",
     "text": [
      "Epoch:[2/200]\n",
      "Train Loss:1.9396932396415358 | Acc:0.16888619854721548 | F1:0.14214260129263495\n"
     ]
    },
    {
     "name": "stderr",
     "output_type": "stream",
     "text": [
      "100%|███████████████████████████████████████████| 26/26 [00:05<00:00,  5.01it/s]\n"
     ]
    },
    {
     "name": "stdout",
     "output_type": "stream",
     "text": [
      "val Loss:1.942925599239063 | Acc:0.17191283292978207 | F1:0.1389581980590962\n",
      "SAVE: 2epoch\n"
     ]
    },
    {
     "name": "stderr",
     "output_type": "stream",
     "text": [
      "100%|█████████████████████████████████████████| 104/104 [00:47<00:00,  2.20it/s]\n"
     ]
    },
    {
     "name": "stdout",
     "output_type": "stream",
     "text": [
      "Epoch:[3/200]\n",
      "Train Loss:1.9348131522139393 | Acc:0.1738498789346247 | F1:0.14417342247880693\n"
     ]
    },
    {
     "name": "stderr",
     "output_type": "stream",
     "text": [
      "100%|███████████████████████████████████████████| 26/26 [00:05<00:00,  5.08it/s]\n"
     ]
    },
    {
     "name": "stdout",
     "output_type": "stream",
     "text": [
      "val Loss:1.9359163175772236 | Acc:0.17772397094430992 | F1:0.14116775338964238\n",
      "SAVE: 3epoch\n"
     ]
    },
    {
     "name": "stderr",
     "output_type": "stream",
     "text": [
      "100%|█████████████████████████████████████████| 104/104 [00:49<00:00,  2.12it/s]\n"
     ]
    },
    {
     "name": "stdout",
     "output_type": "stream",
     "text": [
      "Epoch:[4/200]\n",
      "Train Loss:1.9203931327016244 | Acc:0.19225181598062954 | F1:0.15793742018291285\n"
     ]
    },
    {
     "name": "stderr",
     "output_type": "stream",
     "text": [
      "100%|███████████████████████████████████████████| 26/26 [00:05<00:00,  4.95it/s]\n"
     ]
    },
    {
     "name": "stdout",
     "output_type": "stream",
     "text": [
      "val Loss:1.907893570225695 | Acc:0.22421307506053267 | F1:0.17121582063617272\n",
      "SAVE: 4epoch\n"
     ]
    },
    {
     "name": "stderr",
     "output_type": "stream",
     "text": [
      "100%|█████████████████████████████████████████| 104/104 [00:48<00:00,  2.14it/s]\n"
     ]
    },
    {
     "name": "stdout",
     "output_type": "stream",
     "text": [
      "Epoch:[5/200]\n",
      "Train Loss:1.8937956380497745 | Acc:0.2391041162227603 | F1:0.18967555766243624\n"
     ]
    },
    {
     "name": "stderr",
     "output_type": "stream",
     "text": [
      "100%|███████████████████████████████████████████| 26/26 [00:05<00:00,  5.05it/s]\n"
     ]
    },
    {
     "name": "stdout",
     "output_type": "stream",
     "text": [
      "val Loss:1.8808080422676217 | Acc:0.2595641646489104 | F1:0.19540505124948268\n",
      "SAVE: 5epoch\n"
     ]
    },
    {
     "name": "stderr",
     "output_type": "stream",
     "text": [
      "100%|█████████████████████████████████████████| 104/104 [00:48<00:00,  2.15it/s]\n"
     ]
    },
    {
     "name": "stdout",
     "output_type": "stream",
     "text": [
      "Epoch:[6/200]\n",
      "Train Loss:1.8611577596271875 | Acc:0.287409200968523 | F1:0.22753272299154723\n"
     ]
    },
    {
     "name": "stderr",
     "output_type": "stream",
     "text": [
      "100%|███████████████████████████████████████████| 26/26 [00:05<00:00,  5.04it/s]\n"
     ]
    },
    {
     "name": "stdout",
     "output_type": "stream",
     "text": [
      "val Loss:1.8566113603605774 | Acc:0.28958837772397095 | F1:0.22347609082528752\n",
      "SAVE: 6epoch\n"
     ]
    },
    {
     "name": "stderr",
     "output_type": "stream",
     "text": [
      "100%|█████████████████████████████████████████| 104/104 [00:48<00:00,  2.17it/s]\n"
     ]
    },
    {
     "name": "stdout",
     "output_type": "stream",
     "text": [
      "Epoch:[7/200]\n",
      "Train Loss:1.836645922418368 | Acc:0.32142857142857145 | F1:0.25152890209760065\n"
     ]
    },
    {
     "name": "stderr",
     "output_type": "stream",
     "text": [
      "100%|███████████████████████████████████████████| 26/26 [00:05<00:00,  5.04it/s]\n"
     ]
    },
    {
     "name": "stdout",
     "output_type": "stream",
     "text": [
      "val Loss:1.8314824465112016 | Acc:0.3167070217917676 | F1:0.2528495609294756\n",
      "SAVE: 7epoch\n"
     ]
    },
    {
     "name": "stderr",
     "output_type": "stream",
     "text": [
      "100%|█████████████████████████████████████████| 104/104 [00:47<00:00,  2.17it/s]\n"
     ]
    },
    {
     "name": "stdout",
     "output_type": "stream",
     "text": [
      "Epoch:[8/200]\n",
      "Train Loss:1.807855532475303 | Acc:0.3447941888619855 | F1:0.2638000053117163\n"
     ]
    },
    {
     "name": "stderr",
     "output_type": "stream",
     "text": [
      "100%|███████████████████████████████████████████| 26/26 [00:05<00:00,  4.99it/s]\n"
     ]
    },
    {
     "name": "stdout",
     "output_type": "stream",
     "text": [
      "val Loss:1.8054959118799205 | Acc:0.3447941888619855 | F1:0.27799258301372254\n",
      "SAVE: 8epoch\n"
     ]
    },
    {
     "name": "stderr",
     "output_type": "stream",
     "text": [
      "100%|█████████████████████████████████████████| 104/104 [00:47<00:00,  2.17it/s]\n"
     ]
    },
    {
     "name": "stdout",
     "output_type": "stream",
     "text": [
      "Epoch:[9/200]\n",
      "Train Loss:1.7821642541423548 | Acc:0.3688861985472155 | F1:0.2817073801764587\n"
     ]
    },
    {
     "name": "stderr",
     "output_type": "stream",
     "text": [
      "100%|███████████████████████████████████████████| 26/26 [00:05<00:00,  5.06it/s]\n"
     ]
    },
    {
     "name": "stdout",
     "output_type": "stream",
     "text": [
      "val Loss:1.7791499808683233 | Acc:0.36803874092009686 | F1:0.29627624333816704\n",
      "SAVE: 9epoch\n"
     ]
    },
    {
     "name": "stderr",
     "output_type": "stream",
     "text": [
      "100%|█████████████████████████████████████████| 104/104 [00:48<00:00,  2.17it/s]\n"
     ]
    },
    {
     "name": "stdout",
     "output_type": "stream",
     "text": [
      "Epoch:[10/200]\n",
      "Train Loss:1.7516590633923437 | Acc:0.39213075060532687 | F1:0.299395607019163\n"
     ]
    },
    {
     "name": "stderr",
     "output_type": "stream",
     "text": [
      "100%|███████████████████████████████████████████| 26/26 [00:05<00:00,  5.03it/s]\n"
     ]
    },
    {
     "name": "stdout",
     "output_type": "stream",
     "text": [
      "val Loss:1.7517451835890947 | Acc:0.39322033898305087 | F1:0.31590903772942674\n",
      "SAVE: 10epoch\n"
     ]
    },
    {
     "name": "stderr",
     "output_type": "stream",
     "text": [
      "100%|█████████████████████████████████████████| 104/104 [00:47<00:00,  2.17it/s]\n"
     ]
    },
    {
     "name": "stdout",
     "output_type": "stream",
     "text": [
      "Epoch:[11/200]\n",
      "Train Loss:1.714244987139113 | Acc:0.4221549636803874 | F1:0.319614058084193\n"
     ]
    },
    {
     "name": "stderr",
     "output_type": "stream",
     "text": [
      "100%|███████████████████████████████████████████| 26/26 [00:05<00:00,  5.07it/s]\n"
     ]
    },
    {
     "name": "stdout",
     "output_type": "stream",
     "text": [
      "val Loss:1.7253574271467638 | Acc:0.4038740920096852 | F1:0.32766796083874195\n",
      "SAVE: 11epoch\n"
     ]
    },
    {
     "name": "stderr",
     "output_type": "stream",
     "text": [
      "100%|█████████████████████████████████████████| 104/104 [00:48<00:00,  2.16it/s]\n"
     ]
    },
    {
     "name": "stdout",
     "output_type": "stream",
     "text": [
      "Epoch:[12/200]\n",
      "Train Loss:1.6875611537882549 | Acc:0.42893462469733656 | F1:0.32890750260759527\n"
     ]
    },
    {
     "name": "stderr",
     "output_type": "stream",
     "text": [
      "100%|███████████████████████████████████████████| 26/26 [00:05<00:00,  5.05it/s]\n"
     ]
    },
    {
     "name": "stdout",
     "output_type": "stream",
     "text": [
      "val Loss:1.6949417536252924 | Acc:0.42033898305084744 | F1:0.3380205609070435\n",
      "SAVE: 12epoch\n"
     ]
    },
    {
     "name": "stderr",
     "output_type": "stream",
     "text": [
      "100%|█████████████████████████████████████████| 104/104 [00:48<00:00,  2.16it/s]\n"
     ]
    },
    {
     "name": "stdout",
     "output_type": "stream",
     "text": [
      "Epoch:[13/200]\n",
      "Train Loss:1.654265101827663 | Acc:0.4311138014527845 | F1:0.3288209303153976\n"
     ]
    },
    {
     "name": "stderr",
     "output_type": "stream",
     "text": [
      "100%|███████████████████████████████████████████| 26/26 [00:05<00:00,  5.04it/s]\n"
     ]
    },
    {
     "name": "stdout",
     "output_type": "stream",
     "text": [
      "val Loss:1.669180907291015 | Acc:0.43050847457627117 | F1:0.3498570054060089\n",
      "SAVE: 13epoch\n"
     ]
    },
    {
     "name": "stderr",
     "output_type": "stream",
     "text": [
      "100%|█████████████████████████████████████████| 104/104 [00:47<00:00,  2.17it/s]\n"
     ]
    },
    {
     "name": "stdout",
     "output_type": "stream",
     "text": [
      "Epoch:[14/200]\n",
      "Train Loss:1.618647463385187 | Acc:0.4460048426150121 | F1:0.34006969288302474\n"
     ]
    },
    {
     "name": "stderr",
     "output_type": "stream",
     "text": [
      "100%|███████████████████████████████████████████| 26/26 [00:05<00:00,  5.01it/s]\n"
     ]
    },
    {
     "name": "stdout",
     "output_type": "stream",
     "text": [
      "val Loss:1.63529365576497 | Acc:0.44164648910411625 | F1:0.35385397746415803\n",
      "SAVE: 14epoch\n"
     ]
    },
    {
     "name": "stderr",
     "output_type": "stream",
     "text": [
      "100%|█████████████████████████████████████████| 104/104 [00:47<00:00,  2.17it/s]\n"
     ]
    },
    {
     "name": "stdout",
     "output_type": "stream",
     "text": [
      "Epoch:[15/200]\n",
      "Train Loss:1.5877805789504156 | Acc:0.45460048426150124 | F1:0.34686221833182984\n"
     ]
    },
    {
     "name": "stderr",
     "output_type": "stream",
     "text": [
      "100%|███████████████████████████████████████████| 26/26 [00:05<00:00,  5.10it/s]\n"
     ]
    },
    {
     "name": "stdout",
     "output_type": "stream",
     "text": [
      "val Loss:1.6039587934715696 | Acc:0.45278450363196127 | F1:0.3648829391179455\n",
      "SAVE: 15epoch\n"
     ]
    },
    {
     "name": "stderr",
     "output_type": "stream",
     "text": [
      "100%|█████████████████████████████████████████| 104/104 [00:47<00:00,  2.17it/s]\n"
     ]
    },
    {
     "name": "stdout",
     "output_type": "stream",
     "text": [
      "Epoch:[16/200]\n",
      "Train Loss:1.5528344851140536 | Acc:0.46973365617433416 | F1:0.36390182115341985\n"
     ]
    },
    {
     "name": "stderr",
     "output_type": "stream",
     "text": [
      "100%|███████████████████████████████████████████| 26/26 [00:05<00:00,  5.02it/s]\n"
     ]
    },
    {
     "name": "stdout",
     "output_type": "stream",
     "text": [
      "val Loss:1.5741240986900238 | Acc:0.4610169491525424 | F1:0.3662229515488838\n",
      "SAVE: 16epoch\n"
     ]
    },
    {
     "name": "stderr",
     "output_type": "stream",
     "text": [
      "100%|█████████████████████████████████████████| 104/104 [00:47<00:00,  2.18it/s]\n"
     ]
    },
    {
     "name": "stdout",
     "output_type": "stream",
     "text": [
      "Epoch:[17/200]\n",
      "Train Loss:1.5187336056342136 | Acc:0.473002421307506 | F1:0.3626378113445147\n"
     ]
    },
    {
     "name": "stderr",
     "output_type": "stream",
     "text": [
      "100%|███████████████████████████████████████████| 26/26 [00:05<00:00,  5.02it/s]\n"
     ]
    },
    {
     "name": "stdout",
     "output_type": "stream",
     "text": [
      "val Loss:1.5425109444749845 | Acc:0.47070217917675544 | F1:0.3743274936120189\n",
      "SAVE: 17epoch\n"
     ]
    },
    {
     "name": "stderr",
     "output_type": "stream",
     "text": [
      "100%|█████████████████████████████████████████| 104/104 [00:47<00:00,  2.18it/s]\n"
     ]
    },
    {
     "name": "stdout",
     "output_type": "stream",
     "text": [
      "Epoch:[18/200]\n",
      "Train Loss:1.490543491037937 | Acc:0.48559322033898306 | F1:0.37385686013721386\n"
     ]
    },
    {
     "name": "stderr",
     "output_type": "stream",
     "text": [
      "100%|███████████████████████████████████████████| 26/26 [00:05<00:00,  5.12it/s]\n"
     ]
    },
    {
     "name": "stdout",
     "output_type": "stream",
     "text": [
      "val Loss:1.5156566987026112 | Acc:0.4828087167070218 | F1:0.38309934082651415\n",
      "SAVE: 18epoch\n"
     ]
    },
    {
     "name": "stderr",
     "output_type": "stream",
     "text": [
      "100%|█████████████████████████████████████████| 104/104 [00:47<00:00,  2.17it/s]\n"
     ]
    },
    {
     "name": "stdout",
     "output_type": "stream",
     "text": [
      "Epoch:[19/200]\n",
      "Train Loss:1.4551332585748114 | Acc:0.49612590799031475 | F1:0.38025656681118963\n"
     ]
    },
    {
     "name": "stderr",
     "output_type": "stream",
     "text": [
      "100%|███████████████████████████████████████████| 26/26 [00:05<00:00,  5.08it/s]\n"
     ]
    },
    {
     "name": "stdout",
     "output_type": "stream",
     "text": [
      "val Loss:1.4866279601762138 | Acc:0.49297820823244554 | F1:0.39089483364240263\n",
      "SAVE: 19epoch\n"
     ]
    },
    {
     "name": "stderr",
     "output_type": "stream",
     "text": [
      "100%|█████████████████████████████████████████| 104/104 [00:47<00:00,  2.18it/s]\n"
     ]
    },
    {
     "name": "stdout",
     "output_type": "stream",
     "text": [
      "Epoch:[20/200]\n",
      "Train Loss:1.4299945331947568 | Acc:0.5029055690072639 | F1:0.3908723105570507\n"
     ]
    },
    {
     "name": "stderr",
     "output_type": "stream",
     "text": [
      "100%|███████████████████████████████████████████| 26/26 [00:05<00:00,  5.06it/s]\n"
     ]
    },
    {
     "name": "stdout",
     "output_type": "stream",
     "text": [
      "val Loss:1.4556170042432826 | Acc:0.5002421307506053 | F1:0.39805356188367635\n",
      "SAVE: 20epoch\n"
     ]
    },
    {
     "name": "stderr",
     "output_type": "stream",
     "text": [
      "100%|█████████████████████████████████████████| 104/104 [00:48<00:00,  2.16it/s]\n"
     ]
    },
    {
     "name": "stdout",
     "output_type": "stream",
     "text": [
      "Epoch:[21/200]\n",
      "Train Loss:1.398022373998425 | Acc:0.5102905569007264 | F1:0.3979340645967116\n"
     ]
    },
    {
     "name": "stderr",
     "output_type": "stream",
     "text": [
      "100%|███████████████████████████████████████████| 26/26 [00:05<00:00,  5.03it/s]\n"
     ]
    },
    {
     "name": "stdout",
     "output_type": "stream",
     "text": [
      "val Loss:1.4313347137580483 | Acc:0.5108958837772397 | F1:0.41014923338784964\n",
      "SAVE: 21epoch\n"
     ]
    },
    {
     "name": "stderr",
     "output_type": "stream",
     "text": [
      "100%|█████████████████████████████████████████| 104/104 [00:47<00:00,  2.18it/s]\n"
     ]
    },
    {
     "name": "stdout",
     "output_type": "stream",
     "text": [
      "Epoch:[22/200]\n",
      "Train Loss:1.3721710475247362 | Acc:0.5245762711864407 | F1:0.4129840645675126\n"
     ]
    },
    {
     "name": "stderr",
     "output_type": "stream",
     "text": [
      "100%|███████████████████████████████████████████| 26/26 [00:05<00:00,  5.08it/s]\n"
     ]
    },
    {
     "name": "stdout",
     "output_type": "stream",
     "text": [
      "val Loss:1.4062250497554751 | Acc:0.5108958837772397 | F1:0.40867223329575963\n",
      "SAVE: 22epoch\n"
     ]
    },
    {
     "name": "stderr",
     "output_type": "stream",
     "text": [
      "100%|█████████████████████████████████████████| 104/104 [00:47<00:00,  2.17it/s]\n"
     ]
    },
    {
     "name": "stdout",
     "output_type": "stream",
     "text": [
      "Epoch:[23/200]\n",
      "Train Loss:1.3483227557766524 | Acc:0.5309927360774819 | F1:0.4193393154244826\n"
     ]
    },
    {
     "name": "stderr",
     "output_type": "stream",
     "text": [
      "100%|███████████████████████████████████████████| 26/26 [00:05<00:00,  5.00it/s]\n"
     ]
    },
    {
     "name": "stdout",
     "output_type": "stream",
     "text": [
      "val Loss:1.3862476832352886 | Acc:0.5225181598062953 | F1:0.41993331051797317\n",
      "SAVE: 23epoch\n"
     ]
    },
    {
     "name": "stderr",
     "output_type": "stream",
     "text": [
      "100%|█████████████████████████████████████████| 104/104 [00:47<00:00,  2.17it/s]\n"
     ]
    },
    {
     "name": "stdout",
     "output_type": "stream",
     "text": [
      "Epoch:[24/200]\n",
      "Train Loss:1.3275595046128834 | Acc:0.5375302663438256 | F1:0.4251039194721624\n"
     ]
    },
    {
     "name": "stderr",
     "output_type": "stream",
     "text": [
      "100%|███████████████████████████████████████████| 26/26 [00:05<00:00,  5.09it/s]\n"
     ]
    },
    {
     "name": "stdout",
     "output_type": "stream",
     "text": [
      "val Loss:1.3614844186254045 | Acc:0.5263922518159806 | F1:0.4238936424462281\n",
      "SAVE: 24epoch\n"
     ]
    },
    {
     "name": "stderr",
     "output_type": "stream",
     "text": [
      "100%|█████████████████████████████████████████| 104/104 [00:48<00:00,  2.17it/s]\n"
     ]
    },
    {
     "name": "stdout",
     "output_type": "stream",
     "text": [
      "Epoch:[25/200]\n",
      "Train Loss:1.3013604449302174 | Acc:0.5467312348668281 | F1:0.434439854459535\n"
     ]
    },
    {
     "name": "stderr",
     "output_type": "stream",
     "text": [
      "100%|███████████████████████████████████████████| 26/26 [00:05<00:00,  5.05it/s]\n"
     ]
    },
    {
     "name": "stdout",
     "output_type": "stream",
     "text": [
      "val Loss:1.3407034479965598 | Acc:0.5268765133171913 | F1:0.4231600162346797\n",
      "SAVE: 25epoch\n"
     ]
    },
    {
     "name": "stderr",
     "output_type": "stream",
     "text": [
      "100%|█████████████████████████████████████████| 104/104 [00:47<00:00,  2.18it/s]\n"
     ]
    },
    {
     "name": "stdout",
     "output_type": "stream",
     "text": [
      "Epoch:[26/200]\n",
      "Train Loss:1.2783791049052093 | Acc:0.550363196125908 | F1:0.43568907665049733\n"
     ]
    },
    {
     "name": "stderr",
     "output_type": "stream",
     "text": [
      "100%|███████████████████████████████████████████| 26/26 [00:05<00:00,  4.98it/s]\n"
     ]
    },
    {
     "name": "stdout",
     "output_type": "stream",
     "text": [
      "val Loss:1.3230787863454287 | Acc:0.5312348668280872 | F1:0.42984032536970346\n",
      "SAVE: 26epoch\n"
     ]
    },
    {
     "name": "stderr",
     "output_type": "stream",
     "text": [
      "100%|█████████████████████████████████████████| 104/104 [00:47<00:00,  2.17it/s]\n"
     ]
    },
    {
     "name": "stdout",
     "output_type": "stream",
     "text": [
      "Epoch:[27/200]\n",
      "Train Loss:1.2591281364385498 | Acc:0.5602905569007264 | F1:0.448290909842971\n"
     ]
    },
    {
     "name": "stderr",
     "output_type": "stream",
     "text": [
      "100%|███████████████████████████████████████████| 26/26 [00:05<00:00,  5.12it/s]\n"
     ]
    },
    {
     "name": "stdout",
     "output_type": "stream",
     "text": [
      "val Loss:1.30886497350351 | Acc:0.5351089588377724 | F1:0.4363545854364403\n",
      "SAVE: 27epoch\n"
     ]
    },
    {
     "name": "stderr",
     "output_type": "stream",
     "text": [
      "100%|█████████████████████████████████████████| 104/104 [00:47<00:00,  2.18it/s]\n"
     ]
    },
    {
     "name": "stdout",
     "output_type": "stream",
     "text": [
      "Epoch:[28/200]\n",
      "Train Loss:1.2393697650322903 | Acc:0.5691283292978209 | F1:0.4575609359313621\n"
     ]
    },
    {
     "name": "stderr",
     "output_type": "stream",
     "text": [
      "100%|███████████████████████████████████████████| 26/26 [00:05<00:00,  5.06it/s]\n"
     ]
    },
    {
     "name": "stdout",
     "output_type": "stream",
     "text": [
      "val Loss:1.287097760609218 | Acc:0.5404358353510896 | F1:0.4404423833006287\n",
      "SAVE: 28epoch\n"
     ]
    },
    {
     "name": "stderr",
     "output_type": "stream",
     "text": [
      "100%|█████████████████████████████████████████| 104/104 [00:48<00:00,  2.16it/s]\n"
     ]
    },
    {
     "name": "stdout",
     "output_type": "stream",
     "text": [
      "Epoch:[29/200]\n",
      "Train Loss:1.2192864065886122 | Acc:0.573002421307506 | F1:0.46316954983064795\n"
     ]
    },
    {
     "name": "stderr",
     "output_type": "stream",
     "text": [
      "100%|███████████████████████████████████████████| 26/26 [00:05<00:00,  5.12it/s]\n"
     ]
    },
    {
     "name": "stdout",
     "output_type": "stream",
     "text": [
      "val Loss:1.273414624949633 | Acc:0.5452784503631961 | F1:0.4467473100089748\n",
      "SAVE: 29epoch\n"
     ]
    },
    {
     "name": "stderr",
     "output_type": "stream",
     "text": [
      "100%|█████████████████████████████████████████| 104/104 [00:47<00:00,  2.18it/s]\n"
     ]
    },
    {
     "name": "stdout",
     "output_type": "stream",
     "text": [
      "Epoch:[30/200]\n",
      "Train Loss:1.2003759318922103 | Acc:0.5837772397094431 | F1:0.47752212055237503\n"
     ]
    },
    {
     "name": "stderr",
     "output_type": "stream",
     "text": [
      "100%|███████████████████████████████████████████| 26/26 [00:05<00:00,  5.03it/s]\n"
     ]
    },
    {
     "name": "stdout",
     "output_type": "stream",
     "text": [
      "val Loss:1.255083710893303 | Acc:0.5530266343825666 | F1:0.4556766180394177\n",
      "SAVE: 30epoch\n"
     ]
    },
    {
     "name": "stderr",
     "output_type": "stream",
     "text": [
      "100%|█████████████████████████████████████████| 104/104 [00:48<00:00,  2.17it/s]\n"
     ]
    },
    {
     "name": "stdout",
     "output_type": "stream",
     "text": [
      "Epoch:[31/200]\n",
      "Train Loss:1.189948827822041 | Acc:0.5904358353510896 | F1:0.4883569368290718\n"
     ]
    },
    {
     "name": "stderr",
     "output_type": "stream",
     "text": [
      "100%|███████████████████████████████████████████| 26/26 [00:05<00:00,  5.06it/s]\n"
     ]
    },
    {
     "name": "stdout",
     "output_type": "stream",
     "text": [
      "val Loss:1.2403507648310996 | Acc:0.5544794188861986 | F1:0.45678134570492424\n",
      "SAVE: 31epoch\n"
     ]
    },
    {
     "name": "stderr",
     "output_type": "stream",
     "text": [
      "100%|█████████████████████████████████████████| 104/104 [00:47<00:00,  2.17it/s]\n"
     ]
    },
    {
     "name": "stdout",
     "output_type": "stream",
     "text": [
      "Epoch:[32/200]\n",
      "Train Loss:1.1581228166169173 | Acc:0.5967312348668281 | F1:0.48943959355780464\n"
     ]
    },
    {
     "name": "stderr",
     "output_type": "stream",
     "text": [
      "100%|███████████████████████████████████████████| 26/26 [00:05<00:00,  5.06it/s]\n"
     ]
    },
    {
     "name": "stdout",
     "output_type": "stream",
     "text": [
      "val Loss:1.223811506647752 | Acc:0.5627118644067797 | F1:0.4673544624740408\n",
      "SAVE: 32epoch\n"
     ]
    },
    {
     "name": "stderr",
     "output_type": "stream",
     "text": [
      "100%|█████████████████████████████████████████| 104/104 [00:47<00:00,  2.17it/s]\n"
     ]
    },
    {
     "name": "stdout",
     "output_type": "stream",
     "text": [
      "Epoch:[33/200]\n",
      "Train Loss:1.1469936500738667 | Acc:0.599636803874092 | F1:0.49760212535960846\n"
     ]
    },
    {
     "name": "stderr",
     "output_type": "stream",
     "text": [
      "100%|███████████████████████████████████████████| 26/26 [00:05<00:00,  4.97it/s]\n"
     ]
    },
    {
     "name": "stdout",
     "output_type": "stream",
     "text": [
      "val Loss:1.212360328969886 | Acc:0.5699757869249394 | F1:0.47239418573424763\n",
      "SAVE: 33epoch\n"
     ]
    },
    {
     "name": "stderr",
     "output_type": "stream",
     "text": [
      "100%|█████████████████████████████████████████| 104/104 [00:47<00:00,  2.17it/s]\n"
     ]
    },
    {
     "name": "stdout",
     "output_type": "stream",
     "text": [
      "Epoch:[34/200]\n",
      "Train Loss:1.1309677651084364 | Acc:0.6069007263922518 | F1:0.5054792879889031\n"
     ]
    },
    {
     "name": "stderr",
     "output_type": "stream",
     "text": [
      "100%|███████████████████████████████████████████| 26/26 [00:05<00:00,  5.04it/s]\n"
     ]
    },
    {
     "name": "stdout",
     "output_type": "stream",
     "text": [
      "val Loss:1.1924730309851233 | Acc:0.5777239709443099 | F1:0.4815232351220562\n",
      "SAVE: 34epoch\n"
     ]
    },
    {
     "name": "stderr",
     "output_type": "stream",
     "text": [
      "100%|█████████████████████████████████████████| 104/104 [00:47<00:00,  2.17it/s]\n"
     ]
    },
    {
     "name": "stdout",
     "output_type": "stream",
     "text": [
      "Epoch:[35/200]\n",
      "Train Loss:1.1130792811765509 | Acc:0.6099273607748184 | F1:0.5069844717771834\n"
     ]
    },
    {
     "name": "stderr",
     "output_type": "stream",
     "text": [
      "100%|███████████████████████████████████████████| 26/26 [00:05<00:00,  5.06it/s]\n"
     ]
    },
    {
     "name": "stdout",
     "output_type": "stream",
     "text": [
      "val Loss:1.180640809472479 | Acc:0.5825665859564164 | F1:0.4895743002077823\n",
      "SAVE: 35epoch\n"
     ]
    },
    {
     "name": "stderr",
     "output_type": "stream",
     "text": [
      "100%|█████████████████████████████████████████| 104/104 [00:47<00:00,  2.18it/s]\n"
     ]
    },
    {
     "name": "stdout",
     "output_type": "stream",
     "text": [
      "Epoch:[36/200]\n",
      "Train Loss:1.0982775543850214 | Acc:0.6184019370460049 | F1:0.5216897876171952\n"
     ]
    },
    {
     "name": "stderr",
     "output_type": "stream",
     "text": [
      "100%|███████████████████████████████████████████| 26/26 [00:05<00:00,  5.04it/s]\n"
     ]
    },
    {
     "name": "stdout",
     "output_type": "stream",
     "text": [
      "val Loss:1.1684716515621896 | Acc:0.5854721549636804 | F1:0.4940199960128656\n",
      "SAVE: 36epoch\n"
     ]
    },
    {
     "name": "stderr",
     "output_type": "stream",
     "text": [
      "100%|█████████████████████████████████████████| 104/104 [00:47<00:00,  2.17it/s]\n"
     ]
    },
    {
     "name": "stdout",
     "output_type": "stream",
     "text": [
      "Epoch:[37/200]\n",
      "Train Loss:1.0825815053598067 | Acc:0.6222760290556901 | F1:0.5283882886383401\n"
     ]
    },
    {
     "name": "stderr",
     "output_type": "stream",
     "text": [
      "100%|███████████████████████████████████████████| 26/26 [00:05<00:00,  5.06it/s]\n"
     ]
    },
    {
     "name": "stdout",
     "output_type": "stream",
     "text": [
      "val Loss:1.1577894823314492 | Acc:0.5883777239709443 | F1:0.4968591253697751\n",
      "SAVE: 37epoch\n"
     ]
    },
    {
     "name": "stderr",
     "output_type": "stream",
     "text": [
      "100%|█████████████████████████████████████████| 104/104 [00:47<00:00,  2.17it/s]\n"
     ]
    },
    {
     "name": "stdout",
     "output_type": "stream",
     "text": [
      "Epoch:[38/200]\n",
      "Train Loss:1.0632742054525934 | Acc:0.6305084745762712 | F1:0.5440277786495705\n"
     ]
    },
    {
     "name": "stderr",
     "output_type": "stream",
     "text": [
      "100%|███████████████████████████████████████████| 26/26 [00:05<00:00,  5.03it/s]\n"
     ]
    },
    {
     "name": "stdout",
     "output_type": "stream",
     "text": [
      "val Loss:1.1398810096283514 | Acc:0.6029055690072639 | F1:0.5141251102820935\n",
      "SAVE: 38epoch\n"
     ]
    },
    {
     "name": "stderr",
     "output_type": "stream",
     "text": [
      "100%|█████████████████████████████████████████| 104/104 [00:47<00:00,  2.17it/s]\n"
     ]
    },
    {
     "name": "stdout",
     "output_type": "stream",
     "text": [
      "Epoch:[39/200]\n",
      "Train Loss:1.0561211406462996 | Acc:0.634503631961259 | F1:0.5463361186130846\n"
     ]
    },
    {
     "name": "stderr",
     "output_type": "stream",
     "text": [
      "100%|███████████████████████████████████████████| 26/26 [00:05<00:00,  5.07it/s]\n"
     ]
    },
    {
     "name": "stdout",
     "output_type": "stream",
     "text": [
      "val Loss:1.1300794095450395 | Acc:0.6038740920096852 | F1:0.5159776382466456\n",
      "SAVE: 39epoch\n"
     ]
    },
    {
     "name": "stderr",
     "output_type": "stream",
     "text": [
      "100%|█████████████████████████████████████████| 104/104 [00:48<00:00,  2.17it/s]\n"
     ]
    },
    {
     "name": "stdout",
     "output_type": "stream",
     "text": [
      "Epoch:[40/200]\n",
      "Train Loss:1.0389232600860965 | Acc:0.6359564164648911 | F1:0.5485845287872108\n"
     ]
    },
    {
     "name": "stderr",
     "output_type": "stream",
     "text": [
      "100%|███████████████████████████████████████████| 26/26 [00:05<00:00,  5.02it/s]\n"
     ]
    },
    {
     "name": "stdout",
     "output_type": "stream",
     "text": [
      "val Loss:1.1169780943064656 | Acc:0.6077481840193705 | F1:0.5218156377321387\n",
      "SAVE: 40epoch\n"
     ]
    },
    {
     "name": "stderr",
     "output_type": "stream",
     "text": [
      "100%|█████████████████████████████████████████| 104/104 [00:47<00:00,  2.17it/s]\n"
     ]
    },
    {
     "name": "stdout",
     "output_type": "stream",
     "text": [
      "Epoch:[41/200]\n",
      "Train Loss:1.0265518346075284 | Acc:0.6422518159806295 | F1:0.5575230065846063\n"
     ]
    },
    {
     "name": "stderr",
     "output_type": "stream",
     "text": [
      "100%|███████████████████████████████████████████| 26/26 [00:05<00:00,  5.00it/s]\n"
     ]
    },
    {
     "name": "stdout",
     "output_type": "stream",
     "text": [
      "val Loss:1.1102646811533783 | Acc:0.6053268765133172 | F1:0.5212677212340545\n",
      "SAVE: 41epoch\n"
     ]
    },
    {
     "name": "stderr",
     "output_type": "stream",
     "text": [
      "100%|█████████████████████████████████████████| 104/104 [00:47<00:00,  2.17it/s]\n"
     ]
    },
    {
     "name": "stdout",
     "output_type": "stream",
     "text": [
      "Epoch:[42/200]\n",
      "Train Loss:1.0120660949850198 | Acc:0.6486682808716707 | F1:0.5629103216883997\n"
     ]
    },
    {
     "name": "stderr",
     "output_type": "stream",
     "text": [
      "100%|███████████████████████████████████████████| 26/26 [00:05<00:00,  5.03it/s]\n"
     ]
    },
    {
     "name": "stdout",
     "output_type": "stream",
     "text": [
      "val Loss:1.1037975435684149 | Acc:0.6082324455205811 | F1:0.5273834068148193\n",
      "SAVE: 42epoch\n"
     ]
    },
    {
     "name": "stderr",
     "output_type": "stream",
     "text": [
      "100%|█████████████████████████████████████████| 104/104 [00:48<00:00,  2.16it/s]\n"
     ]
    },
    {
     "name": "stdout",
     "output_type": "stream",
     "text": [
      "Epoch:[43/200]\n",
      "Train Loss:0.9999799976625974 | Acc:0.6486682808716707 | F1:0.5657760054945362\n"
     ]
    },
    {
     "name": "stderr",
     "output_type": "stream",
     "text": [
      "100%|███████████████████████████████████████████| 26/26 [00:05<00:00,  5.02it/s]\n"
     ]
    },
    {
     "name": "stdout",
     "output_type": "stream",
     "text": [
      "val Loss:1.089630522970426 | Acc:0.6135593220338983 | F1:0.5309670523315299\n",
      "SAVE: 43epoch\n"
     ]
    },
    {
     "name": "stderr",
     "output_type": "stream",
     "text": [
      "100%|█████████████████████████████████████████| 104/104 [00:47<00:00,  2.18it/s]\n"
     ]
    },
    {
     "name": "stdout",
     "output_type": "stream",
     "text": [
      "Epoch:[44/200]\n",
      "Train Loss:0.9804045524781899 | Acc:0.6544794188861985 | F1:0.578223690524225\n"
     ]
    },
    {
     "name": "stderr",
     "output_type": "stream",
     "text": [
      "100%|███████████████████████████████████████████| 26/26 [00:05<00:00,  5.08it/s]\n"
     ]
    },
    {
     "name": "stdout",
     "output_type": "stream",
     "text": [
      "val Loss:1.0741257254782948 | Acc:0.6242130750605327 | F1:0.5436936131806108\n",
      "SAVE: 44epoch\n"
     ]
    },
    {
     "name": "stderr",
     "output_type": "stream",
     "text": [
      "100%|█████████████████████████████████████████| 104/104 [00:48<00:00,  2.16it/s]\n"
     ]
    },
    {
     "name": "stdout",
     "output_type": "stream",
     "text": [
      "Epoch:[45/200]\n",
      "Train Loss:0.973608851144158 | Acc:0.6537530266343826 | F1:0.5756185036014164\n"
     ]
    },
    {
     "name": "stderr",
     "output_type": "stream",
     "text": [
      "100%|███████████████████████████████████████████| 26/26 [00:05<00:00,  4.99it/s]\n"
     ]
    },
    {
     "name": "stdout",
     "output_type": "stream",
     "text": [
      "val Loss:1.0672291344072282 | Acc:0.6198547215496368 | F1:0.5389319316174923\n",
      "SAVE: 45epoch\n"
     ]
    },
    {
     "name": "stderr",
     "output_type": "stream",
     "text": [
      "100%|█████████████████████████████████████████| 104/104 [00:47<00:00,  2.18it/s]\n"
     ]
    },
    {
     "name": "stdout",
     "output_type": "stream",
     "text": [
      "Epoch:[46/200]\n",
      "Train Loss:0.9680748346642778 | Acc:0.662953995157385 | F1:0.585367534769191\n"
     ]
    },
    {
     "name": "stderr",
     "output_type": "stream",
     "text": [
      "100%|███████████████████████████████████████████| 26/26 [00:05<00:00,  5.00it/s]\n"
     ]
    },
    {
     "name": "stdout",
     "output_type": "stream",
     "text": [
      "val Loss:1.0586838023714522 | Acc:0.6198547215496368 | F1:0.5400091756915659\n",
      "SAVE: 46epoch\n"
     ]
    },
    {
     "name": "stderr",
     "output_type": "stream",
     "text": [
      "100%|█████████████████████████████████████████| 104/104 [00:47<00:00,  2.17it/s]\n"
     ]
    },
    {
     "name": "stdout",
     "output_type": "stream",
     "text": [
      "Epoch:[47/200]\n",
      "Train Loss:0.9488945655326289 | Acc:0.6663438256658596 | F1:0.5935861733030936\n"
     ]
    },
    {
     "name": "stderr",
     "output_type": "stream",
     "text": [
      "100%|███████████████████████████████████████████| 26/26 [00:05<00:00,  5.00it/s]\n"
     ]
    },
    {
     "name": "stdout",
     "output_type": "stream",
     "text": [
      "val Loss:1.0570791813998188 | Acc:0.6174334140435835 | F1:0.5413921813971098\n",
      "SAVE: 47epoch\n"
     ]
    },
    {
     "name": "stderr",
     "output_type": "stream",
     "text": [
      "100%|█████████████████████████████████████████| 104/104 [00:48<00:00,  2.17it/s]\n"
     ]
    },
    {
     "name": "stdout",
     "output_type": "stream",
     "text": [
      "Epoch:[48/200]\n",
      "Train Loss:0.9406418422232529 | Acc:0.674455205811138 | F1:0.6028236841174616\n"
     ]
    },
    {
     "name": "stderr",
     "output_type": "stream",
     "text": [
      "100%|███████████████████████████████████████████| 26/26 [00:05<00:00,  5.15it/s]\n"
     ]
    },
    {
     "name": "stdout",
     "output_type": "stream",
     "text": [
      "val Loss:1.0446586637750954 | Acc:0.6217917675544794 | F1:0.546565841351214\n",
      "SAVE: 48epoch\n"
     ]
    },
    {
     "name": "stderr",
     "output_type": "stream",
     "text": [
      "100%|█████████████████████████████████████████| 104/104 [00:47<00:00,  2.17it/s]\n"
     ]
    },
    {
     "name": "stdout",
     "output_type": "stream",
     "text": [
      "Epoch:[49/200]\n",
      "Train Loss:0.933485525572271 | Acc:0.6720338983050848 | F1:0.6008773116644457\n"
     ]
    },
    {
     "name": "stderr",
     "output_type": "stream",
     "text": [
      "100%|███████████████████████████████████████████| 26/26 [00:05<00:00,  5.07it/s]\n"
     ]
    },
    {
     "name": "stdout",
     "output_type": "stream",
     "text": [
      "val Loss:1.0355643107585122 | Acc:0.6276029055690072 | F1:0.5524060965982293\n",
      "SAVE: 49epoch\n"
     ]
    },
    {
     "name": "stderr",
     "output_type": "stream",
     "text": [
      "100%|█████████████████████████████████████████| 104/104 [00:47<00:00,  2.18it/s]\n"
     ]
    },
    {
     "name": "stdout",
     "output_type": "stream",
     "text": [
      "Epoch:[50/200]\n",
      "Train Loss:0.9199816808284916 | Acc:0.6728813559322034 | F1:0.5996551467448804\n"
     ]
    },
    {
     "name": "stderr",
     "output_type": "stream",
     "text": [
      "100%|███████████████████████████████████████████| 26/26 [00:05<00:00,  5.04it/s]\n"
     ]
    },
    {
     "name": "stdout",
     "output_type": "stream",
     "text": [
      "val Loss:1.0223849298878962 | Acc:0.6334140435835351 | F1:0.5611034768087906\n",
      "SAVE: 50epoch\n"
     ]
    },
    {
     "name": "stderr",
     "output_type": "stream",
     "text": [
      "100%|█████████████████████████████████████████| 104/104 [00:47<00:00,  2.17it/s]\n"
     ]
    },
    {
     "name": "stdout",
     "output_type": "stream",
     "text": [
      "Epoch:[51/200]\n",
      "Train Loss:0.9002887348285887 | Acc:0.6825665859564165 | F1:0.6087550814019348\n"
     ]
    },
    {
     "name": "stderr",
     "output_type": "stream",
     "text": [
      "100%|███████████████████████████████████████████| 26/26 [00:05<00:00,  5.03it/s]\n"
     ]
    },
    {
     "name": "stdout",
     "output_type": "stream",
     "text": [
      "val Loss:1.0154239454511869 | Acc:0.639225181598063 | F1:0.5657891238304674\n",
      "SAVE: 51epoch\n"
     ]
    },
    {
     "name": "stderr",
     "output_type": "stream",
     "text": [
      "100%|█████████████████████████████████████████| 104/104 [00:47<00:00,  2.17it/s]\n"
     ]
    },
    {
     "name": "stdout",
     "output_type": "stream",
     "text": [
      "Epoch:[52/200]\n",
      "Train Loss:0.8933582168803088 | Acc:0.6841404358353511 | F1:0.6156823397934627\n"
     ]
    },
    {
     "name": "stderr",
     "output_type": "stream",
     "text": [
      "100%|███████████████████████████████████████████| 26/26 [00:05<00:00,  5.04it/s]\n"
     ]
    },
    {
     "name": "stdout",
     "output_type": "stream",
     "text": [
      "val Loss:1.013019536078409 | Acc:0.636319612590799 | F1:0.5610292999394902\n",
      "SAVE: 52epoch\n"
     ]
    },
    {
     "name": "stderr",
     "output_type": "stream",
     "text": [
      "100%|█████████████████████████████████████████| 104/104 [00:47<00:00,  2.17it/s]\n"
     ]
    },
    {
     "name": "stdout",
     "output_type": "stream",
     "text": [
      "Epoch:[53/200]\n",
      "Train Loss:0.8899908455463068 | Acc:0.6826876513317192 | F1:0.6146088877627708\n"
     ]
    },
    {
     "name": "stderr",
     "output_type": "stream",
     "text": [
      "100%|███████████████████████████████████████████| 26/26 [00:05<00:00,  5.13it/s]\n"
     ]
    },
    {
     "name": "stdout",
     "output_type": "stream",
     "text": [
      "val Loss:1.0013699266004217 | Acc:0.6435835351089588 | F1:0.5690959641593218\n",
      "SAVE: 53epoch\n"
     ]
    },
    {
     "name": "stderr",
     "output_type": "stream",
     "text": [
      "100%|█████████████████████████████████████████| 104/104 [00:47<00:00,  2.17it/s]\n"
     ]
    },
    {
     "name": "stdout",
     "output_type": "stream",
     "text": [
      "Epoch:[54/200]\n",
      "Train Loss:0.8810817730628838 | Acc:0.6858353510895884 | F1:0.6218228840695138\n"
     ]
    },
    {
     "name": "stderr",
     "output_type": "stream",
     "text": [
      "100%|███████████████████████████████████████████| 26/26 [00:05<00:00,  5.03it/s]\n"
     ]
    },
    {
     "name": "stdout",
     "output_type": "stream",
     "text": [
      "val Loss:1.0017029640172352 | Acc:0.6411622276029055 | F1:0.5656224356247456\n"
     ]
    },
    {
     "name": "stderr",
     "output_type": "stream",
     "text": [
      "100%|█████████████████████████████████████████| 104/104 [00:47<00:00,  2.18it/s]\n"
     ]
    },
    {
     "name": "stdout",
     "output_type": "stream",
     "text": [
      "Epoch:[55/200]\n",
      "Train Loss:0.8711472993612867 | Acc:0.6918886198547215 | F1:0.6264743660947488\n"
     ]
    },
    {
     "name": "stderr",
     "output_type": "stream",
     "text": [
      "100%|███████████████████████████████████████████| 26/26 [00:05<00:00,  5.03it/s]\n"
     ]
    },
    {
     "name": "stdout",
     "output_type": "stream",
     "text": [
      "val Loss:0.9902131358301379 | Acc:0.6450363196125908 | F1:0.5724859761847034\n",
      "SAVE: 55epoch\n"
     ]
    },
    {
     "name": "stderr",
     "output_type": "stream",
     "text": [
      "100%|█████████████████████████████████████████| 104/104 [00:47<00:00,  2.17it/s]\n"
     ]
    },
    {
     "name": "stdout",
     "output_type": "stream",
     "text": [
      "Epoch:[56/200]\n",
      "Train Loss:0.8617174890947689 | Acc:0.6927360774818402 | F1:0.6278132064151831\n"
     ]
    },
    {
     "name": "stderr",
     "output_type": "stream",
     "text": [
      "100%|███████████████████████████████████████████| 26/26 [00:05<00:00,  5.09it/s]\n"
     ]
    },
    {
     "name": "stdout",
     "output_type": "stream",
     "text": [
      "val Loss:0.9828730160618521 | Acc:0.648910411622276 | F1:0.5766396059552739\n",
      "SAVE: 56epoch\n"
     ]
    },
    {
     "name": "stderr",
     "output_type": "stream",
     "text": [
      "100%|█████████████████████████████████████████| 104/104 [00:47<00:00,  2.17it/s]\n"
     ]
    },
    {
     "name": "stdout",
     "output_type": "stream",
     "text": [
      "Epoch:[57/200]\n",
      "Train Loss:0.8451685234363084 | Acc:0.7025423728813559 | F1:0.6398504396339576\n"
     ]
    },
    {
     "name": "stderr",
     "output_type": "stream",
     "text": [
      "100%|███████████████████████████████████████████| 26/26 [00:05<00:00,  5.09it/s]\n"
     ]
    },
    {
     "name": "stdout",
     "output_type": "stream",
     "text": [
      "val Loss:0.9773660664408317 | Acc:0.6566585956416465 | F1:0.5869153179830998\n",
      "SAVE: 57epoch\n"
     ]
    },
    {
     "name": "stderr",
     "output_type": "stream",
     "text": [
      "100%|█████████████████████████████████████████| 104/104 [00:47<00:00,  2.18it/s]\n"
     ]
    },
    {
     "name": "stdout",
     "output_type": "stream",
     "text": [
      "Epoch:[58/200]\n",
      "Train Loss:0.8350271054387959 | Acc:0.7031476997578693 | F1:0.6363680712760784\n"
     ]
    },
    {
     "name": "stderr",
     "output_type": "stream",
     "text": [
      "100%|███████████████████████████████████████████| 26/26 [00:05<00:00,  4.99it/s]\n"
     ]
    },
    {
     "name": "stdout",
     "output_type": "stream",
     "text": [
      "val Loss:0.9781547799237416 | Acc:0.6542372881355932 | F1:0.5818746586488553\n"
     ]
    },
    {
     "name": "stderr",
     "output_type": "stream",
     "text": [
      "100%|█████████████████████████████████████████| 104/104 [00:47<00:00,  2.17it/s]\n"
     ]
    },
    {
     "name": "stdout",
     "output_type": "stream",
     "text": [
      "Epoch:[59/200]\n",
      "Train Loss:0.8291219875541207 | Acc:0.7070217917675545 | F1:0.6438697146213942\n"
     ]
    },
    {
     "name": "stderr",
     "output_type": "stream",
     "text": [
      "100%|███████████████████████████████████████████| 26/26 [00:05<00:00,  5.09it/s]\n"
     ]
    },
    {
     "name": "stdout",
     "output_type": "stream",
     "text": [
      "val Loss:0.9755466044959376 | Acc:0.6537530266343826 | F1:0.5831360253490604\n",
      "SAVE: 59epoch\n"
     ]
    },
    {
     "name": "stderr",
     "output_type": "stream",
     "text": [
      "100%|█████████████████████████████████████████| 104/104 [00:47<00:00,  2.17it/s]\n"
     ]
    },
    {
     "name": "stdout",
     "output_type": "stream",
     "text": [
      "Epoch:[60/200]\n",
      "Train Loss:0.8273682452864566 | Acc:0.7098062953995158 | F1:0.6499498128137643\n"
     ]
    },
    {
     "name": "stderr",
     "output_type": "stream",
     "text": [
      "100%|███████████████████████████████████████████| 26/26 [00:05<00:00,  5.08it/s]\n"
     ]
    },
    {
     "name": "stdout",
     "output_type": "stream",
     "text": [
      "val Loss:0.9644267492663774 | Acc:0.6581113801452785 | F1:0.5873022099915405\n",
      "SAVE: 60epoch\n"
     ]
    },
    {
     "name": "stderr",
     "output_type": "stream",
     "text": [
      "100%|█████████████████████████████████████████| 104/104 [00:47<00:00,  2.19it/s]\n"
     ]
    },
    {
     "name": "stdout",
     "output_type": "stream",
     "text": [
      "Epoch:[61/200]\n",
      "Train Loss:0.8173811028713753 | Acc:0.7071428571428572 | F1:0.6429214490716522\n"
     ]
    },
    {
     "name": "stderr",
     "output_type": "stream",
     "text": [
      "100%|███████████████████████████████████████████| 26/26 [00:05<00:00,  5.01it/s]\n"
     ]
    },
    {
     "name": "stdout",
     "output_type": "stream",
     "text": [
      "val Loss:0.9563810256722476 | Acc:0.6576271186440678 | F1:0.5881469626566771\n",
      "SAVE: 61epoch\n"
     ]
    },
    {
     "name": "stderr",
     "output_type": "stream",
     "text": [
      "100%|█████████████████████████████████████████| 104/104 [00:47<00:00,  2.17it/s]\n"
     ]
    },
    {
     "name": "stdout",
     "output_type": "stream",
     "text": [
      "Epoch:[62/200]\n",
      "Train Loss:0.8068455856013818 | Acc:0.7102905569007264 | F1:0.6486869873926012\n"
     ]
    },
    {
     "name": "stderr",
     "output_type": "stream",
     "text": [
      "100%|███████████████████████████████████████████| 26/26 [00:05<00:00,  5.06it/s]\n"
     ]
    },
    {
     "name": "stdout",
     "output_type": "stream",
     "text": [
      "val Loss:0.9591907011683282 | Acc:0.6605326876513318 | F1:0.5905069814916999\n"
     ]
    },
    {
     "name": "stderr",
     "output_type": "stream",
     "text": [
      "100%|█████████████████████████████████████████| 104/104 [00:47<00:00,  2.17it/s]\n"
     ]
    },
    {
     "name": "stdout",
     "output_type": "stream",
     "text": [
      "Epoch:[63/200]\n",
      "Train Loss:0.7980187012843301 | Acc:0.7152542372881356 | F1:0.6577140205601294\n"
     ]
    },
    {
     "name": "stderr",
     "output_type": "stream",
     "text": [
      "100%|███████████████████████████████████████████| 26/26 [00:05<00:00,  5.02it/s]\n"
     ]
    },
    {
     "name": "stdout",
     "output_type": "stream",
     "text": [
      "val Loss:0.9472866694805986 | Acc:0.6639225181598063 | F1:0.5957879330507769\n",
      "SAVE: 63epoch\n"
     ]
    },
    {
     "name": "stderr",
     "output_type": "stream",
     "text": [
      "100%|█████████████████████████████████████████| 104/104 [00:47<00:00,  2.17it/s]\n"
     ]
    },
    {
     "name": "stdout",
     "output_type": "stream",
     "text": [
      "Epoch:[64/200]\n",
      "Train Loss:0.7813736079102855 | Acc:0.7234866828087168 | F1:0.6622375787668207\n"
     ]
    },
    {
     "name": "stderr",
     "output_type": "stream",
     "text": [
      "100%|███████████████████████████████████████████| 26/26 [00:05<00:00,  5.06it/s]\n"
     ]
    },
    {
     "name": "stdout",
     "output_type": "stream",
     "text": [
      "val Loss:0.9438135623931885 | Acc:0.6707021791767555 | F1:0.6013703559364613\n",
      "SAVE: 64epoch\n"
     ]
    },
    {
     "name": "stderr",
     "output_type": "stream",
     "text": [
      "100%|█████████████████████████████████████████| 104/104 [00:47<00:00,  2.17it/s]\n"
     ]
    },
    {
     "name": "stdout",
     "output_type": "stream",
     "text": [
      "Epoch:[65/200]\n",
      "Train Loss:0.7787760579845807 | Acc:0.7234866828087168 | F1:0.6652235064207609\n"
     ]
    },
    {
     "name": "stderr",
     "output_type": "stream",
     "text": [
      "100%|███████████████████████████████████████████| 26/26 [00:05<00:00,  4.98it/s]\n"
     ]
    },
    {
     "name": "stdout",
     "output_type": "stream",
     "text": [
      "val Loss:0.9495771502755744 | Acc:0.661501210653753 | F1:0.5931352479631872\n"
     ]
    },
    {
     "name": "stderr",
     "output_type": "stream",
     "text": [
      "100%|█████████████████████████████████████████| 104/104 [00:47<00:00,  2.17it/s]\n"
     ]
    },
    {
     "name": "stdout",
     "output_type": "stream",
     "text": [
      "Epoch:[66/200]\n",
      "Train Loss:0.7710460303193432 | Acc:0.725181598062954 | F1:0.6674210066156814\n"
     ]
    },
    {
     "name": "stderr",
     "output_type": "stream",
     "text": [
      "100%|███████████████████████████████████████████| 26/26 [00:05<00:00,  5.00it/s]\n"
     ]
    },
    {
     "name": "stdout",
     "output_type": "stream",
     "text": [
      "val Loss:0.9401232171578211 | Acc:0.6692493946731235 | F1:0.6038482314127401\n",
      "SAVE: 66epoch\n"
     ]
    },
    {
     "name": "stderr",
     "output_type": "stream",
     "text": [
      "100%|█████████████████████████████████████████| 104/104 [00:47<00:00,  2.18it/s]\n"
     ]
    },
    {
     "name": "stdout",
     "output_type": "stream",
     "text": [
      "Epoch:[67/200]\n",
      "Train Loss:0.7648135220167424 | Acc:0.7305084745762712 | F1:0.6720280474730871\n"
     ]
    },
    {
     "name": "stderr",
     "output_type": "stream",
     "text": [
      "100%|███████████████████████████████████████████| 26/26 [00:05<00:00,  5.06it/s]\n"
     ]
    },
    {
     "name": "stdout",
     "output_type": "stream",
     "text": [
      "val Loss:0.9392863190202967 | Acc:0.6673123486682808 | F1:0.601318190458695\n",
      "SAVE: 67epoch\n"
     ]
    },
    {
     "name": "stderr",
     "output_type": "stream",
     "text": [
      "100%|█████████████████████████████████████████| 104/104 [00:47<00:00,  2.17it/s]\n"
     ]
    },
    {
     "name": "stdout",
     "output_type": "stream",
     "text": [
      "Epoch:[68/200]\n",
      "Train Loss:0.7518154840203809 | Acc:0.7372881355932204 | F1:0.678188641384789\n"
     ]
    },
    {
     "name": "stderr",
     "output_type": "stream",
     "text": [
      "100%|███████████████████████████████████████████| 26/26 [00:05<00:00,  5.02it/s]\n"
     ]
    },
    {
     "name": "stdout",
     "output_type": "stream",
     "text": [
      "val Loss:0.928841871874673 | Acc:0.6707021791767555 | F1:0.6045665755571729\n",
      "SAVE: 68epoch\n"
     ]
    },
    {
     "name": "stderr",
     "output_type": "stream",
     "text": [
      "100%|█████████████████████████████████████████| 104/104 [00:47<00:00,  2.18it/s]\n"
     ]
    },
    {
     "name": "stdout",
     "output_type": "stream",
     "text": [
      "Epoch:[69/200]\n",
      "Train Loss:0.7452012004632926 | Acc:0.7387409200968523 | F1:0.6798538948514327\n"
     ]
    },
    {
     "name": "stderr",
     "output_type": "stream",
     "text": [
      "100%|███████████████████████████████████████████| 26/26 [00:05<00:00,  5.12it/s]\n"
     ]
    },
    {
     "name": "stdout",
     "output_type": "stream",
     "text": [
      "val Loss:0.9368662603253602 | Acc:0.6663438256658596 | F1:0.5991411609526488\n"
     ]
    },
    {
     "name": "stderr",
     "output_type": "stream",
     "text": [
      "100%|█████████████████████████████████████████| 104/104 [00:47<00:00,  2.17it/s]\n"
     ]
    },
    {
     "name": "stdout",
     "output_type": "stream",
     "text": [
      "Epoch:[70/200]\n",
      "Train Loss:0.745287483598649 | Acc:0.7382566585956416 | F1:0.6855771039494571\n"
     ]
    },
    {
     "name": "stderr",
     "output_type": "stream",
     "text": [
      "100%|███████████████████████████████████████████| 26/26 [00:05<00:00,  5.02it/s]\n"
     ]
    },
    {
     "name": "stdout",
     "output_type": "stream",
     "text": [
      "val Loss:0.9264251243404268 | Acc:0.6702179176755448 | F1:0.6056226657422744\n",
      "SAVE: 70epoch\n"
     ]
    },
    {
     "name": "stderr",
     "output_type": "stream",
     "text": [
      "100%|█████████████████████████████████████████| 104/104 [00:47<00:00,  2.17it/s]\n"
     ]
    },
    {
     "name": "stdout",
     "output_type": "stream",
     "text": [
      "Epoch:[71/200]\n",
      "Train Loss:0.733856957703468 | Acc:0.7398305084745763 | F1:0.6847634469419394\n"
     ]
    },
    {
     "name": "stderr",
     "output_type": "stream",
     "text": [
      "100%|███████████████████████████████████████████| 26/26 [00:05<00:00,  5.00it/s]\n"
     ]
    },
    {
     "name": "stdout",
     "output_type": "stream",
     "text": [
      "val Loss:0.9227826000703161 | Acc:0.6731234866828087 | F1:0.609015947609862\n",
      "SAVE: 71epoch\n"
     ]
    },
    {
     "name": "stderr",
     "output_type": "stream",
     "text": [
      "100%|█████████████████████████████████████████| 104/104 [00:47<00:00,  2.18it/s]\n"
     ]
    },
    {
     "name": "stdout",
     "output_type": "stream",
     "text": [
      "Epoch:[72/200]\n",
      "Train Loss:0.7243269690589812 | Acc:0.7421307506053268 | F1:0.6870975635800299\n"
     ]
    },
    {
     "name": "stderr",
     "output_type": "stream",
     "text": [
      "100%|███████████████████████████████████████████| 26/26 [00:05<00:00,  5.06it/s]\n"
     ]
    },
    {
     "name": "stdout",
     "output_type": "stream",
     "text": [
      "val Loss:0.9210430018549681 | Acc:0.6707021791767555 | F1:0.6088078406478855\n",
      "SAVE: 72epoch\n"
     ]
    },
    {
     "name": "stderr",
     "output_type": "stream",
     "text": [
      "100%|█████████████████████████████████████████| 104/104 [00:48<00:00,  2.16it/s]\n"
     ]
    },
    {
     "name": "stdout",
     "output_type": "stream",
     "text": [
      "Epoch:[73/200]\n",
      "Train Loss:0.7187633144942092 | Acc:0.7445520581113801 | F1:0.6902527845714632\n"
     ]
    },
    {
     "name": "stderr",
     "output_type": "stream",
     "text": [
      "100%|███████████████████████████████████████████| 26/26 [00:05<00:00,  5.09it/s]\n"
     ]
    },
    {
     "name": "stdout",
     "output_type": "stream",
     "text": [
      "val Loss:0.9161675846605555 | Acc:0.6779661016949152 | F1:0.6159051221184523\n",
      "SAVE: 73epoch\n"
     ]
    },
    {
     "name": "stderr",
     "output_type": "stream",
     "text": [
      "100%|█████████████████████████████████████████| 104/104 [00:47<00:00,  2.18it/s]\n"
     ]
    },
    {
     "name": "stdout",
     "output_type": "stream",
     "text": [
      "Epoch:[74/200]\n",
      "Train Loss:0.7071562677838323 | Acc:0.7509685230024213 | F1:0.694819683164382\n"
     ]
    },
    {
     "name": "stderr",
     "output_type": "stream",
     "text": [
      "100%|███████████████████████████████████████████| 26/26 [00:05<00:00,  5.05it/s]\n"
     ]
    },
    {
     "name": "stdout",
     "output_type": "stream",
     "text": [
      "val Loss:0.9140201083973014 | Acc:0.6760290556900727 | F1:0.6131540317797091\n",
      "SAVE: 74epoch\n"
     ]
    },
    {
     "name": "stderr",
     "output_type": "stream",
     "text": [
      "100%|█████████████████████████████████████████| 104/104 [00:47<00:00,  2.18it/s]\n"
     ]
    },
    {
     "name": "stdout",
     "output_type": "stream",
     "text": [
      "Epoch:[75/200]\n",
      "Train Loss:0.7030689072666676 | Acc:0.750363196125908 | F1:0.6980248003664038\n"
     ]
    },
    {
     "name": "stderr",
     "output_type": "stream",
     "text": [
      "100%|███████████████████████████████████████████| 26/26 [00:05<00:00,  5.07it/s]\n"
     ]
    },
    {
     "name": "stdout",
     "output_type": "stream",
     "text": [
      "val Loss:0.9073865956313385 | Acc:0.6823244552058111 | F1:0.6212817869699687\n",
      "SAVE: 75epoch\n"
     ]
    },
    {
     "name": "stderr",
     "output_type": "stream",
     "text": [
      "100%|█████████████████████████████████████████| 104/104 [00:47<00:00,  2.19it/s]\n"
     ]
    },
    {
     "name": "stdout",
     "output_type": "stream",
     "text": [
      "Epoch:[76/200]\n",
      "Train Loss:0.6939125072580851 | Acc:0.7515738498789346 | F1:0.698346641329591\n"
     ]
    },
    {
     "name": "stderr",
     "output_type": "stream",
     "text": [
      "100%|███████████████████████████████████████████| 26/26 [00:05<00:00,  5.00it/s]\n"
     ]
    },
    {
     "name": "stdout",
     "output_type": "stream",
     "text": [
      "val Loss:0.9162908828576021 | Acc:0.67409200968523 | F1:0.6087251737796654\n"
     ]
    },
    {
     "name": "stderr",
     "output_type": "stream",
     "text": [
      "100%|█████████████████████████████████████████| 104/104 [00:47<00:00,  2.18it/s]\n"
     ]
    },
    {
     "name": "stdout",
     "output_type": "stream",
     "text": [
      "Epoch:[77/200]\n",
      "Train Loss:0.6827181280380877 | Acc:0.761138014527845 | F1:0.7080587214564753\n"
     ]
    },
    {
     "name": "stderr",
     "output_type": "stream",
     "text": [
      "100%|███████████████████████████████████████████| 26/26 [00:05<00:00,  5.04it/s]\n"
     ]
    },
    {
     "name": "stdout",
     "output_type": "stream",
     "text": [
      "val Loss:0.9096420769541373 | Acc:0.6765133171912833 | F1:0.612657368382631\n"
     ]
    },
    {
     "name": "stderr",
     "output_type": "stream",
     "text": [
      "100%|█████████████████████████████████████████| 104/104 [00:47<00:00,  2.18it/s]\n"
     ]
    },
    {
     "name": "stdout",
     "output_type": "stream",
     "text": [
      "Epoch:[78/200]\n",
      "Train Loss:0.6942037257386178 | Acc:0.7596852300242131 | F1:0.7085914616467777\n"
     ]
    },
    {
     "name": "stderr",
     "output_type": "stream",
     "text": [
      "100%|███████████████████████████████████████████| 26/26 [00:05<00:00,  5.04it/s]\n"
     ]
    },
    {
     "name": "stdout",
     "output_type": "stream",
     "text": [
      "val Loss:0.9050965522738403 | Acc:0.6799031476997579 | F1:0.617380502812878\n",
      "SAVE: 78epoch\n"
     ]
    },
    {
     "name": "stderr",
     "output_type": "stream",
     "text": [
      "100%|█████████████████████████████████████████| 104/104 [00:47<00:00,  2.17it/s]\n"
     ]
    },
    {
     "name": "stdout",
     "output_type": "stream",
     "text": [
      "Epoch:[79/200]\n",
      "Train Loss:0.6800697965425672 | Acc:0.7635593220338983 | F1:0.7108463302885982\n"
     ]
    },
    {
     "name": "stderr",
     "output_type": "stream",
     "text": [
      "100%|███████████████████████████████████████████| 26/26 [00:05<00:00,  5.02it/s]\n"
     ]
    },
    {
     "name": "stdout",
     "output_type": "stream",
     "text": [
      "val Loss:0.9107891865273077 | Acc:0.6818401937046005 | F1:0.6198917394298261\n"
     ]
    },
    {
     "name": "stderr",
     "output_type": "stream",
     "text": [
      "100%|█████████████████████████████████████████| 104/104 [00:47<00:00,  2.18it/s]\n"
     ]
    },
    {
     "name": "stdout",
     "output_type": "stream",
     "text": [
      "Epoch:[80/200]\n",
      "Train Loss:0.6735016474134986 | Acc:0.7628329297820823 | F1:0.7103977479254258\n"
     ]
    },
    {
     "name": "stderr",
     "output_type": "stream",
     "text": [
      "100%|███████████████████████████████████████████| 26/26 [00:05<00:00,  5.02it/s]\n"
     ]
    },
    {
     "name": "stdout",
     "output_type": "stream",
     "text": [
      "val Loss:0.9066177271757518 | Acc:0.6847457627118644 | F1:0.6234101420694877\n"
     ]
    },
    {
     "name": "stderr",
     "output_type": "stream",
     "text": [
      "100%|█████████████████████████████████████████| 104/104 [00:47<00:00,  2.18it/s]\n"
     ]
    },
    {
     "name": "stdout",
     "output_type": "stream",
     "text": [
      "Epoch:[81/200]\n",
      "Train Loss:0.670889699718854 | Acc:0.764769975786925 | F1:0.7128245728598526\n"
     ]
    },
    {
     "name": "stderr",
     "output_type": "stream",
     "text": [
      "100%|███████████████████████████████████████████| 26/26 [00:05<00:00,  5.06it/s]\n"
     ]
    },
    {
     "name": "stdout",
     "output_type": "stream",
     "text": [
      "val Loss:0.9003014967170235 | Acc:0.6891041162227602 | F1:0.625469732033798\n",
      "SAVE: 81epoch\n"
     ]
    },
    {
     "name": "stderr",
     "output_type": "stream",
     "text": [
      "100%|█████████████████████████████████████████| 104/104 [00:47<00:00,  2.17it/s]\n"
     ]
    },
    {
     "name": "stdout",
     "output_type": "stream",
     "text": [
      "Epoch:[82/200]\n",
      "Train Loss:0.6530580699588139 | Acc:0.7705811138014528 | F1:0.7205991504939829\n"
     ]
    },
    {
     "name": "stderr",
     "output_type": "stream",
     "text": [
      "100%|███████████████████████████████████████████| 26/26 [00:05<00:00,  5.08it/s]\n"
     ]
    },
    {
     "name": "stdout",
     "output_type": "stream",
     "text": [
      "val Loss:0.8918177680299588 | Acc:0.6871670702179177 | F1:0.6254816080952265\n",
      "SAVE: 82epoch\n"
     ]
    },
    {
     "name": "stderr",
     "output_type": "stream",
     "text": [
      "100%|█████████████████████████████████████████| 104/104 [00:47<00:00,  2.17it/s]\n"
     ]
    },
    {
     "name": "stdout",
     "output_type": "stream",
     "text": [
      "Epoch:[83/200]\n",
      "Train Loss:0.6527803121698393 | Acc:0.7699757869249395 | F1:0.7188863501673682\n"
     ]
    },
    {
     "name": "stderr",
     "output_type": "stream",
     "text": [
      "100%|███████████████████████████████████████████| 26/26 [00:05<00:00,  5.00it/s]\n"
     ]
    },
    {
     "name": "stdout",
     "output_type": "stream",
     "text": [
      "val Loss:0.8981437951542852 | Acc:0.6837772397094432 | F1:0.6214086969516307\n"
     ]
    },
    {
     "name": "stderr",
     "output_type": "stream",
     "text": [
      "100%|█████████████████████████████████████████| 104/104 [00:47<00:00,  2.17it/s]\n"
     ]
    },
    {
     "name": "stdout",
     "output_type": "stream",
     "text": [
      "Epoch:[84/200]\n",
      "Train Loss:0.6431331993881207 | Acc:0.77590799031477 | F1:0.7263242153922903\n"
     ]
    },
    {
     "name": "stderr",
     "output_type": "stream",
     "text": [
      "100%|███████████████████████████████████████████| 26/26 [00:05<00:00,  5.01it/s]\n"
     ]
    },
    {
     "name": "stdout",
     "output_type": "stream",
     "text": [
      "val Loss:0.8965839404459438 | Acc:0.6794188861985472 | F1:0.6168986091567543\n"
     ]
    },
    {
     "name": "stderr",
     "output_type": "stream",
     "text": [
      "100%|█████████████████████████████████████████| 104/104 [00:47<00:00,  2.18it/s]\n"
     ]
    },
    {
     "name": "stdout",
     "output_type": "stream",
     "text": [
      "Epoch:[85/200]\n",
      "Train Loss:0.641747958723627 | Acc:0.7743341404358354 | F1:0.725318790783975\n"
     ]
    },
    {
     "name": "stderr",
     "output_type": "stream",
     "text": [
      "100%|███████████████████████████████████████████| 26/26 [00:05<00:00,  5.09it/s]\n"
     ]
    },
    {
     "name": "stdout",
     "output_type": "stream",
     "text": [
      "val Loss:0.8917389812250114 | Acc:0.6891041162227602 | F1:0.6265314804822429\n",
      "SAVE: 85epoch\n"
     ]
    },
    {
     "name": "stderr",
     "output_type": "stream",
     "text": [
      "100%|█████████████████████████████████████████| 104/104 [00:47<00:00,  2.17it/s]\n"
     ]
    },
    {
     "name": "stdout",
     "output_type": "stream",
     "text": [
      "Epoch:[86/200]\n",
      "Train Loss:0.6278299064382226 | Acc:0.7791767554479418 | F1:0.7306667455878363\n"
     ]
    },
    {
     "name": "stderr",
     "output_type": "stream",
     "text": [
      "100%|███████████████████████████████████████████| 26/26 [00:05<00:00,  5.11it/s]\n"
     ]
    },
    {
     "name": "stdout",
     "output_type": "stream",
     "text": [
      "val Loss:0.8849611293894327 | Acc:0.6910411622276029 | F1:0.628428141256034\n",
      "SAVE: 86epoch\n"
     ]
    },
    {
     "name": "stderr",
     "output_type": "stream",
     "text": [
      "100%|█████████████████████████████████████████| 104/104 [00:47<00:00,  2.18it/s]\n"
     ]
    },
    {
     "name": "stdout",
     "output_type": "stream",
     "text": [
      "Epoch:[87/200]\n",
      "Train Loss:0.6262316826469384 | Acc:0.7791767554479418 | F1:0.7292687560020894\n"
     ]
    },
    {
     "name": "stderr",
     "output_type": "stream",
     "text": [
      "100%|███████████████████████████████████████████| 26/26 [00:05<00:00,  5.01it/s]\n"
     ]
    },
    {
     "name": "stdout",
     "output_type": "stream",
     "text": [
      "val Loss:0.8836599416651968 | Acc:0.6934624697336562 | F1:0.6327054253436276\n",
      "SAVE: 87epoch\n"
     ]
    },
    {
     "name": "stderr",
     "output_type": "stream",
     "text": [
      "100%|█████████████████████████████████████████| 104/104 [00:47<00:00,  2.18it/s]\n"
     ]
    },
    {
     "name": "stdout",
     "output_type": "stream",
     "text": [
      "Epoch:[88/200]\n",
      "Train Loss:0.6217070220457728 | Acc:0.7813559322033898 | F1:0.7322336813460973\n"
     ]
    },
    {
     "name": "stderr",
     "output_type": "stream",
     "text": [
      "100%|███████████████████████████████████████████| 26/26 [00:05<00:00,  5.09it/s]\n"
     ]
    },
    {
     "name": "stdout",
     "output_type": "stream",
     "text": [
      "val Loss:0.8869021586875361 | Acc:0.6900726392251816 | F1:0.6282870806689997\n"
     ]
    },
    {
     "name": "stderr",
     "output_type": "stream",
     "text": [
      "100%|█████████████████████████████████████████| 104/104 [00:47<00:00,  2.18it/s]\n"
     ]
    },
    {
     "name": "stdout",
     "output_type": "stream",
     "text": [
      "Epoch:[89/200]\n",
      "Train Loss:0.6128431333467977 | Acc:0.7858353510895884 | F1:0.7371089760922934\n"
     ]
    },
    {
     "name": "stderr",
     "output_type": "stream",
     "text": [
      "100%|███████████████████████████████████████████| 26/26 [00:05<00:00,  5.07it/s]\n"
     ]
    },
    {
     "name": "stdout",
     "output_type": "stream",
     "text": [
      "val Loss:0.8907455508991823 | Acc:0.6905569007263922 | F1:0.6287129668367821\n"
     ]
    },
    {
     "name": "stderr",
     "output_type": "stream",
     "text": [
      "100%|█████████████████████████████████████████| 104/104 [00:47<00:00,  2.18it/s]\n"
     ]
    },
    {
     "name": "stdout",
     "output_type": "stream",
     "text": [
      "Epoch:[90/200]\n",
      "Train Loss:0.6213035919764429 | Acc:0.785956416464891 | F1:0.7366412432834719\n"
     ]
    },
    {
     "name": "stderr",
     "output_type": "stream",
     "text": [
      "100%|███████████████████████████████████████████| 26/26 [00:05<00:00,  5.04it/s]\n"
     ]
    },
    {
     "name": "stdout",
     "output_type": "stream",
     "text": [
      "val Loss:0.88169261228663 | Acc:0.6929782082324455 | F1:0.6322032475782036\n",
      "SAVE: 90epoch\n"
     ]
    },
    {
     "name": "stderr",
     "output_type": "stream",
     "text": [
      "100%|█████████████████████████████████████████| 104/104 [00:47<00:00,  2.18it/s]\n"
     ]
    },
    {
     "name": "stdout",
     "output_type": "stream",
     "text": [
      "Epoch:[91/200]\n",
      "Train Loss:0.6010835834623249 | Acc:0.7924939467312349 | F1:0.7463992963361238\n"
     ]
    },
    {
     "name": "stderr",
     "output_type": "stream",
     "text": [
      "100%|███████████████████████████████████████████| 26/26 [00:05<00:00,  5.01it/s]\n"
     ]
    },
    {
     "name": "stdout",
     "output_type": "stream",
     "text": [
      "val Loss:0.895250099334532 | Acc:0.6924939467312349 | F1:0.630782360801288\n"
     ]
    },
    {
     "name": "stderr",
     "output_type": "stream",
     "text": [
      "100%|█████████████████████████████████████████| 104/104 [00:47<00:00,  2.18it/s]\n"
     ]
    },
    {
     "name": "stdout",
     "output_type": "stream",
     "text": [
      "Epoch:[92/200]\n",
      "Train Loss:0.6021540745118629 | Acc:0.7888619854721549 | F1:0.7400371793338562\n"
     ]
    },
    {
     "name": "stderr",
     "output_type": "stream",
     "text": [
      "100%|███████████████████████████████████████████| 26/26 [00:05<00:00,  5.05it/s]\n"
     ]
    },
    {
     "name": "stdout",
     "output_type": "stream",
     "text": [
      "val Loss:0.8778681983093373 | Acc:0.6958837772397094 | F1:0.6384223487280226\n",
      "SAVE: 92epoch\n"
     ]
    },
    {
     "name": "stderr",
     "output_type": "stream",
     "text": [
      "100%|█████████████████████████████████████████| 104/104 [00:47<00:00,  2.17it/s]\n"
     ]
    },
    {
     "name": "stdout",
     "output_type": "stream",
     "text": [
      "Epoch:[93/200]\n",
      "Train Loss:0.5939769259953903 | Acc:0.7918886198547216 | F1:0.7431034774131213\n"
     ]
    },
    {
     "name": "stderr",
     "output_type": "stream",
     "text": [
      "100%|███████████████████████████████████████████| 26/26 [00:05<00:00,  5.02it/s]\n"
     ]
    },
    {
     "name": "stdout",
     "output_type": "stream",
     "text": [
      "val Loss:0.8756765467779977 | Acc:0.6978208232445521 | F1:0.6372730556862758\n",
      "SAVE: 93epoch\n"
     ]
    },
    {
     "name": "stderr",
     "output_type": "stream",
     "text": [
      "100%|█████████████████████████████████████████| 104/104 [00:47<00:00,  2.17it/s]\n"
     ]
    },
    {
     "name": "stdout",
     "output_type": "stream",
     "text": [
      "Epoch:[94/200]\n",
      "Train Loss:0.5908094332812773 | Acc:0.7921307506053269 | F1:0.7458918104305408\n"
     ]
    },
    {
     "name": "stderr",
     "output_type": "stream",
     "text": [
      "100%|███████████████████████████████████████████| 26/26 [00:05<00:00,  5.06it/s]\n"
     ]
    },
    {
     "name": "stdout",
     "output_type": "stream",
     "text": [
      "val Loss:0.8761808271846817 | Acc:0.6997578692493946 | F1:0.6411657794663632\n"
     ]
    },
    {
     "name": "stderr",
     "output_type": "stream",
     "text": [
      "100%|█████████████████████████████████████████| 104/104 [00:47<00:00,  2.17it/s]\n"
     ]
    },
    {
     "name": "stdout",
     "output_type": "stream",
     "text": [
      "Epoch:[95/200]\n",
      "Train Loss:0.585013503889772 | Acc:0.7945520581113802 | F1:0.7486671410002749\n"
     ]
    },
    {
     "name": "stderr",
     "output_type": "stream",
     "text": [
      "100%|███████████████████████████████████████████| 26/26 [00:05<00:00,  5.00it/s]\n"
     ]
    },
    {
     "name": "stdout",
     "output_type": "stream",
     "text": [
      "val Loss:0.8767737555734759 | Acc:0.6987893462469734 | F1:0.6381560973729592\n"
     ]
    },
    {
     "name": "stderr",
     "output_type": "stream",
     "text": [
      "100%|█████████████████████████████████████████| 104/104 [00:47<00:00,  2.17it/s]\n"
     ]
    },
    {
     "name": "stdout",
     "output_type": "stream",
     "text": [
      "Epoch:[96/200]\n",
      "Train Loss:0.583135153566088 | Acc:0.7978208232445521 | F1:0.7523230276818094\n"
     ]
    },
    {
     "name": "stderr",
     "output_type": "stream",
     "text": [
      "100%|███████████████████████████████████████████| 26/26 [00:05<00:00,  5.10it/s]\n"
     ]
    },
    {
     "name": "stdout",
     "output_type": "stream",
     "text": [
      "val Loss:0.8816530143088925 | Acc:0.699273607748184 | F1:0.6382481670120309\n"
     ]
    },
    {
     "name": "stderr",
     "output_type": "stream",
     "text": [
      "100%|█████████████████████████████████████████| 104/104 [00:47<00:00,  2.18it/s]\n"
     ]
    },
    {
     "name": "stdout",
     "output_type": "stream",
     "text": [
      "Epoch:[97/200]\n",
      "Train Loss:0.5697927492294127 | Acc:0.7993946731234867 | F1:0.754838850475715\n"
     ]
    },
    {
     "name": "stderr",
     "output_type": "stream",
     "text": [
      "100%|███████████████████████████████████████████| 26/26 [00:05<00:00,  5.00it/s]\n"
     ]
    },
    {
     "name": "stdout",
     "output_type": "stream",
     "text": [
      "val Loss:0.8685881045193706 | Acc:0.7016949152542373 | F1:0.6418245225405095\n",
      "SAVE: 97epoch\n"
     ]
    },
    {
     "name": "stderr",
     "output_type": "stream",
     "text": [
      "100%|█████████████████████████████████████████| 104/104 [00:47<00:00,  2.18it/s]\n"
     ]
    },
    {
     "name": "stdout",
     "output_type": "stream",
     "text": [
      "Epoch:[98/200]\n",
      "Train Loss:0.5727317199002744 | Acc:0.8006053268765133 | F1:0.7546866598940706\n"
     ]
    },
    {
     "name": "stderr",
     "output_type": "stream",
     "text": [
      "100%|███████████████████████████████████████████| 26/26 [00:05<00:00,  5.02it/s]\n"
     ]
    },
    {
     "name": "stdout",
     "output_type": "stream",
     "text": [
      "val Loss:0.8751822422838096 | Acc:0.700726392251816 | F1:0.6405582575583877\n"
     ]
    },
    {
     "name": "stderr",
     "output_type": "stream",
     "text": [
      "100%|█████████████████████████████████████████| 104/104 [00:47<00:00,  2.17it/s]\n"
     ]
    },
    {
     "name": "stdout",
     "output_type": "stream",
     "text": [
      "Epoch:[99/200]\n",
      "Train Loss:0.5613670134082545 | Acc:0.8023002421307506 | F1:0.7574697268451663\n"
     ]
    },
    {
     "name": "stderr",
     "output_type": "stream",
     "text": [
      "100%|███████████████████████████████████████████| 26/26 [00:05<00:00,  5.03it/s]\n"
     ]
    },
    {
     "name": "stdout",
     "output_type": "stream",
     "text": [
      "val Loss:0.8738480462866315 | Acc:0.6997578692493946 | F1:0.6403741513480864\n"
     ]
    },
    {
     "name": "stderr",
     "output_type": "stream",
     "text": [
      "100%|█████████████████████████████████████████| 104/104 [00:48<00:00,  2.16it/s]\n"
     ]
    },
    {
     "name": "stdout",
     "output_type": "stream",
     "text": [
      "Epoch:[100/200]\n",
      "Train Loss:0.5550043447254357 | Acc:0.8044794188861986 | F1:0.7577822614633976\n"
     ]
    },
    {
     "name": "stderr",
     "output_type": "stream",
     "text": [
      "100%|███████████████████████████████████████████| 26/26 [00:05<00:00,  5.07it/s]\n"
     ]
    },
    {
     "name": "stdout",
     "output_type": "stream",
     "text": [
      "val Loss:0.8714245221516699 | Acc:0.7012106537530266 | F1:0.6391455743076706\n"
     ]
    },
    {
     "name": "stderr",
     "output_type": "stream",
     "text": [
      "100%|█████████████████████████████████████████| 104/104 [00:47<00:00,  2.18it/s]\n"
     ]
    },
    {
     "name": "stdout",
     "output_type": "stream",
     "text": [
      "Epoch:[101/200]\n",
      "Train Loss:0.5451470573069686 | Acc:0.8058111380145279 | F1:0.7601753234282151\n"
     ]
    },
    {
     "name": "stderr",
     "output_type": "stream",
     "text": [
      "100%|███████████████████████████████████████████| 26/26 [00:05<00:00,  5.07it/s]\n"
     ]
    },
    {
     "name": "stdout",
     "output_type": "stream",
     "text": [
      "val Loss:0.8697387812789935 | Acc:0.7016949152542373 | F1:0.6406258090144112\n"
     ]
    },
    {
     "name": "stderr",
     "output_type": "stream",
     "text": [
      "100%|█████████████████████████████████████████| 104/104 [00:47<00:00,  2.17it/s]\n"
     ]
    },
    {
     "name": "stdout",
     "output_type": "stream",
     "text": [
      "Epoch:[102/200]\n",
      "Train Loss:0.5431378926838282 | Acc:0.8108958837772398 | F1:0.7678046583817061\n"
     ]
    },
    {
     "name": "stderr",
     "output_type": "stream",
     "text": [
      "100%|███████████████████████████████████████████| 26/26 [00:05<00:00,  4.95it/s]\n"
     ]
    },
    {
     "name": "stdout",
     "output_type": "stream",
     "text": [
      "val Loss:0.8691052807445387 | Acc:0.7084745762711865 | F1:0.6487791438696757\n"
     ]
    },
    {
     "name": "stderr",
     "output_type": "stream",
     "text": [
      "100%|█████████████████████████████████████████| 104/104 [00:47<00:00,  2.17it/s]\n"
     ]
    },
    {
     "name": "stdout",
     "output_type": "stream",
     "text": [
      "Epoch:[103/200]\n",
      "Train Loss:0.549961934078115 | Acc:0.8095641646489105 | F1:0.7644360349888295\n"
     ]
    },
    {
     "name": "stderr",
     "output_type": "stream",
     "text": [
      "100%|███████████████████████████████████████████| 26/26 [00:05<00:00,  5.02it/s]\n"
     ]
    },
    {
     "name": "stdout",
     "output_type": "stream",
     "text": [
      "val Loss:0.868543499751472 | Acc:0.7046004842615012 | F1:0.6457883603420651\n",
      "SAVE: 103epoch\n"
     ]
    },
    {
     "name": "stderr",
     "output_type": "stream",
     "text": [
      "100%|█████████████████████████████████████████| 104/104 [00:47<00:00,  2.17it/s]\n"
     ]
    },
    {
     "name": "stdout",
     "output_type": "stream",
     "text": [
      "Epoch:[104/200]\n",
      "Train Loss:0.5330345598895093 | Acc:0.8180387409200969 | F1:0.7726983312544249\n"
     ]
    },
    {
     "name": "stderr",
     "output_type": "stream",
     "text": [
      "100%|███████████████████████████████████████████| 26/26 [00:05<00:00,  5.01it/s]\n"
     ]
    },
    {
     "name": "stdout",
     "output_type": "stream",
     "text": [
      "val Loss:0.8706964059545688 | Acc:0.7070217917675545 | F1:0.647217308590451\n"
     ]
    },
    {
     "name": "stderr",
     "output_type": "stream",
     "text": [
      "100%|█████████████████████████████████████████| 104/104 [00:47<00:00,  2.17it/s]\n"
     ]
    },
    {
     "name": "stdout",
     "output_type": "stream",
     "text": [
      "Epoch:[105/200]\n",
      "Train Loss:0.5251249408317824 | Acc:0.8163438256658596 | F1:0.7710651068843823\n"
     ]
    },
    {
     "name": "stderr",
     "output_type": "stream",
     "text": [
      "100%|███████████████████████████████████████████| 26/26 [00:05<00:00,  5.07it/s]\n"
     ]
    },
    {
     "name": "stdout",
     "output_type": "stream",
     "text": [
      "val Loss:0.8623302786748577 | Acc:0.7113801452784504 | F1:0.6527572918101799\n",
      "SAVE: 105epoch\n"
     ]
    },
    {
     "name": "stderr",
     "output_type": "stream",
     "text": [
      "100%|█████████████████████████████████████████| 104/104 [00:47<00:00,  2.17it/s]\n"
     ]
    },
    {
     "name": "stdout",
     "output_type": "stream",
     "text": [
      "Epoch:[106/200]\n",
      "Train Loss:0.5302704776892073 | Acc:0.8127118644067797 | F1:0.7697425199201752\n"
     ]
    },
    {
     "name": "stderr",
     "output_type": "stream",
     "text": [
      "100%|███████████████████████████████████████████| 26/26 [00:05<00:00,  5.03it/s]\n"
     ]
    },
    {
     "name": "stdout",
     "output_type": "stream",
     "text": [
      "val Loss:0.8585710503864519 | Acc:0.7079903147699758 | F1:0.6479910982268384\n",
      "SAVE: 106epoch\n"
     ]
    },
    {
     "name": "stderr",
     "output_type": "stream",
     "text": [
      "100%|█████████████████████████████████████████| 104/104 [00:47<00:00,  2.18it/s]\n"
     ]
    },
    {
     "name": "stdout",
     "output_type": "stream",
     "text": [
      "Epoch:[107/200]\n",
      "Train Loss:0.5175737213280241 | Acc:0.8188861985472154 | F1:0.7740191215112665\n"
     ]
    },
    {
     "name": "stderr",
     "output_type": "stream",
     "text": [
      "100%|███████████████████████████████████████████| 26/26 [00:05<00:00,  5.01it/s]\n"
     ]
    },
    {
     "name": "stdout",
     "output_type": "stream",
     "text": [
      "val Loss:0.8617738818718215 | Acc:0.7108958837772397 | F1:0.6482617274698164\n"
     ]
    },
    {
     "name": "stderr",
     "output_type": "stream",
     "text": [
      "100%|█████████████████████████████████████████| 104/104 [00:47<00:00,  2.17it/s]\n"
     ]
    },
    {
     "name": "stdout",
     "output_type": "stream",
     "text": [
      "Epoch:[108/200]\n",
      "Train Loss:0.5220797388086019 | Acc:0.8131961259079903 | F1:0.7695818729745021\n"
     ]
    },
    {
     "name": "stderr",
     "output_type": "stream",
     "text": [
      "100%|███████████████████████████████████████████| 26/26 [00:05<00:00,  5.09it/s]\n"
     ]
    },
    {
     "name": "stdout",
     "output_type": "stream",
     "text": [
      "val Loss:0.8651438872115664 | Acc:0.7123486682808716 | F1:0.6543063025019701\n"
     ]
    },
    {
     "name": "stderr",
     "output_type": "stream",
     "text": [
      "100%|█████████████████████████████████████████| 104/104 [00:47<00:00,  2.17it/s]\n"
     ]
    },
    {
     "name": "stdout",
     "output_type": "stream",
     "text": [
      "Epoch:[109/200]\n",
      "Train Loss:0.5133748357578859 | Acc:0.825544794188862 | F1:0.7848344021778974\n"
     ]
    },
    {
     "name": "stderr",
     "output_type": "stream",
     "text": [
      "100%|███████████████████████████████████████████| 26/26 [00:05<00:00,  5.04it/s]\n"
     ]
    },
    {
     "name": "stdout",
     "output_type": "stream",
     "text": [
      "val Loss:0.8656210493810529 | Acc:0.7079903147699758 | F1:0.6485217935014155\n"
     ]
    },
    {
     "name": "stderr",
     "output_type": "stream",
     "text": [
      "100%|█████████████████████████████████████████| 104/104 [00:47<00:00,  2.18it/s]\n"
     ]
    },
    {
     "name": "stdout",
     "output_type": "stream",
     "text": [
      "Epoch:[110/200]\n",
      "Train Loss:0.507367250128462 | Acc:0.821549636803874 | F1:0.7787269368090003\n"
     ]
    },
    {
     "name": "stderr",
     "output_type": "stream",
     "text": [
      "100%|███████████████████████████████████████████| 26/26 [00:05<00:00,  5.03it/s]\n"
     ]
    },
    {
     "name": "stdout",
     "output_type": "stream",
     "text": [
      "val Loss:0.8685848292946526 | Acc:0.7036319612590799 | F1:0.6460461157825126\n"
     ]
    },
    {
     "name": "stderr",
     "output_type": "stream",
     "text": [
      "100%|█████████████████████████████████████████| 104/104 [00:47<00:00,  2.17it/s]\n"
     ]
    },
    {
     "name": "stdout",
     "output_type": "stream",
     "text": [
      "Epoch:[111/200]\n",
      "Train Loss:0.5057888218623385 | Acc:0.8213075060532687 | F1:0.7776370500654975\n"
     ]
    },
    {
     "name": "stderr",
     "output_type": "stream",
     "text": [
      "100%|███████████████████████████████████████████| 26/26 [00:05<00:00,  5.06it/s]\n"
     ]
    },
    {
     "name": "stdout",
     "output_type": "stream",
     "text": [
      "val Loss:0.8673976346597834 | Acc:0.7089588377723971 | F1:0.6500579305447799\n"
     ]
    },
    {
     "name": "stderr",
     "output_type": "stream",
     "text": [
      "100%|█████████████████████████████████████████| 104/104 [00:47<00:00,  2.18it/s]\n"
     ]
    },
    {
     "name": "stdout",
     "output_type": "stream",
     "text": [
      "Epoch:[112/200]\n",
      "Train Loss:0.4950725929067441 | Acc:0.8271186440677966 | F1:0.7853230475567553\n"
     ]
    },
    {
     "name": "stderr",
     "output_type": "stream",
     "text": [
      "100%|███████████████████████████████████████████| 26/26 [00:05<00:00,  5.02it/s]\n"
     ]
    },
    {
     "name": "stdout",
     "output_type": "stream",
     "text": [
      "val Loss:0.8739196572984967 | Acc:0.7084745762711865 | F1:0.6493286052925493\n"
     ]
    },
    {
     "name": "stderr",
     "output_type": "stream",
     "text": [
      "100%|█████████████████████████████████████████| 104/104 [00:47<00:00,  2.17it/s]\n"
     ]
    },
    {
     "name": "stdout",
     "output_type": "stream",
     "text": [
      "Epoch:[113/200]\n",
      "Train Loss:0.49124241438096716 | Acc:0.8288135593220339 | F1:0.7878452581543571\n"
     ]
    },
    {
     "name": "stderr",
     "output_type": "stream",
     "text": [
      "100%|███████████████████████████████████████████| 26/26 [00:05<00:00,  5.06it/s]\n"
     ]
    },
    {
     "name": "stdout",
     "output_type": "stream",
     "text": [
      "val Loss:0.8661432495706017 | Acc:0.7060532687651332 | F1:0.6492897252368247\n"
     ]
    },
    {
     "name": "stderr",
     "output_type": "stream",
     "text": [
      "100%|█████████████████████████████████████████| 104/104 [00:47<00:00,  2.18it/s]\n"
     ]
    },
    {
     "name": "stdout",
     "output_type": "stream",
     "text": [
      "Epoch:[114/200]\n",
      "Train Loss:0.47835432169801095 | Acc:0.8326876513317192 | F1:0.7911203616071664\n"
     ]
    },
    {
     "name": "stderr",
     "output_type": "stream",
     "text": [
      "100%|███████████████████████████████████████████| 26/26 [00:05<00:00,  5.01it/s]\n"
     ]
    },
    {
     "name": "stdout",
     "output_type": "stream",
     "text": [
      "val Loss:0.8682078664297053 | Acc:0.711864406779661 | F1:0.6521915004673839\n"
     ]
    },
    {
     "name": "stderr",
     "output_type": "stream",
     "text": [
      "100%|█████████████████████████████████████████| 104/104 [00:47<00:00,  2.17it/s]\n"
     ]
    },
    {
     "name": "stdout",
     "output_type": "stream",
     "text": [
      "Epoch:[115/200]\n",
      "Train Loss:0.4749402382183306 | Acc:0.8392251815980629 | F1:0.7999040625077832\n"
     ]
    },
    {
     "name": "stderr",
     "output_type": "stream",
     "text": [
      "100%|███████████████████████████████████████████| 26/26 [00:05<00:00,  5.07it/s]\n"
     ]
    },
    {
     "name": "stdout",
     "output_type": "stream",
     "text": [
      "val Loss:0.8806996745289671 | Acc:0.7108958837772397 | F1:0.651532015825113\n"
     ]
    },
    {
     "name": "stderr",
     "output_type": "stream",
     "text": [
      "100%|█████████████████████████████████████████| 104/104 [00:47<00:00,  2.18it/s]\n"
     ]
    },
    {
     "name": "stdout",
     "output_type": "stream",
     "text": [
      "Epoch:[116/200]\n",
      "Train Loss:0.48621576057507976 | Acc:0.8276029055690073 | F1:0.7883855438573908\n"
     ]
    },
    {
     "name": "stderr",
     "output_type": "stream",
     "text": [
      "100%|███████████████████████████████████████████| 26/26 [00:05<00:00,  5.07it/s]"
     ]
    },
    {
     "name": "stdout",
     "output_type": "stream",
     "text": [
      "val Loss:0.8647217054921259 | Acc:0.7123486682808716 | F1:0.6551901698946568\n",
      "Best Val Epoch:106, Val Loss : 0.8585710503864519, Val Acc:0.7079903147699758, Best Val F1:0.6479910982268384\n",
      "Total Process time:103.022Minute\n",
      "Shutting down background jobs, please wait a moment...\n"
     ]
    },
    {
     "name": "stderr",
     "output_type": "stream",
     "text": [
      "\n"
     ]
    },
    {
     "name": "stdout",
     "output_type": "stream",
     "text": [
      "Done!\n",
      "Waiting for the remaining 61 operations to synchronize with Neptune. Do not kill this process.\n",
      "All 61 operations synced, thanks for waiting!\n",
      "Explore the metadata in the Neptune app:\n",
      "https://app.neptune.ai/twogudak/Petfrineds/e/PET-43\n",
      "https://app.neptune.ai/twogudak/Petfrineds/e/PET-44\n",
      "Remember to stop your run once you’ve finished logging your metadata (https://docs.neptune.ai/api-reference/run#.stop). It will be stopped automatically only when the notebook kernel/interactive console is terminated.\n",
      "데이터셋 생성 완료,,\n",
      " 데이터셋 사이즈 : 18311\n",
      "데이터셋 생성 완료,,\n",
      " 데이터셋 사이즈 : 4578\n",
      "Loaded pretrained weights for efficientnet-b0\n",
      "Macs : 25.64 MMac\n",
      "params : ['4.02 M']\n"
     ]
    },
    {
     "name": "stderr",
     "output_type": "stream",
     "text": [
      "100%|█████████████████████████████████████████| 229/229 [01:55<00:00,  1.97it/s]\n"
     ]
    },
    {
     "name": "stdout",
     "output_type": "stream",
     "text": [
      "Epoch:[1/200]\n",
      "Train Loss:1.957722434112945 | Acc:0.1403527934028726 | F1:0.131978107164592\n"
     ]
    },
    {
     "name": "stderr",
     "output_type": "stream",
     "text": [
      "100%|███████████████████████████████████████████| 58/58 [00:10<00:00,  5.30it/s]\n"
     ]
    },
    {
     "name": "stdout",
     "output_type": "stream",
     "text": [
      "val Loss:1.9530036556194734 | Acc:0.14809960681520315 | F1:0.14362027027236085\n",
      "SAVE: 1epoch\n"
     ]
    },
    {
     "name": "stderr",
     "output_type": "stream",
     "text": [
      "100%|█████████████████████████████████████████| 229/229 [01:46<00:00,  2.15it/s]\n"
     ]
    },
    {
     "name": "stdout",
     "output_type": "stream",
     "text": [
      "Epoch:[2/200]\n",
      "Train Loss:1.9513130993827714 | Acc:0.14848997870132707 | F1:0.13916365713789774\n"
     ]
    },
    {
     "name": "stderr",
     "output_type": "stream",
     "text": [
      "100%|███████████████████████████████████████████| 58/58 [00:10<00:00,  5.28it/s]\n"
     ]
    },
    {
     "name": "stdout",
     "output_type": "stream",
     "text": [
      "val Loss:1.9467649331203243 | Acc:0.15923984272608127 | F1:0.15378600107641033\n",
      "SAVE: 2epoch\n"
     ]
    },
    {
     "name": "stderr",
     "output_type": "stream",
     "text": [
      "100%|█████████████████████████████████████████| 229/229 [01:46<00:00,  2.15it/s]\n"
     ]
    },
    {
     "name": "stdout",
     "output_type": "stream",
     "text": [
      "Epoch:[3/200]\n",
      "Train Loss:1.9423743858921243 | Acc:0.16449128938889193 | F1:0.15394781870122845\n"
     ]
    },
    {
     "name": "stderr",
     "output_type": "stream",
     "text": [
      "100%|███████████████████████████████████████████| 58/58 [00:10<00:00,  5.29it/s]\n"
     ]
    },
    {
     "name": "stdout",
     "output_type": "stream",
     "text": [
      "val Loss:1.9357740575957891 | Acc:0.17540410659676714 | F1:0.16843875950426285\n",
      "SAVE: 3epoch\n"
     ]
    },
    {
     "name": "stderr",
     "output_type": "stream",
     "text": [
      "100%|█████████████████████████████████████████| 229/229 [01:46<00:00,  2.15it/s]\n"
     ]
    },
    {
     "name": "stdout",
     "output_type": "stream",
     "text": [
      "Epoch:[4/200]\n",
      "Train Loss:1.9113473173870315 | Acc:0.20971001037627657 | F1:0.19530841538250865\n"
     ]
    },
    {
     "name": "stderr",
     "output_type": "stream",
     "text": [
      "100%|███████████████████████████████████████████| 58/58 [00:10<00:00,  5.35it/s]\n"
     ]
    },
    {
     "name": "stdout",
     "output_type": "stream",
     "text": [
      "val Loss:1.8821496534889157 | Acc:0.2579729139362167 | F1:0.24005030237847733\n",
      "SAVE: 4epoch\n"
     ]
    },
    {
     "name": "stderr",
     "output_type": "stream",
     "text": [
      "100%|█████████████████████████████████████████| 229/229 [01:46<00:00,  2.15it/s]\n"
     ]
    },
    {
     "name": "stdout",
     "output_type": "stream",
     "text": [
      "Epoch:[5/200]\n",
      "Train Loss:1.855155689830529 | Acc:0.28491070940964447 | F1:0.26051207268626936\n"
     ]
    },
    {
     "name": "stderr",
     "output_type": "stream",
     "text": [
      "100%|███████████████████████████████████████████| 58/58 [00:10<00:00,  5.30it/s]\n"
     ]
    },
    {
     "name": "stdout",
     "output_type": "stream",
     "text": [
      "val Loss:1.825818846349687 | Acc:0.3215377894276977 | F1:0.2893331901990566\n",
      "SAVE: 5epoch\n"
     ]
    },
    {
     "name": "stderr",
     "output_type": "stream",
     "text": [
      "100%|█████████████████████████████████████████| 229/229 [01:46<00:00,  2.15it/s]\n"
     ]
    },
    {
     "name": "stdout",
     "output_type": "stream",
     "text": [
      "Epoch:[6/200]\n",
      "Train Loss:1.7945744164239623 | Acc:0.34312708208180875 | F1:0.31055599900056524\n"
     ]
    },
    {
     "name": "stderr",
     "output_type": "stream",
     "text": [
      "100%|███████████████████████████████████████████| 58/58 [00:10<00:00,  5.33it/s]\n"
     ]
    },
    {
     "name": "stdout",
     "output_type": "stream",
     "text": [
      "val Loss:1.7652478039446957 | Acc:0.35364788117081697 | F1:0.31294797757143644\n",
      "SAVE: 6epoch\n"
     ]
    },
    {
     "name": "stderr",
     "output_type": "stream",
     "text": [
      "100%|█████████████████████████████████████████| 229/229 [01:46<00:00,  2.15it/s]\n"
     ]
    },
    {
     "name": "stdout",
     "output_type": "stream",
     "text": [
      "Epoch:[7/200]\n",
      "Train Loss:1.7364896186923715 | Acc:0.3615859319534706 | F1:0.3209731908965833\n"
     ]
    },
    {
     "name": "stderr",
     "output_type": "stream",
     "text": [
      "100%|███████████████████████████████████████████| 58/58 [00:10<00:00,  5.35it/s]\n"
     ]
    },
    {
     "name": "stdout",
     "output_type": "stream",
     "text": [
      "val Loss:1.7084319762341993 | Acc:0.3704674530362604 | F1:0.32934637889826873\n",
      "SAVE: 7epoch\n"
     ]
    },
    {
     "name": "stderr",
     "output_type": "stream",
     "text": [
      "100%|█████████████████████████████████████████| 229/229 [01:46<00:00,  2.15it/s]\n"
     ]
    },
    {
     "name": "stdout",
     "output_type": "stream",
     "text": [
      "Epoch:[8/200]\n",
      "Train Loss:1.6838097384245376 | Acc:0.3851236961389329 | F1:0.3418974759894403\n"
     ]
    },
    {
     "name": "stderr",
     "output_type": "stream",
     "text": [
      "100%|███████████████████████████████████████████| 58/58 [00:10<00:00,  5.33it/s]\n"
     ]
    },
    {
     "name": "stdout",
     "output_type": "stream",
     "text": [
      "val Loss:1.662676828456477 | Acc:0.3831367409349061 | F1:0.3412777751232318\n",
      "SAVE: 8epoch\n"
     ]
    },
    {
     "name": "stderr",
     "output_type": "stream",
     "text": [
      "100%|█████████████████████████████████████████| 229/229 [01:46<00:00,  2.15it/s]\n"
     ]
    },
    {
     "name": "stdout",
     "output_type": "stream",
     "text": [
      "Epoch:[9/200]\n",
      "Train Loss:1.630310139223265 | Acc:0.4037463819562012 | F1:0.35961078092070986\n"
     ]
    },
    {
     "name": "stderr",
     "output_type": "stream",
     "text": [
      "100%|███████████████████████████████████████████| 58/58 [00:10<00:00,  5.29it/s]\n"
     ]
    },
    {
     "name": "stdout",
     "output_type": "stream",
     "text": [
      "val Loss:1.6204779367876032 | Acc:0.4030144167758847 | F1:0.36143279083737667\n",
      "SAVE: 9epoch\n"
     ]
    },
    {
     "name": "stderr",
     "output_type": "stream",
     "text": [
      "100%|█████████████████████████████████████████| 229/229 [01:46<00:00,  2.15it/s]\n"
     ]
    },
    {
     "name": "stdout",
     "output_type": "stream",
     "text": [
      "Epoch:[10/200]\n",
      "Train Loss:1.5846994173376376 | Acc:0.4256457866855988 | F1:0.38412557382762597\n"
     ]
    },
    {
     "name": "stderr",
     "output_type": "stream",
     "text": [
      "100%|███████████████████████████████████████████| 58/58 [00:11<00:00,  5.27it/s]\n"
     ]
    },
    {
     "name": "stdout",
     "output_type": "stream",
     "text": [
      "val Loss:1.5795497768255444 | Acc:0.4200524246395806 | F1:0.38020915829989804\n",
      "SAVE: 10epoch\n"
     ]
    },
    {
     "name": "stderr",
     "output_type": "stream",
     "text": [
      "100%|█████████████████████████████████████████| 229/229 [01:46<00:00,  2.15it/s]\n"
     ]
    },
    {
     "name": "stdout",
     "output_type": "stream",
     "text": [
      "Epoch:[11/200]\n",
      "Train Loss:1.5440961153696942 | Acc:0.44055485773578723 | F1:0.40372891294000457\n"
     ]
    },
    {
     "name": "stderr",
     "output_type": "stream",
     "text": [
      "100%|███████████████████████████████████████████| 58/58 [00:10<00:00,  5.33it/s]\n"
     ]
    },
    {
     "name": "stdout",
     "output_type": "stream",
     "text": [
      "val Loss:1.5455307484506362 | Acc:0.4287898645696811 | F1:0.39565844776743475\n",
      "SAVE: 11epoch\n"
     ]
    },
    {
     "name": "stderr",
     "output_type": "stream",
     "text": [
      "100%|█████████████████████████████████████████| 229/229 [01:46<00:00,  2.15it/s]\n"
     ]
    },
    {
     "name": "stdout",
     "output_type": "stream",
     "text": [
      "Epoch:[12/200]\n",
      "Train Loss:1.5040038641013034 | Acc:0.45398940527551745 | F1:0.4191643298286441\n"
     ]
    },
    {
     "name": "stderr",
     "output_type": "stream",
     "text": [
      "100%|███████████████████████████████████████████| 58/58 [00:10<00:00,  5.31it/s]\n"
     ]
    },
    {
     "name": "stdout",
     "output_type": "stream",
     "text": [
      "val Loss:1.5072951477758225 | Acc:0.44626474442988207 | F1:0.4183419325997733\n",
      "SAVE: 12epoch\n"
     ]
    },
    {
     "name": "stderr",
     "output_type": "stream",
     "text": [
      "100%|█████████████████████████████████████████| 229/229 [01:46<00:00,  2.15it/s]\n"
     ]
    },
    {
     "name": "stdout",
     "output_type": "stream",
     "text": [
      "Epoch:[13/200]\n",
      "Train Loss:1.4677235913962854 | Acc:0.46862541641636174 | F1:0.4386937087985829\n"
     ]
    },
    {
     "name": "stderr",
     "output_type": "stream",
     "text": [
      "100%|███████████████████████████████████████████| 58/58 [00:10<00:00,  5.29it/s]\n"
     ]
    },
    {
     "name": "stdout",
     "output_type": "stream",
     "text": [
      "val Loss:1.473842978477478 | Acc:0.4600262123197903 | F1:0.4377601903009759\n",
      "SAVE: 13epoch\n"
     ]
    },
    {
     "name": "stderr",
     "output_type": "stream",
     "text": [
      "100%|█████████████████████████████████████████| 229/229 [01:46<00:00,  2.15it/s]\n"
     ]
    },
    {
     "name": "stdout",
     "output_type": "stream",
     "text": [
      "Epoch:[14/200]\n",
      "Train Loss:1.428036938801617 | Acc:0.4844082791764513 | F1:0.45864989145764123\n"
     ]
    },
    {
     "name": "stderr",
     "output_type": "stream",
     "text": [
      "100%|███████████████████████████████████████████| 58/58 [00:10<00:00,  5.29it/s]\n"
     ]
    },
    {
     "name": "stdout",
     "output_type": "stream",
     "text": [
      "val Loss:1.4406550833365448 | Acc:0.4740061162079511 | F1:0.4548763218263132\n",
      "SAVE: 14epoch\n"
     ]
    },
    {
     "name": "stderr",
     "output_type": "stream",
     "text": [
      "100%|█████████████████████████████████████████| 229/229 [01:46<00:00,  2.14it/s]\n"
     ]
    },
    {
     "name": "stdout",
     "output_type": "stream",
     "text": [
      "Epoch:[15/200]\n",
      "Train Loss:1.3913196099851974 | Acc:0.4984981704986074 | F1:0.47616662321820724\n"
     ]
    },
    {
     "name": "stderr",
     "output_type": "stream",
     "text": [
      "100%|███████████████████████████████████████████| 58/58 [00:11<00:00,  5.25it/s]\n"
     ]
    },
    {
     "name": "stdout",
     "output_type": "stream",
     "text": [
      "val Loss:1.4130977701547105 | Acc:0.4803407601572739 | F1:0.46279965382521265\n",
      "SAVE: 15epoch\n"
     ]
    },
    {
     "name": "stderr",
     "output_type": "stream",
     "text": [
      "100%|█████████████████████████████████████████| 229/229 [01:46<00:00,  2.15it/s]\n"
     ]
    },
    {
     "name": "stdout",
     "output_type": "stream",
     "text": [
      "Epoch:[16/200]\n",
      "Train Loss:1.3575312455942237 | Acc:0.5128611217301076 | F1:0.4925379251208978\n"
     ]
    },
    {
     "name": "stderr",
     "output_type": "stream",
     "text": [
      "100%|███████████████████████████████████████████| 58/58 [00:10<00:00,  5.33it/s]\n"
     ]
    },
    {
     "name": "stdout",
     "output_type": "stream",
     "text": [
      "val Loss:1.380076980684563 | Acc:0.49759720401922236 | F1:0.48354451166617085\n",
      "SAVE: 16epoch\n"
     ]
    },
    {
     "name": "stderr",
     "output_type": "stream",
     "text": [
      "100%|█████████████████████████████████████████| 229/229 [01:46<00:00,  2.15it/s]\n"
     ]
    },
    {
     "name": "stdout",
     "output_type": "stream",
     "text": [
      "Epoch:[17/200]\n",
      "Train Loss:1.3246364095341103 | Acc:0.5236742941401343 | F1:0.5060804123151766\n"
     ]
    },
    {
     "name": "stderr",
     "output_type": "stream",
     "text": [
      "100%|███████████████████████████████████████████| 58/58 [00:10<00:00,  5.30it/s]\n"
     ]
    },
    {
     "name": "stdout",
     "output_type": "stream",
     "text": [
      "val Loss:1.353876637079248 | Acc:0.5100480559196156 | F1:0.49651267203752586\n",
      "SAVE: 17epoch\n"
     ]
    },
    {
     "name": "stderr",
     "output_type": "stream",
     "text": [
      "100%|█████████████████████████████████████████| 229/229 [01:46<00:00,  2.15it/s]\n"
     ]
    },
    {
     "name": "stdout",
     "output_type": "stream",
     "text": [
      "Epoch:[18/200]\n",
      "Train Loss:1.2883665609917019 | Acc:0.5390748730271422 | F1:0.5228610217798371\n"
     ]
    },
    {
     "name": "stderr",
     "output_type": "stream",
     "text": [
      "100%|███████████████████████████████████████████| 58/58 [00:10<00:00,  5.33it/s]\n"
     ]
    },
    {
     "name": "stdout",
     "output_type": "stream",
     "text": [
      "val Loss:1.324093965840371 | Acc:0.5242463958060288 | F1:0.5137792603742208\n",
      "SAVE: 18epoch\n"
     ]
    },
    {
     "name": "stderr",
     "output_type": "stream",
     "text": [
      "100%|█████████████████████████████████████████| 229/229 [01:46<00:00,  2.15it/s]\n"
     ]
    },
    {
     "name": "stdout",
     "output_type": "stream",
     "text": [
      "Epoch:[19/200]\n",
      "Train Loss:1.255519812550174 | Acc:0.5486865818360548 | F1:0.5335060860042187\n"
     ]
    },
    {
     "name": "stderr",
     "output_type": "stream",
     "text": [
      "100%|███████████████████████████████████████████| 58/58 [00:10<00:00,  5.29it/s]\n"
     ]
    },
    {
     "name": "stdout",
     "output_type": "stream",
     "text": [
      "val Loss:1.2885442254531847 | Acc:0.5360419397116645 | F1:0.5270167058557029\n",
      "SAVE: 19epoch\n"
     ]
    },
    {
     "name": "stderr",
     "output_type": "stream",
     "text": [
      "100%|█████████████████████████████████████████| 229/229 [01:46<00:00,  2.15it/s]\n"
     ]
    },
    {
     "name": "stdout",
     "output_type": "stream",
     "text": [
      "Epoch:[20/200]\n",
      "Train Loss:1.2265593245707689 | Acc:0.5637048768499809 | F1:0.5510223789797302\n"
     ]
    },
    {
     "name": "stderr",
     "output_type": "stream",
     "text": [
      "100%|███████████████████████████████████████████| 58/58 [00:10<00:00,  5.30it/s]\n"
     ]
    },
    {
     "name": "stdout",
     "output_type": "stream",
     "text": [
      "val Loss:1.2665484647086325 | Acc:0.5397553516819572 | F1:0.5305283827093046\n",
      "SAVE: 20epoch\n"
     ]
    },
    {
     "name": "stderr",
     "output_type": "stream",
     "text": [
      "100%|█████████████████████████████████████████| 229/229 [01:46<00:00,  2.15it/s]\n"
     ]
    },
    {
     "name": "stdout",
     "output_type": "stream",
     "text": [
      "Epoch:[21/200]\n",
      "Train Loss:1.1996822760748476 | Acc:0.5683468953088308 | F1:0.5552295108241752\n"
     ]
    },
    {
     "name": "stderr",
     "output_type": "stream",
     "text": [
      "100%|███████████████████████████████████████████| 58/58 [00:10<00:00,  5.33it/s]\n"
     ]
    },
    {
     "name": "stdout",
     "output_type": "stream",
     "text": [
      "val Loss:1.2451028273114995 | Acc:0.5493665356050678 | F1:0.5411633744268575\n",
      "SAVE: 21epoch\n"
     ]
    },
    {
     "name": "stderr",
     "output_type": "stream",
     "text": [
      "100%|█████████████████████████████████████████| 229/229 [01:46<00:00,  2.15it/s]\n"
     ]
    },
    {
     "name": "stdout",
     "output_type": "stream",
     "text": [
      "Epoch:[22/200]\n",
      "Train Loss:1.172832582227511 | Acc:0.5776309322265305 | F1:0.5660167397295608\n"
     ]
    },
    {
     "name": "stderr",
     "output_type": "stream",
     "text": [
      "100%|███████████████████████████████████████████| 58/58 [00:10<00:00,  5.29it/s]\n"
     ]
    },
    {
     "name": "stdout",
     "output_type": "stream",
     "text": [
      "val Loss:1.219887572066031 | Acc:0.5563564875491481 | F1:0.5494728117576068\n",
      "SAVE: 22epoch\n"
     ]
    },
    {
     "name": "stderr",
     "output_type": "stream",
     "text": [
      "100%|█████████████████████████████████████████| 229/229 [01:46<00:00,  2.15it/s]\n"
     ]
    },
    {
     "name": "stdout",
     "output_type": "stream",
     "text": [
      "Epoch:[23/200]\n",
      "Train Loss:1.1533089877867593 | Acc:0.5830375184315438 | F1:0.5719364316235642\n"
     ]
    },
    {
     "name": "stderr",
     "output_type": "stream",
     "text": [
      "100%|███████████████████████████████████████████| 58/58 [00:11<00:00,  5.27it/s]\n"
     ]
    },
    {
     "name": "stdout",
     "output_type": "stream",
     "text": [
      "val Loss:1.2030820418206194 | Acc:0.5624726955002184 | F1:0.5555796277621745\n",
      "SAVE: 23epoch\n"
     ]
    },
    {
     "name": "stderr",
     "output_type": "stream",
     "text": [
      "100%|█████████████████████████████████████████| 229/229 [01:46<00:00,  2.15it/s]\n"
     ]
    },
    {
     "name": "stdout",
     "output_type": "stream",
     "text": [
      "Epoch:[24/200]\n",
      "Train Loss:1.1230479899593877 | Acc:0.5966905138987494 | F1:0.5864264559928528\n"
     ]
    },
    {
     "name": "stderr",
     "output_type": "stream",
     "text": [
      "100%|███████████████████████████████████████████| 58/58 [00:10<00:00,  5.31it/s]\n"
     ]
    },
    {
     "name": "stdout",
     "output_type": "stream",
     "text": [
      "val Loss:1.182314101735178 | Acc:0.5664045434687637 | F1:0.5599622104745329\n",
      "SAVE: 24epoch\n"
     ]
    },
    {
     "name": "stderr",
     "output_type": "stream",
     "text": [
      "100%|█████████████████████████████████████████| 229/229 [01:46<00:00,  2.15it/s]\n"
     ]
    },
    {
     "name": "stdout",
     "output_type": "stream",
     "text": [
      "Epoch:[25/200]\n",
      "Train Loss:1.1039951771626304 | Acc:0.6040631314510404 | F1:0.5943575923078196\n"
     ]
    },
    {
     "name": "stderr",
     "output_type": "stream",
     "text": [
      "100%|███████████████████████████████████████████| 58/58 [00:10<00:00,  5.32it/s]\n"
     ]
    },
    {
     "name": "stdout",
     "output_type": "stream",
     "text": [
      "val Loss:1.1568375057713753 | Acc:0.5784185233726518 | F1:0.5728217363467313\n",
      "SAVE: 25epoch\n"
     ]
    },
    {
     "name": "stderr",
     "output_type": "stream",
     "text": [
      "100%|█████████████████████████████████████████| 229/229 [01:46<00:00,  2.15it/s]\n"
     ]
    },
    {
     "name": "stdout",
     "output_type": "stream",
     "text": [
      "Epoch:[26/200]\n",
      "Train Loss:1.086005417681243 | Acc:0.6079405821637267 | F1:0.5988586218618688\n"
     ]
    },
    {
     "name": "stderr",
     "output_type": "stream",
     "text": [
      "100%|███████████████████████████████████████████| 58/58 [00:10<00:00,  5.27it/s]\n"
     ]
    },
    {
     "name": "stdout",
     "output_type": "stream",
     "text": [
      "val Loss:1.1524552374023598 | Acc:0.581913499344692 | F1:0.5762016418442483\n",
      "SAVE: 26epoch\n"
     ]
    },
    {
     "name": "stderr",
     "output_type": "stream",
     "text": [
      "100%|█████████████████████████████████████████| 229/229 [01:46<00:00,  2.15it/s]\n"
     ]
    },
    {
     "name": "stdout",
     "output_type": "stream",
     "text": [
      "Epoch:[27/200]\n",
      "Train Loss:1.0640986489869435 | Acc:0.6184260826825405 | F1:0.6088452286489469\n"
     ]
    },
    {
     "name": "stderr",
     "output_type": "stream",
     "text": [
      "100%|███████████████████████████████████████████| 58/58 [00:10<00:00,  5.29it/s]\n"
     ]
    },
    {
     "name": "stdout",
     "output_type": "stream",
     "text": [
      "val Loss:1.135777001039281 | Acc:0.5875928352992573 | F1:0.5822644282941205\n",
      "SAVE: 27epoch\n"
     ]
    },
    {
     "name": "stderr",
     "output_type": "stream",
     "text": [
      "100%|█████████████████████████████████████████| 229/229 [01:46<00:00,  2.15it/s]\n"
     ]
    },
    {
     "name": "stdout",
     "output_type": "stream",
     "text": [
      "Epoch:[28/200]\n",
      "Train Loss:1.0484377316791627 | Acc:0.6196821582655234 | F1:0.609597617193245\n"
     ]
    },
    {
     "name": "stderr",
     "output_type": "stream",
     "text": [
      "100%|███████████████████████████████████████████| 58/58 [00:11<00:00,  5.27it/s]\n"
     ]
    },
    {
     "name": "stdout",
     "output_type": "stream",
     "text": [
      "val Loss:1.1199935906940592 | Acc:0.5939274792485801 | F1:0.5885854278804822\n",
      "SAVE: 28epoch\n"
     ]
    },
    {
     "name": "stderr",
     "output_type": "stream",
     "text": [
      "100%|█████████████████████████████████████████| 229/229 [01:46<00:00,  2.15it/s]\n"
     ]
    },
    {
     "name": "stdout",
     "output_type": "stream",
     "text": [
      "Epoch:[29/200]\n",
      "Train Loss:1.0320885143602416 | Acc:0.6263448200535198 | F1:0.6168652661415888\n"
     ]
    },
    {
     "name": "stderr",
     "output_type": "stream",
     "text": [
      "100%|███████████████████████████████████████████| 58/58 [00:10<00:00,  5.32it/s]\n"
     ]
    },
    {
     "name": "stdout",
     "output_type": "stream",
     "text": [
      "val Loss:1.1086857617812784 | Acc:0.5996068152031455 | F1:0.5941532657990328\n",
      "SAVE: 29epoch\n"
     ]
    },
    {
     "name": "stderr",
     "output_type": "stream",
     "text": [
      "100%|█████████████████████████████████████████| 229/229 [01:46<00:00,  2.15it/s]\n"
     ]
    },
    {
     "name": "stdout",
     "output_type": "stream",
     "text": [
      "Epoch:[30/200]\n",
      "Train Loss:1.0175803403227823 | Acc:0.6347004532794495 | F1:0.6261517400624984\n"
     ]
    },
    {
     "name": "stderr",
     "output_type": "stream",
     "text": [
      "100%|███████████████████████████████████████████| 58/58 [00:10<00:00,  5.30it/s]\n"
     ]
    },
    {
     "name": "stdout",
     "output_type": "stream",
     "text": [
      "val Loss:1.100787748567607 | Acc:0.6006989951944081 | F1:0.5950252146889711\n",
      "SAVE: 30epoch\n"
     ]
    },
    {
     "name": "stderr",
     "output_type": "stream",
     "text": [
      "100%|█████████████████████████████████████████| 229/229 [01:46<00:00,  2.15it/s]\n"
     ]
    },
    {
     "name": "stdout",
     "output_type": "stream",
     "text": [
      "Epoch:[31/200]\n",
      "Train Loss:0.9995827842895418 | Acc:0.642837638577904 | F1:0.6344948193426873\n"
     ]
    },
    {
     "name": "stderr",
     "output_type": "stream",
     "text": [
      "100%|███████████████████████████████████████████| 58/58 [00:10<00:00,  5.31it/s]\n"
     ]
    },
    {
     "name": "stdout",
     "output_type": "stream",
     "text": [
      "val Loss:1.0860772629709106 | Acc:0.6033202271734381 | F1:0.5978475022938371\n",
      "SAVE: 31epoch\n"
     ]
    },
    {
     "name": "stderr",
     "output_type": "stream",
     "text": [
      "100%|█████████████████████████████████████████| 229/229 [01:46<00:00,  2.15it/s]\n"
     ]
    },
    {
     "name": "stdout",
     "output_type": "stream",
     "text": [
      "Epoch:[32/200]\n",
      "Train Loss:0.9835330714794557 | Acc:0.6463328054175086 | F1:0.6383257605147685\n"
     ]
    },
    {
     "name": "stderr",
     "output_type": "stream",
     "text": [
      "100%|███████████████████████████████████████████| 58/58 [00:10<00:00,  5.37it/s]\n"
     ]
    },
    {
     "name": "stdout",
     "output_type": "stream",
     "text": [
      "val Loss:1.0777881388947557 | Acc:0.6061598951507209 | F1:0.6008999867492639\n",
      "SAVE: 32epoch\n"
     ]
    },
    {
     "name": "stderr",
     "output_type": "stream",
     "text": [
      "100%|█████████████████████████████████████████| 229/229 [01:46<00:00,  2.15it/s]\n"
     ]
    },
    {
     "name": "stdout",
     "output_type": "stream",
     "text": [
      "Epoch:[33/200]\n",
      "Train Loss:0.9719521867428802 | Acc:0.6494456883840315 | F1:0.6415180530530414\n"
     ]
    },
    {
     "name": "stderr",
     "output_type": "stream",
     "text": [
      "100%|███████████████████████████████████████████| 58/58 [00:10<00:00,  5.33it/s]\n"
     ]
    },
    {
     "name": "stdout",
     "output_type": "stream",
     "text": [
      "val Loss:1.0632850997257357 | Acc:0.6122761031017911 | F1:0.607701691148021\n",
      "SAVE: 33epoch\n"
     ]
    },
    {
     "name": "stderr",
     "output_type": "stream",
     "text": [
      "100%|█████████████████████████████████████████| 229/229 [01:46<00:00,  2.15it/s]\n"
     ]
    },
    {
     "name": "stdout",
     "output_type": "stream",
     "text": [
      "Epoch:[34/200]\n",
      "Train Loss:0.9599195763946432 | Acc:0.6556168423352083 | F1:0.6479163597839038\n"
     ]
    },
    {
     "name": "stderr",
     "output_type": "stream",
     "text": [
      "100%|███████████████████████████████████████████| 58/58 [00:10<00:00,  5.35it/s]\n"
     ]
    },
    {
     "name": "stdout",
     "output_type": "stream",
     "text": [
      "val Loss:1.0599728458153728 | Acc:0.610965487112276 | F1:0.6050708789444004\n",
      "SAVE: 34epoch\n"
     ]
    },
    {
     "name": "stderr",
     "output_type": "stream",
     "text": [
      "100%|█████████████████████████████████████████| 229/229 [01:46<00:00,  2.15it/s]\n"
     ]
    },
    {
     "name": "stdout",
     "output_type": "stream",
     "text": [
      "Epoch:[35/200]\n",
      "Train Loss:0.9501791479813981 | Acc:0.6573644257550106 | F1:0.6491783043219692\n"
     ]
    },
    {
     "name": "stderr",
     "output_type": "stream",
     "text": [
      "100%|███████████████████████████████████████████| 58/58 [00:10<00:00,  5.31it/s]\n"
     ]
    },
    {
     "name": "stdout",
     "output_type": "stream",
     "text": [
      "val Loss:1.0520711703662948 | Acc:0.6142420270860638 | F1:0.6095961738112922\n",
      "SAVE: 35epoch\n"
     ]
    },
    {
     "name": "stderr",
     "output_type": "stream",
     "text": [
      "100%|█████████████████████████████████████████| 229/229 [01:46<00:00,  2.15it/s]\n"
     ]
    },
    {
     "name": "stdout",
     "output_type": "stream",
     "text": [
      "Epoch:[36/200]\n",
      "Train Loss:0.9395693336899775 | Acc:0.6649554912347769 | F1:0.6568373001448448\n"
     ]
    },
    {
     "name": "stderr",
     "output_type": "stream",
     "text": [
      "100%|███████████████████████████████████████████| 58/58 [00:10<00:00,  5.35it/s]\n"
     ]
    },
    {
     "name": "stdout",
     "output_type": "stream",
     "text": [
      "val Loss:1.0411348447835096 | Acc:0.6175185670598514 | F1:0.6120178163369303\n",
      "SAVE: 36epoch\n"
     ]
    },
    {
     "name": "stderr",
     "output_type": "stream",
     "text": [
      "100%|█████████████████████████████████████████| 229/229 [01:46<00:00,  2.15it/s]\n"
     ]
    },
    {
     "name": "stdout",
     "output_type": "stream",
     "text": [
      "Epoch:[37/200]\n",
      "Train Loss:0.9310569450300712 | Acc:0.6653377751078586 | F1:0.6577254155351147\n"
     ]
    },
    {
     "name": "stderr",
     "output_type": "stream",
     "text": [
      "100%|███████████████████████████████████████████| 58/58 [00:10<00:00,  5.29it/s]\n"
     ]
    },
    {
     "name": "stdout",
     "output_type": "stream",
     "text": [
      "val Loss:1.0349674075646607 | Acc:0.6218872870249017 | F1:0.6176055286436755\n",
      "SAVE: 37epoch\n"
     ]
    },
    {
     "name": "stderr",
     "output_type": "stream",
     "text": [
      "100%|█████████████████████████████████████████| 229/229 [01:46<00:00,  2.15it/s]\n"
     ]
    },
    {
     "name": "stdout",
     "output_type": "stream",
     "text": [
      "Epoch:[38/200]\n",
      "Train Loss:0.9134868358766276 | Acc:0.6730926765332313 | F1:0.6655633673970183\n"
     ]
    },
    {
     "name": "stderr",
     "output_type": "stream",
     "text": [
      "100%|███████████████████████████████████████████| 58/58 [00:10<00:00,  5.32it/s]\n"
     ]
    },
    {
     "name": "stdout",
     "output_type": "stream",
     "text": [
      "val Loss:1.0346620390122507 | Acc:0.6212319790301442 | F1:0.6148058340673824\n",
      "SAVE: 38epoch\n"
     ]
    },
    {
     "name": "stderr",
     "output_type": "stream",
     "text": [
      "100%|█████████████████████████████████████████| 229/229 [01:46<00:00,  2.15it/s]\n"
     ]
    },
    {
     "name": "stdout",
     "output_type": "stream",
     "text": [
      "Epoch:[39/200]\n",
      "Train Loss:0.9072058213563732 | Acc:0.6729288405876249 | F1:0.6650872944990195\n"
     ]
    },
    {
     "name": "stderr",
     "output_type": "stream",
     "text": [
      "100%|███████████████████████████████████████████| 58/58 [00:10<00:00,  5.29it/s]\n"
     ]
    },
    {
     "name": "stdout",
     "output_type": "stream",
     "text": [
      "val Loss:1.029262378753247 | Acc:0.6236347750109218 | F1:0.6173229543652384\n",
      "SAVE: 39epoch\n"
     ]
    },
    {
     "name": "stderr",
     "output_type": "stream",
     "text": [
      "100%|█████████████████████████████████████████| 229/229 [01:46<00:00,  2.16it/s]\n"
     ]
    },
    {
     "name": "stdout",
     "output_type": "stream",
     "text": [
      "Epoch:[40/200]\n",
      "Train Loss:0.8922493377522739 | Acc:0.6777893069739501 | F1:0.6699683447412114\n"
     ]
    },
    {
     "name": "stderr",
     "output_type": "stream",
     "text": [
      "100%|███████████████████████████████████████████| 58/58 [00:10<00:00,  5.31it/s]\n"
     ]
    },
    {
     "name": "stdout",
     "output_type": "stream",
     "text": [
      "val Loss:1.0140592516796616 | Acc:0.6314984709480123 | F1:0.626396611310697\n",
      "SAVE: 40epoch\n"
     ]
    },
    {
     "name": "stderr",
     "output_type": "stream",
     "text": [
      "100%|█████████████████████████████████████████| 229/229 [01:46<00:00,  2.14it/s]\n"
     ]
    },
    {
     "name": "stdout",
     "output_type": "stream",
     "text": [
      "Epoch:[41/200]\n",
      "Train Loss:0.888732479460528 | Acc:0.6795915023756212 | F1:0.6712386860593126\n"
     ]
    },
    {
     "name": "stderr",
     "output_type": "stream",
     "text": [
      "100%|███████████████████████████████████████████| 58/58 [00:11<00:00,  5.26it/s]\n"
     ]
    },
    {
     "name": "stdout",
     "output_type": "stream",
     "text": [
      "val Loss:1.0088108928508768 | Acc:0.6308431629532547 | F1:0.6275654512967652\n",
      "SAVE: 41epoch\n"
     ]
    },
    {
     "name": "stderr",
     "output_type": "stream",
     "text": [
      "100%|█████████████████████████████████████████| 229/229 [01:46<00:00,  2.15it/s]\n"
     ]
    },
    {
     "name": "stdout",
     "output_type": "stream",
     "text": [
      "Epoch:[42/200]\n",
      "Train Loss:0.8703093859338336 | Acc:0.6888209273114522 | F1:0.681712966324443\n"
     ]
    },
    {
     "name": "stderr",
     "output_type": "stream",
     "text": [
      "100%|███████████████████████████████████████████| 58/58 [00:10<00:00,  5.28it/s]\n"
     ]
    },
    {
     "name": "stdout",
     "output_type": "stream",
     "text": [
      "val Loss:1.0103057675249143 | Acc:0.6286588029707296 | F1:0.6233223788819302\n"
     ]
    },
    {
     "name": "stderr",
     "output_type": "stream",
     "text": [
      "100%|█████████████████████████████████████████| 229/229 [01:46<00:00,  2.15it/s]\n"
     ]
    },
    {
     "name": "stdout",
     "output_type": "stream",
     "text": [
      "Epoch:[43/200]\n",
      "Train Loss:0.8615470505686501 | Acc:0.6890393752389274 | F1:0.6816553179187208\n"
     ]
    },
    {
     "name": "stderr",
     "output_type": "stream",
     "text": [
      "100%|███████████████████████████████████████████| 58/58 [00:10<00:00,  5.36it/s]\n"
     ]
    },
    {
     "name": "stdout",
     "output_type": "stream",
     "text": [
      "val Loss:0.9990688265020955 | Acc:0.6321537789427698 | F1:0.626355890678071\n",
      "SAVE: 43epoch\n"
     ]
    },
    {
     "name": "stderr",
     "output_type": "stream",
     "text": [
      "100%|█████████████████████████████████████████| 229/229 [01:46<00:00,  2.15it/s]\n"
     ]
    },
    {
     "name": "stdout",
     "output_type": "stream",
     "text": [
      "Epoch:[44/200]\n",
      "Train Loss:0.8561894967439987 | Acc:0.6953743651357108 | F1:0.6879806577802474\n"
     ]
    },
    {
     "name": "stderr",
     "output_type": "stream",
     "text": [
      "100%|███████████████████████████████████████████| 58/58 [00:10<00:00,  5.34it/s]\n"
     ]
    },
    {
     "name": "stdout",
     "output_type": "stream",
     "text": [
      "val Loss:0.9962888241803713 | Acc:0.6341197029270423 | F1:0.6284591516619382\n",
      "SAVE: 44epoch\n"
     ]
    },
    {
     "name": "stderr",
     "output_type": "stream",
     "text": [
      "100%|█████████████████████████████████████████| 229/229 [01:46<00:00,  2.15it/s]\n"
     ]
    },
    {
     "name": "stdout",
     "output_type": "stream",
     "text": [
      "Epoch:[45/200]\n",
      "Train Loss:0.8428300447352274 | Acc:0.6927529900060073 | F1:0.68550296380418\n"
     ]
    },
    {
     "name": "stderr",
     "output_type": "stream",
     "text": [
      "100%|███████████████████████████████████████████| 58/58 [00:10<00:00,  5.29it/s]\n"
     ]
    },
    {
     "name": "stdout",
     "output_type": "stream",
     "text": [
      "val Loss:0.9893194032892383 | Acc:0.6369593709043251 | F1:0.6317395121183795\n",
      "SAVE: 45epoch\n"
     ]
    },
    {
     "name": "stderr",
     "output_type": "stream",
     "text": [
      "100%|█████████████████████████████████████████| 229/229 [01:46<00:00,  2.14it/s]\n"
     ]
    },
    {
     "name": "stdout",
     "output_type": "stream",
     "text": [
      "Epoch:[46/200]\n",
      "Train Loss:0.8387306173803063 | Acc:0.6976134563923325 | F1:0.6904861843598383\n"
     ]
    },
    {
     "name": "stderr",
     "output_type": "stream",
     "text": [
      "100%|███████████████████████████████████████████| 58/58 [00:10<00:00,  5.27it/s]\n"
     ]
    },
    {
     "name": "stdout",
     "output_type": "stream",
     "text": [
      "val Loss:0.9853125576787559 | Acc:0.6402359108781127 | F1:0.634720980823058\n",
      "SAVE: 46epoch\n"
     ]
    },
    {
     "name": "stderr",
     "output_type": "stream",
     "text": [
      "100%|█████████████████████████████████████████| 229/229 [01:46<00:00,  2.15it/s]\n"
     ]
    },
    {
     "name": "stdout",
     "output_type": "stream",
     "text": [
      "Epoch:[47/200]\n",
      "Train Loss:0.8257151018439777 | Acc:0.7046037900715417 | F1:0.6980074281054153\n"
     ]
    },
    {
     "name": "stderr",
     "output_type": "stream",
     "text": [
      "100%|███████████████████████████████████████████| 58/58 [00:10<00:00,  5.33it/s]\n"
     ]
    },
    {
     "name": "stdout",
     "output_type": "stream",
     "text": [
      "val Loss:0.9823567568344442 | Acc:0.6448230668414154 | F1:0.6387726108594839\n",
      "SAVE: 47epoch\n"
     ]
    },
    {
     "name": "stderr",
     "output_type": "stream",
     "text": [
      "100%|█████████████████████████████████████████| 229/229 [01:46<00:00,  2.15it/s]\n"
     ]
    },
    {
     "name": "stdout",
     "output_type": "stream",
     "text": [
      "Epoch:[48/200]\n",
      "Train Loss:0.8176092253182614 | Acc:0.7074982251105892 | F1:0.700174915431145\n"
     ]
    },
    {
     "name": "stderr",
     "output_type": "stream",
     "text": [
      "100%|███████████████████████████████████████████| 58/58 [00:11<00:00,  5.25it/s]\n"
     ]
    },
    {
     "name": "stdout",
     "output_type": "stream",
     "text": [
      "val Loss:0.9701138053361169 | Acc:0.6478811708169506 | F1:0.6429654173982592\n",
      "SAVE: 48epoch\n"
     ]
    },
    {
     "name": "stderr",
     "output_type": "stream",
     "text": [
      "100%|█████████████████████████████████████████| 229/229 [01:46<00:00,  2.15it/s]\n"
     ]
    },
    {
     "name": "stdout",
     "output_type": "stream",
     "text": [
      "Epoch:[49/200]\n",
      "Train Loss:0.8155530132176309 | Acc:0.7074436131287204 | F1:0.6997221359301594\n"
     ]
    },
    {
     "name": "stderr",
     "output_type": "stream",
     "text": [
      "100%|███████████████████████████████████████████| 58/58 [00:10<00:00,  5.29it/s]\n"
     ]
    },
    {
     "name": "stdout",
     "output_type": "stream",
     "text": [
      "val Loss:0.9693147231002415 | Acc:0.6509392747924858 | F1:0.6458516569913215\n",
      "SAVE: 49epoch\n"
     ]
    },
    {
     "name": "stderr",
     "output_type": "stream",
     "text": [
      "100%|█████████████████████████████████████████| 229/229 [01:46<00:00,  2.15it/s]\n"
     ]
    },
    {
     "name": "stdout",
     "output_type": "stream",
     "text": [
      "Epoch:[50/200]\n",
      "Train Loss:0.8011514392732942 | Acc:0.7123586914969144 | F1:0.7048050823630193\n"
     ]
    },
    {
     "name": "stderr",
     "output_type": "stream",
     "text": [
      "100%|███████████████████████████████████████████| 58/58 [00:10<00:00,  5.31it/s]\n"
     ]
    },
    {
     "name": "stdout",
     "output_type": "stream",
     "text": [
      "val Loss:0.9659087704799747 | Acc:0.6509392747924858 | F1:0.6450335079229811\n",
      "SAVE: 50epoch\n"
     ]
    },
    {
     "name": "stderr",
     "output_type": "stream",
     "text": [
      "100%|█████████████████████████████████████████| 229/229 [01:46<00:00,  2.15it/s]\n"
     ]
    },
    {
     "name": "stdout",
     "output_type": "stream",
     "text": [
      "Epoch:[51/200]\n",
      "Train Loss:0.7958609730364956 | Acc:0.7147616186991426 | F1:0.7074520406762718\n"
     ]
    },
    {
     "name": "stderr",
     "output_type": "stream",
     "text": [
      "100%|███████████████████████████████████████████| 58/58 [00:11<00:00,  5.27it/s]\n"
     ]
    },
    {
     "name": "stdout",
     "output_type": "stream",
     "text": [
      "val Loss:0.9645364830565796 | Acc:0.654434250764526 | F1:0.6486813045480576\n",
      "SAVE: 51epoch\n"
     ]
    },
    {
     "name": "stderr",
     "output_type": "stream",
     "text": [
      "100%|█████████████████████████████████████████| 229/229 [01:46<00:00,  2.15it/s]\n"
     ]
    },
    {
     "name": "stdout",
     "output_type": "stream",
     "text": [
      "Epoch:[52/200]\n",
      "Train Loss:0.7856974326459449 | Acc:0.7209327726503195 | F1:0.7135523695623023\n"
     ]
    },
    {
     "name": "stderr",
     "output_type": "stream",
     "text": [
      "100%|███████████████████████████████████████████| 58/58 [00:10<00:00,  5.31it/s]\n"
     ]
    },
    {
     "name": "stdout",
     "output_type": "stream",
     "text": [
      "val Loss:0.9642948596016087 | Acc:0.6513761467889908 | F1:0.6460288685152092\n",
      "SAVE: 52epoch\n"
     ]
    },
    {
     "name": "stderr",
     "output_type": "stream",
     "text": [
      "100%|█████████████████████████████████████████| 229/229 [01:46<00:00,  2.15it/s]\n"
     ]
    },
    {
     "name": "stdout",
     "output_type": "stream",
     "text": [
      "Epoch:[53/200]\n",
      "Train Loss:0.7809298694586221 | Acc:0.7200589809404183 | F1:0.7124283498561661\n"
     ]
    },
    {
     "name": "stderr",
     "output_type": "stream",
     "text": [
      "100%|███████████████████████████████████████████| 58/58 [00:10<00:00,  5.33it/s]\n"
     ]
    },
    {
     "name": "stdout",
     "output_type": "stream",
     "text": [
      "val Loss:0.9620226898428758 | Acc:0.6583660987330712 | F1:0.6528801369890888\n",
      "SAVE: 53epoch\n"
     ]
    },
    {
     "name": "stderr",
     "output_type": "stream",
     "text": [
      "100%|█████████████████████████████████████████| 229/229 [01:46<00:00,  2.15it/s]\n"
     ]
    },
    {
     "name": "stdout",
     "output_type": "stream",
     "text": [
      "Epoch:[54/200]\n",
      "Train Loss:0.7740231135353608 | Acc:0.7213696685052701 | F1:0.7146095962508746\n"
     ]
    },
    {
     "name": "stderr",
     "output_type": "stream",
     "text": [
      "100%|███████████████████████████████████████████| 58/58 [00:10<00:00,  5.38it/s]\n"
     ]
    },
    {
     "name": "stdout",
     "output_type": "stream",
     "text": [
      "val Loss:0.9527827186217835 | Acc:0.6627348186981215 | F1:0.6579086837683726\n",
      "SAVE: 54epoch\n"
     ]
    },
    {
     "name": "stderr",
     "output_type": "stream",
     "text": [
      "100%|█████████████████████████████████████████| 229/229 [01:46<00:00,  2.15it/s]\n"
     ]
    },
    {
     "name": "stdout",
     "output_type": "stream",
     "text": [
      "Epoch:[55/200]\n",
      "Train Loss:0.759686191106349 | Acc:0.7270493146196275 | F1:0.7198381852913274\n"
     ]
    },
    {
     "name": "stderr",
     "output_type": "stream",
     "text": [
      "100%|███████████████████████████████████████████| 58/58 [00:11<00:00,  5.26it/s]\n"
     ]
    },
    {
     "name": "stdout",
     "output_type": "stream",
     "text": [
      "val Loss:0.951235857422355 | Acc:0.662953254696374 | F1:0.6562951525643914\n",
      "SAVE: 55epoch\n"
     ]
    },
    {
     "name": "stderr",
     "output_type": "stream",
     "text": [
      "100%|█████████████████████████████████████████| 229/229 [01:46<00:00,  2.15it/s]\n"
     ]
    },
    {
     "name": "stdout",
     "output_type": "stream",
     "text": [
      "Epoch:[56/200]\n",
      "Train Loss:0.749718827937889 | Acc:0.7301621975861504 | F1:0.7231329260998193\n"
     ]
    },
    {
     "name": "stderr",
     "output_type": "stream",
     "text": [
      "100%|███████████████████████████████████████████| 58/58 [00:10<00:00,  5.31it/s]\n"
     ]
    },
    {
     "name": "stdout",
     "output_type": "stream",
     "text": [
      "val Loss:0.9465901407158078 | Acc:0.6631716906946264 | F1:0.6572433075493388\n",
      "SAVE: 56epoch\n"
     ]
    },
    {
     "name": "stderr",
     "output_type": "stream",
     "text": [
      "100%|█████████████████████████████████████████| 229/229 [01:46<00:00,  2.15it/s]\n"
     ]
    },
    {
     "name": "stdout",
     "output_type": "stream",
     "text": [
      "Epoch:[57/200]\n",
      "Train Loss:0.7502165205956131 | Acc:0.7293430178581181 | F1:0.7220226893734025\n"
     ]
    },
    {
     "name": "stderr",
     "output_type": "stream",
     "text": [
      "100%|███████████████████████████████████████████| 58/58 [00:11<00:00,  5.27it/s]\n"
     ]
    },
    {
     "name": "stdout",
     "output_type": "stream",
     "text": [
      "val Loss:0.9380402993223667 | Acc:0.6664482306684142 | F1:0.6608004526663692\n",
      "SAVE: 57epoch\n"
     ]
    },
    {
     "name": "stderr",
     "output_type": "stream",
     "text": [
      "100%|█████████████████████████████████████████| 229/229 [01:46<00:00,  2.15it/s]\n"
     ]
    },
    {
     "name": "stdout",
     "output_type": "stream",
     "text": [
      "Epoch:[58/200]\n",
      "Train Loss:0.7410430294871949 | Acc:0.731800557042215 | F1:0.7238969001015949\n"
     ]
    },
    {
     "name": "stderr",
     "output_type": "stream",
     "text": [
      "100%|███████████████████████████████████████████| 58/58 [00:10<00:00,  5.32it/s]\n"
     ]
    },
    {
     "name": "stdout",
     "output_type": "stream",
     "text": [
      "val Loss:0.9430650592943944 | Acc:0.6668851026649192 | F1:0.6609359059088012\n"
     ]
    },
    {
     "name": "stderr",
     "output_type": "stream",
     "text": [
      "100%|█████████████████████████████████████████| 229/229 [01:46<00:00,  2.15it/s]\n"
     ]
    },
    {
     "name": "stdout",
     "output_type": "stream",
     "text": [
      "Epoch:[59/200]\n",
      "Train Loss:0.7332774112274187 | Acc:0.7353503358636885 | F1:0.72735131877044\n"
     ]
    },
    {
     "name": "stderr",
     "output_type": "stream",
     "text": [
      "100%|███████████████████████████████████████████| 58/58 [00:10<00:00,  5.30it/s]\n"
     ]
    },
    {
     "name": "stdout",
     "output_type": "stream",
     "text": [
      "val Loss:0.936791210546406 | Acc:0.6677588466579292 | F1:0.662049176147039\n",
      "SAVE: 59epoch\n"
     ]
    },
    {
     "name": "stderr",
     "output_type": "stream",
     "text": [
      "100%|█████████████████████████████████████████| 229/229 [01:46<00:00,  2.15it/s]\n"
     ]
    },
    {
     "name": "stdout",
     "output_type": "stream",
     "text": [
      "Epoch:[60/200]\n",
      "Train Loss:0.7363154022061228 | Acc:0.7384086068483425 | F1:0.7317990520034162\n"
     ]
    },
    {
     "name": "stderr",
     "output_type": "stream",
     "text": [
      "100%|███████████████████████████████████████████| 58/58 [00:10<00:00,  5.30it/s]\n"
     ]
    },
    {
     "name": "stdout",
     "output_type": "stream",
     "text": [
      "val Loss:0.9396888336769719 | Acc:0.6677588466579292 | F1:0.661896016497152\n"
     ]
    },
    {
     "name": "stderr",
     "output_type": "stream",
     "text": [
      "100%|█████████████████████████████████████████| 229/229 [01:46<00:00,  2.15it/s]\n"
     ]
    },
    {
     "name": "stdout",
     "output_type": "stream",
     "text": [
      "Epoch:[61/200]\n",
      "Train Loss:0.7202576874358554 | Acc:0.7426683414341106 | F1:0.7353064204276366\n"
     ]
    },
    {
     "name": "stderr",
     "output_type": "stream",
     "text": [
      "100%|███████████████████████████████████████████| 58/58 [00:10<00:00,  5.31it/s]\n"
     ]
    },
    {
     "name": "stdout",
     "output_type": "stream",
     "text": [
      "val Loss:0.9251619536655863 | Acc:0.6738750546089995 | F1:0.6677190428607197\n",
      "SAVE: 61epoch\n"
     ]
    },
    {
     "name": "stderr",
     "output_type": "stream",
     "text": [
      "100%|█████████████████████████████████████████| 229/229 [01:46<00:00,  2.15it/s]\n"
     ]
    },
    {
     "name": "stdout",
     "output_type": "stream",
     "text": [
      "Epoch:[62/200]\n",
      "Train Loss:0.7147974937455995 | Acc:0.7439244170170936 | F1:0.7371285451899509\n"
     ]
    },
    {
     "name": "stderr",
     "output_type": "stream",
     "text": [
      "100%|███████████████████████████████████████████| 58/58 [00:11<00:00,  5.27it/s]\n"
     ]
    },
    {
     "name": "stdout",
     "output_type": "stream",
     "text": [
      "val Loss:0.9316574561642788 | Acc:0.6699432066404544 | F1:0.6643233709112312\n"
     ]
    },
    {
     "name": "stderr",
     "output_type": "stream",
     "text": [
      "100%|█████████████████████████████████████████| 229/229 [01:46<00:00,  2.15it/s]\n"
     ]
    },
    {
     "name": "stdout",
     "output_type": "stream",
     "text": [
      "Epoch:[63/200]\n",
      "Train Loss:0.7039354103096296 | Acc:0.749604063131451 | F1:0.7422438737013525\n"
     ]
    },
    {
     "name": "stderr",
     "output_type": "stream",
     "text": [
      "100%|███████████████████████████████████████████| 58/58 [00:10<00:00,  5.32it/s]\n"
     ]
    },
    {
     "name": "stdout",
     "output_type": "stream",
     "text": [
      "val Loss:0.9234365456069906 | Acc:0.6745303626037571 | F1:0.6676173512257693\n",
      "SAVE: 63epoch\n"
     ]
    },
    {
     "name": "stderr",
     "output_type": "stream",
     "text": [
      "100%|█████████████████████████████████████████| 229/229 [01:46<00:00,  2.15it/s]\n"
     ]
    },
    {
     "name": "stdout",
     "output_type": "stream",
     "text": [
      "Epoch:[64/200]\n",
      "Train Loss:0.7038329646156523 | Acc:0.74501665665447 | F1:0.7375571947802698\n"
     ]
    },
    {
     "name": "stderr",
     "output_type": "stream",
     "text": [
      "100%|███████████████████████████████████████████| 58/58 [00:10<00:00,  5.28it/s]\n"
     ]
    },
    {
     "name": "stdout",
     "output_type": "stream",
     "text": [
      "val Loss:0.925314025776831 | Acc:0.6767147225862822 | F1:0.6687570909053274\n"
     ]
    },
    {
     "name": "stderr",
     "output_type": "stream",
     "text": [
      "100%|█████████████████████████████████████████| 229/229 [01:46<00:00,  2.15it/s]\n"
     ]
    },
    {
     "name": "stdout",
     "output_type": "stream",
     "text": [
      "Epoch:[65/200]\n",
      "Train Loss:0.7006767440464604 | Acc:0.7504232428594834 | F1:0.7429940339096259\n"
     ]
    },
    {
     "name": "stderr",
     "output_type": "stream",
     "text": [
      "100%|███████████████████████████████████████████| 58/58 [00:11<00:00,  5.23it/s]\n"
     ]
    },
    {
     "name": "stdout",
     "output_type": "stream",
     "text": [
      "val Loss:0.9246830361646666 | Acc:0.6773700305810397 | F1:0.6713165508444997\n"
     ]
    },
    {
     "name": "stderr",
     "output_type": "stream",
     "text": [
      "100%|█████████████████████████████████████████| 229/229 [01:46<00:00,  2.15it/s]\n"
     ]
    },
    {
     "name": "stdout",
     "output_type": "stream",
     "text": [
      "Epoch:[66/200]\n",
      "Train Loss:0.6877087226310346 | Acc:0.7540276336628257 | F1:0.7472088588218924\n"
     ]
    },
    {
     "name": "stderr",
     "output_type": "stream",
     "text": [
      "100%|███████████████████████████████████████████| 58/58 [00:11<00:00,  5.26it/s]\n"
     ]
    },
    {
     "name": "stdout",
     "output_type": "stream",
     "text": [
      "val Loss:0.9239759492322106 | Acc:0.6786806465705548 | F1:0.6726976596049817\n"
     ]
    },
    {
     "name": "stderr",
     "output_type": "stream",
     "text": [
      "100%|█████████████████████████████████████████| 229/229 [01:46<00:00,  2.15it/s]\n"
     ]
    },
    {
     "name": "stdout",
     "output_type": "stream",
     "text": [
      "Epoch:[67/200]\n",
      "Train Loss:0.6845133401533653 | Acc:0.7550652613183333 | F1:0.7482826494610121\n"
     ]
    },
    {
     "name": "stderr",
     "output_type": "stream",
     "text": [
      "100%|███████████████████████████████████████████| 58/58 [00:10<00:00,  5.31it/s]\n"
     ]
    },
    {
     "name": "stdout",
     "output_type": "stream",
     "text": [
      "val Loss:0.9206000192553886 | Acc:0.68173875054609 | F1:0.6747174665266243\n",
      "SAVE: 67epoch\n"
     ]
    },
    {
     "name": "stderr",
     "output_type": "stream",
     "text": [
      "100%|█████████████████████████████████████████| 229/229 [01:46<00:00,  2.15it/s]\n"
     ]
    },
    {
     "name": "stdout",
     "output_type": "stream",
     "text": [
      "Epoch:[68/200]\n",
      "Train Loss:0.6804080933428469 | Acc:0.7558844410463655 | F1:0.749407508284225\n"
     ]
    },
    {
     "name": "stderr",
     "output_type": "stream",
     "text": [
      "100%|███████████████████████████████████████████| 58/58 [00:11<00:00,  5.25it/s]\n"
     ]
    },
    {
     "name": "stdout",
     "output_type": "stream",
     "text": [
      "val Loss:0.9136894829099279 | Acc:0.6826124945391 | F1:0.6751284174635629\n",
      "SAVE: 68epoch\n"
     ]
    },
    {
     "name": "stderr",
     "output_type": "stream",
     "text": [
      "100%|█████████████████████████████████████████| 229/229 [01:46<00:00,  2.15it/s]\n"
     ]
    },
    {
     "name": "stdout",
     "output_type": "stream",
     "text": [
      "Epoch:[69/200]\n",
      "Train Loss:0.6728813185084297 | Acc:0.7588881000491507 | F1:0.7514313366507926\n"
     ]
    },
    {
     "name": "stderr",
     "output_type": "stream",
     "text": [
      "100%|███████████████████████████████████████████| 58/58 [00:10<00:00,  5.35it/s]\n"
     ]
    },
    {
     "name": "stdout",
     "output_type": "stream",
     "text": [
      "val Loss:0.9190928946420479 | Acc:0.6778069025775448 | F1:0.6714384480861109\n"
     ]
    },
    {
     "name": "stderr",
     "output_type": "stream",
     "text": [
      "100%|█████████████████████████████████████████| 229/229 [01:46<00:00,  2.15it/s]\n"
     ]
    },
    {
     "name": "stdout",
     "output_type": "stream",
     "text": [
      "Epoch:[70/200]\n",
      "Train Loss:0.6637509793464675 | Acc:0.7658238217464912 | F1:0.7591068689006336\n"
     ]
    },
    {
     "name": "stderr",
     "output_type": "stream",
     "text": [
      "100%|███████████████████████████████████████████| 58/58 [00:11<00:00,  5.26it/s]\n"
     ]
    },
    {
     "name": "stdout",
     "output_type": "stream",
     "text": [
      "val Loss:0.9123304820753383 | Acc:0.6815203145478375 | F1:0.6747282234169697\n",
      "SAVE: 70epoch\n"
     ]
    },
    {
     "name": "stderr",
     "output_type": "stream",
     "text": [
      "100%|█████████████████████████████████████████| 229/229 [01:46<00:00,  2.15it/s]\n"
     ]
    },
    {
     "name": "stdout",
     "output_type": "stream",
     "text": [
      "Epoch:[71/200]\n",
      "Train Loss:0.6536776673968918 | Acc:0.7645677461635083 | F1:0.757339311621776\n"
     ]
    },
    {
     "name": "stderr",
     "output_type": "stream",
     "text": [
      "100%|███████████████████████████████████████████| 58/58 [00:10<00:00,  5.32it/s]\n"
     ]
    },
    {
     "name": "stdout",
     "output_type": "stream",
     "text": [
      "val Loss:0.9102167073765818 | Acc:0.6841415465268676 | F1:0.6777582701835652\n",
      "SAVE: 71epoch\n"
     ]
    },
    {
     "name": "stderr",
     "output_type": "stream",
     "text": [
      "100%|█████████████████████████████████████████| 229/229 [01:46<00:00,  2.15it/s]\n"
     ]
    },
    {
     "name": "stdout",
     "output_type": "stream",
     "text": [
      "Epoch:[72/200]\n",
      "Train Loss:0.6464039028963643 | Acc:0.7701927802959969 | F1:0.7634623024141073\n"
     ]
    },
    {
     "name": "stderr",
     "output_type": "stream",
     "text": [
      "100%|███████████████████████████████████████████| 58/58 [00:11<00:00,  5.25it/s]\n"
     ]
    },
    {
     "name": "stdout",
     "output_type": "stream",
     "text": [
      "val Loss:0.9108060916577327 | Acc:0.6843599825251201 | F1:0.6777554185346529\n"
     ]
    },
    {
     "name": "stderr",
     "output_type": "stream",
     "text": [
      "100%|█████████████████████████████████████████| 229/229 [01:46<00:00,  2.15it/s]\n"
     ]
    },
    {
     "name": "stdout",
     "output_type": "stream",
     "text": [
      "Epoch:[73/200]\n",
      "Train Loss:0.6492872414814964 | Acc:0.7700835563322593 | F1:0.7626386503129889\n"
     ]
    },
    {
     "name": "stderr",
     "output_type": "stream",
     "text": [
      "100%|███████████████████████████████████████████| 58/58 [00:10<00:00,  5.31it/s]\n"
     ]
    },
    {
     "name": "stdout",
     "output_type": "stream",
     "text": [
      "val Loss:0.9144196431935745 | Acc:0.6786806465705548 | F1:0.6708002614017555\n"
     ]
    },
    {
     "name": "stderr",
     "output_type": "stream",
     "text": [
      "100%|█████████████████████████████████████████| 229/229 [01:46<00:00,  2.15it/s]\n"
     ]
    },
    {
     "name": "stdout",
     "output_type": "stream",
     "text": [
      "Epoch:[74/200]\n",
      "Train Loss:0.6314673519630603 | Acc:0.7726503194800939 | F1:0.7657840169745233\n"
     ]
    },
    {
     "name": "stderr",
     "output_type": "stream",
     "text": [
      "100%|███████████████████████████████████████████| 58/58 [00:10<00:00,  5.29it/s]\n"
     ]
    },
    {
     "name": "stdout",
     "output_type": "stream",
     "text": [
      "val Loss:0.9124003078490691 | Acc:0.6837046745303627 | F1:0.67739527215666\n"
     ]
    },
    {
     "name": "stderr",
     "output_type": "stream",
     "text": [
      "100%|█████████████████████████████████████████| 229/229 [01:46<00:00,  2.15it/s]\n"
     ]
    },
    {
     "name": "stdout",
     "output_type": "stream",
     "text": [
      "Epoch:[75/200]\n",
      "Train Loss:0.6348507454488912 | Acc:0.7745617388455027 | F1:0.7667936385144608\n"
     ]
    },
    {
     "name": "stderr",
     "output_type": "stream",
     "text": [
      "100%|███████████████████████████████████████████| 58/58 [00:10<00:00,  5.31it/s]\n"
     ]
    },
    {
     "name": "stdout",
     "output_type": "stream",
     "text": [
      "val Loss:0.9081567620647792 | Acc:0.6852337265181302 | F1:0.678353950994148\n",
      "SAVE: 75epoch\n"
     ]
    },
    {
     "name": "stderr",
     "output_type": "stream",
     "text": [
      "100%|█████████████████████████████████████████| 229/229 [01:46<00:00,  2.15it/s]\n"
     ]
    },
    {
     "name": "stdout",
     "output_type": "stream",
     "text": [
      "Epoch:[76/200]\n",
      "Train Loss:0.6246433188722419 | Acc:0.7765823821746491 | F1:0.7694684222644534\n"
     ]
    },
    {
     "name": "stderr",
     "output_type": "stream",
     "text": [
      "100%|███████████████████████████████████████████| 58/58 [00:10<00:00,  5.28it/s]\n"
     ]
    },
    {
     "name": "stdout",
     "output_type": "stream",
     "text": [
      "val Loss:0.9052649378620312 | Acc:0.6891655744866754 | F1:0.6811224748231555\n",
      "SAVE: 76epoch\n"
     ]
    },
    {
     "name": "stderr",
     "output_type": "stream",
     "text": [
      "100%|█████████████████████████████████████████| 229/229 [01:46<00:00,  2.15it/s]\n"
     ]
    },
    {
     "name": "stdout",
     "output_type": "stream",
     "text": [
      "Epoch:[77/200]\n",
      "Train Loss:0.6183532108172565 | Acc:0.7813882365791055 | F1:0.7748391101192527\n"
     ]
    },
    {
     "name": "stderr",
     "output_type": "stream",
     "text": [
      "100%|███████████████████████████████████████████| 58/58 [00:10<00:00,  5.34it/s]\n"
     ]
    },
    {
     "name": "stdout",
     "output_type": "stream",
     "text": [
      "val Loss:0.9054001373930132 | Acc:0.6871996505024028 | F1:0.6800727675169486\n"
     ]
    },
    {
     "name": "stderr",
     "output_type": "stream",
     "text": [
      "100%|█████████████████████████████████████████| 229/229 [01:46<00:00,  2.15it/s]\n"
     ]
    },
    {
     "name": "stdout",
     "output_type": "stream",
     "text": [
      "Epoch:[78/200]\n",
      "Train Loss:0.6150646185905537 | Acc:0.7806782808148107 | F1:0.7734969204617798\n"
     ]
    },
    {
     "name": "stderr",
     "output_type": "stream",
     "text": [
      "100%|███████████████████████████████████████████| 58/58 [00:11<00:00,  5.25it/s]\n"
     ]
    },
    {
     "name": "stdout",
     "output_type": "stream",
     "text": [
      "val Loss:0.9085537136876984 | Acc:0.6885102664919178 | F1:0.6818618873085587\n"
     ]
    },
    {
     "name": "stderr",
     "output_type": "stream",
     "text": [
      "100%|█████████████████████████████████████████| 229/229 [01:46<00:00,  2.14it/s]\n"
     ]
    },
    {
     "name": "stdout",
     "output_type": "stream",
     "text": [
      "Epoch:[79/200]\n",
      "Train Loss:0.6051411998017391 | Acc:0.78395499972694 | F1:0.7771833969342765\n"
     ]
    },
    {
     "name": "stderr",
     "output_type": "stream",
     "text": [
      "100%|███████████████████████████████████████████| 58/58 [00:10<00:00,  5.31it/s]\n"
     ]
    },
    {
     "name": "stdout",
     "output_type": "stream",
     "text": [
      "val Loss:0.9104216863047665 | Acc:0.6852337265181302 | F1:0.6764048816674488\n"
     ]
    },
    {
     "name": "stderr",
     "output_type": "stream",
     "text": [
      "100%|█████████████████████████████████████████| 229/229 [01:46<00:00,  2.15it/s]\n"
     ]
    },
    {
     "name": "stdout",
     "output_type": "stream",
     "text": [
      "Epoch:[80/200]\n",
      "Train Loss:0.5945967840677034 | Acc:0.7916006771885752 | F1:0.7849599824671524\n"
     ]
    },
    {
     "name": "stderr",
     "output_type": "stream",
     "text": [
      "100%|███████████████████████████████████████████| 58/58 [00:10<00:00,  5.29it/s]\n"
     ]
    },
    {
     "name": "stdout",
     "output_type": "stream",
     "text": [
      "val Loss:0.9096459624235054 | Acc:0.6885102664919178 | F1:0.6814474563956713\n"
     ]
    },
    {
     "name": "stderr",
     "output_type": "stream",
     "text": [
      "100%|█████████████████████████████████████████| 229/229 [01:46<00:00,  2.15it/s]\n"
     ]
    },
    {
     "name": "stdout",
     "output_type": "stream",
     "text": [
      "Epoch:[81/200]\n",
      "Train Loss:0.5972603770621606 | Acc:0.7874501665665447 | F1:0.7813049366827824\n"
     ]
    },
    {
     "name": "stderr",
     "output_type": "stream",
     "text": [
      "100%|███████████████████████████████████████████| 58/58 [00:10<00:00,  5.29it/s]\n"
     ]
    },
    {
     "name": "stdout",
     "output_type": "stream",
     "text": [
      "val Loss:0.9095353947398235 | Acc:0.6900393184796855 | F1:0.6834703269898189\n"
     ]
    },
    {
     "name": "stderr",
     "output_type": "stream",
     "text": [
      "100%|█████████████████████████████████████████| 229/229 [01:46<00:00,  2.15it/s]\n"
     ]
    },
    {
     "name": "stdout",
     "output_type": "stream",
     "text": [
      "Epoch:[82/200]\n",
      "Train Loss:0.5965714613663871 | Acc:0.7895254218775599 | F1:0.7827068829468615\n"
     ]
    },
    {
     "name": "stderr",
     "output_type": "stream",
     "text": [
      "100%|███████████████████████████████████████████| 58/58 [00:11<00:00,  5.25it/s]\n"
     ]
    },
    {
     "name": "stdout",
     "output_type": "stream",
     "text": [
      "val Loss:0.9035162551791557 | Acc:0.6926605504587156 | F1:0.6858948746438528\n",
      "SAVE: 82epoch\n"
     ]
    },
    {
     "name": "stderr",
     "output_type": "stream",
     "text": [
      "100%|█████████████████████████████████████████| 229/229 [01:46<00:00,  2.15it/s]\n"
     ]
    },
    {
     "name": "stdout",
     "output_type": "stream",
     "text": [
      "Epoch:[83/200]\n",
      "Train Loss:0.5901695597693255 | Acc:0.7893615859319535 | F1:0.7831494907887894\n"
     ]
    },
    {
     "name": "stderr",
     "output_type": "stream",
     "text": [
      "100%|███████████████████████████████████████████| 58/58 [00:10<00:00,  5.32it/s]\n"
     ]
    },
    {
     "name": "stdout",
     "output_type": "stream",
     "text": [
      "val Loss:0.9039355230128312 | Acc:0.6909130624726955 | F1:0.6836304495278673\n"
     ]
    },
    {
     "name": "stderr",
     "output_type": "stream",
     "text": [
      "100%|█████████████████████████████████████████| 229/229 [01:46<00:00,  2.15it/s]\n"
     ]
    },
    {
     "name": "stdout",
     "output_type": "stream",
     "text": [
      "Epoch:[84/200]\n",
      "Train Loss:0.5906460869905371 | Acc:0.7900715416962482 | F1:0.7832388891714259\n"
     ]
    },
    {
     "name": "stderr",
     "output_type": "stream",
     "text": [
      "100%|███████████████████████████████████████████| 58/58 [00:11<00:00,  5.24it/s]\n"
     ]
    },
    {
     "name": "stdout",
     "output_type": "stream",
     "text": [
      "val Loss:0.9002277671431496 | Acc:0.6933158584534731 | F1:0.6860926249274691\n",
      "SAVE: 84epoch\n"
     ]
    },
    {
     "name": "stderr",
     "output_type": "stream",
     "text": [
      "100%|█████████████████████████████████████████| 229/229 [01:46<00:00,  2.15it/s]\n"
     ]
    },
    {
     "name": "stdout",
     "output_type": "stream",
     "text": [
      "Epoch:[85/200]\n",
      "Train Loss:0.5814502390232673 | Acc:0.792256020971001 | F1:0.7850516811169779\n"
     ]
    },
    {
     "name": "stderr",
     "output_type": "stream",
     "text": [
      "100%|███████████████████████████████████████████| 58/58 [00:10<00:00,  5.35it/s]\n"
     ]
    },
    {
     "name": "stdout",
     "output_type": "stream",
     "text": [
      "val Loss:0.9043125539119715 | Acc:0.6946264744429882 | F1:0.6876300377893804\n"
     ]
    },
    {
     "name": "stderr",
     "output_type": "stream",
     "text": [
      "100%|█████████████████████████████████████████| 229/229 [01:46<00:00,  2.15it/s]\n"
     ]
    },
    {
     "name": "stdout",
     "output_type": "stream",
     "text": [
      "Epoch:[86/200]\n",
      "Train Loss:0.5728239103428273 | Acc:0.7914914532248375 | F1:0.7849168460596504\n"
     ]
    },
    {
     "name": "stderr",
     "output_type": "stream",
     "text": [
      "100%|███████████████████████████████████████████| 58/58 [00:10<00:00,  5.32it/s]\n"
     ]
    },
    {
     "name": "stdout",
     "output_type": "stream",
     "text": [
      "val Loss:0.8954786966335518 | Acc:0.6955002184359983 | F1:0.6874821010405471\n",
      "SAVE: 86epoch\n"
     ]
    },
    {
     "name": "stderr",
     "output_type": "stream",
     "text": [
      "100%|█████████████████████████████████████████| 229/229 [01:46<00:00,  2.15it/s]\n"
     ]
    },
    {
     "name": "stdout",
     "output_type": "stream",
     "text": [
      "Epoch:[87/200]\n",
      "Train Loss:0.5661676392251338 | Acc:0.8002839823057178 | F1:0.7943155428549608\n"
     ]
    },
    {
     "name": "stderr",
     "output_type": "stream",
     "text": [
      "100%|███████████████████████████████████████████| 58/58 [00:11<00:00,  5.26it/s]\n"
     ]
    },
    {
     "name": "stdout",
     "output_type": "stream",
     "text": [
      "val Loss:0.8983560607729129 | Acc:0.6944080384447356 | F1:0.6866058779076664\n"
     ]
    },
    {
     "name": "stderr",
     "output_type": "stream",
     "text": [
      "100%|█████████████████████████████████████████| 229/229 [01:46<00:00,  2.15it/s]\n"
     ]
    },
    {
     "name": "stdout",
     "output_type": "stream",
     "text": [
      "Epoch:[88/200]\n",
      "Train Loss:0.5633301462405018 | Acc:0.8018131177980449 | F1:0.7952838070731705\n"
     ]
    },
    {
     "name": "stderr",
     "output_type": "stream",
     "text": [
      "100%|███████████████████████████████████████████| 58/58 [00:11<00:00,  5.26it/s]\n"
     ]
    },
    {
     "name": "stdout",
     "output_type": "stream",
     "text": [
      "val Loss:0.9007159976680084 | Acc:0.6974661424202708 | F1:0.6906781544138052\n"
     ]
    },
    {
     "name": "stderr",
     "output_type": "stream",
     "text": [
      "100%|█████████████████████████████████████████| 229/229 [01:46<00:00,  2.15it/s]\n"
     ]
    },
    {
     "name": "stdout",
     "output_type": "stream",
     "text": [
      "Epoch:[89/200]\n",
      "Train Loss:0.5538558655508836 | Acc:0.7989186827589974 | F1:0.7927936319765392\n"
     ]
    },
    {
     "name": "stderr",
     "output_type": "stream",
     "text": [
      "100%|███████████████████████████████████████████| 58/58 [00:10<00:00,  5.29it/s]\n"
     ]
    },
    {
     "name": "stdout",
     "output_type": "stream",
     "text": [
      "val Loss:0.9036530431778267 | Acc:0.6987767584097859 | F1:0.6915745048312892\n"
     ]
    },
    {
     "name": "stderr",
     "output_type": "stream",
     "text": [
      "100%|█████████████████████████████████████████| 229/229 [01:46<00:00,  2.15it/s]\n"
     ]
    },
    {
     "name": "stdout",
     "output_type": "stream",
     "text": [
      "Epoch:[90/200]\n",
      "Train Loss:0.5496254540220197 | Acc:0.8026869095079461 | F1:0.7969568877559248\n"
     ]
    },
    {
     "name": "stderr",
     "output_type": "stream",
     "text": [
      "100%|███████████████████████████████████████████| 58/58 [00:11<00:00,  5.27it/s]\n"
     ]
    },
    {
     "name": "stdout",
     "output_type": "stream",
     "text": [
      "val Loss:0.9105530580666035 | Acc:0.6961555264307557 | F1:0.6898481021235214\n"
     ]
    },
    {
     "name": "stderr",
     "output_type": "stream",
     "text": [
      "100%|█████████████████████████████████████████| 229/229 [01:46<00:00,  2.15it/s]\n"
     ]
    },
    {
     "name": "stdout",
     "output_type": "stream",
     "text": [
      "Epoch:[91/200]\n",
      "Train Loss:0.5495265911983628 | Acc:0.8057451804926 | F1:0.7993867627566132\n"
     ]
    },
    {
     "name": "stderr",
     "output_type": "stream",
     "text": [
      "100%|███████████████████████████████████████████| 58/58 [00:10<00:00,  5.30it/s]\n"
     ]
    },
    {
     "name": "stdout",
     "output_type": "stream",
     "text": [
      "val Loss:0.909029895975997 | Acc:0.6959370904325033 | F1:0.6892116960175676\n"
     ]
    },
    {
     "name": "stderr",
     "output_type": "stream",
     "text": [
      "100%|█████████████████████████████████████████| 229/229 [01:46<00:00,  2.15it/s]\n"
     ]
    },
    {
     "name": "stdout",
     "output_type": "stream",
     "text": [
      "Epoch:[92/200]\n",
      "Train Loss:0.5445584773815516 | Acc:0.8056905685107313 | F1:0.7996146504365169\n"
     ]
    },
    {
     "name": "stderr",
     "output_type": "stream",
     "text": [
      "100%|███████████████████████████████████████████| 58/58 [00:10<00:00,  5.35it/s]\n"
     ]
    },
    {
     "name": "stdout",
     "output_type": "stream",
     "text": [
      "val Loss:0.9011810797825293 | Acc:0.6974661424202708 | F1:0.6899013675412868\n"
     ]
    },
    {
     "name": "stderr",
     "output_type": "stream",
     "text": [
      "100%|█████████████████████████████████████████| 229/229 [01:46<00:00,  2.15it/s]\n"
     ]
    },
    {
     "name": "stdout",
     "output_type": "stream",
     "text": [
      "Epoch:[93/200]\n",
      "Train Loss:0.5393520409272751 | Acc:0.8073289279667959 | F1:0.8011154278464137\n"
     ]
    },
    {
     "name": "stderr",
     "output_type": "stream",
     "text": [
      "100%|███████████████████████████████████████████| 58/58 [00:10<00:00,  5.31it/s]\n"
     ]
    },
    {
     "name": "stdout",
     "output_type": "stream",
     "text": [
      "val Loss:0.9011199785638137 | Acc:0.6987767584097859 | F1:0.6908328133368794\n"
     ]
    },
    {
     "name": "stderr",
     "output_type": "stream",
     "text": [
      "100%|█████████████████████████████████████████| 229/229 [01:46<00:00,  2.15it/s]\n"
     ]
    },
    {
     "name": "stdout",
     "output_type": "stream",
     "text": [
      "Epoch:[94/200]\n",
      "Train Loss:0.5303460348440827 | Acc:0.8105510348970564 | F1:0.804087454991558\n"
     ]
    },
    {
     "name": "stderr",
     "output_type": "stream",
     "text": [
      "100%|███████████████████████████████████████████| 58/58 [00:10<00:00,  5.32it/s]\n"
     ]
    },
    {
     "name": "stdout",
     "output_type": "stream",
     "text": [
      "val Loss:0.9044017668059946 | Acc:0.7003058103975535 | F1:0.6924373762325189\n"
     ]
    },
    {
     "name": "stderr",
     "output_type": "stream",
     "text": [
      "100%|█████████████████████████████████████████| 229/229 [01:46<00:00,  2.15it/s]\n"
     ]
    },
    {
     "name": "stdout",
     "output_type": "stream",
     "text": [
      "Epoch:[95/200]\n",
      "Train Loss:0.5334759950995881 | Acc:0.8105510348970564 | F1:0.8047586749988211\n"
     ]
    },
    {
     "name": "stderr",
     "output_type": "stream",
     "text": [
      "100%|███████████████████████████████████████████| 58/58 [00:10<00:00,  5.28it/s]\n"
     ]
    },
    {
     "name": "stdout",
     "output_type": "stream",
     "text": [
      "val Loss:0.9067906156904888 | Acc:0.700524246395806 | F1:0.6928472094371577\n"
     ]
    },
    {
     "name": "stderr",
     "output_type": "stream",
     "text": [
      "100%|█████████████████████████████████████████| 229/229 [01:46<00:00,  2.15it/s]\n"
     ]
    },
    {
     "name": "stdout",
     "output_type": "stream",
     "text": [
      "Epoch:[96/200]\n",
      "Train Loss:0.5254576041790772 | Acc:0.8161760690295451 | F1:0.8099409001287288\n"
     ]
    },
    {
     "name": "stderr",
     "output_type": "stream",
     "text": [
      "100%|███████████████████████████████████████████| 58/58 [00:10<00:00,  5.36it/s]"
     ]
    },
    {
     "name": "stdout",
     "output_type": "stream",
     "text": [
      "val Loss:0.9039494804728755 | Acc:0.6992136304062909 | F1:0.6912675928577805\n",
      "Best Val Epoch:86, Val Loss : 0.8954786966335518, Val Acc:0.6955002184359983, Best Val F1:0.6874821010405471\n",
      "Total Process time:188.385Minute\n",
      "Shutting down background jobs, please wait a moment...\n"
     ]
    },
    {
     "name": "stderr",
     "output_type": "stream",
     "text": [
      "\n"
     ]
    },
    {
     "name": "stdout",
     "output_type": "stream",
     "text": [
      "Done!\n",
      "Waiting for the remaining 28 operations to synchronize with Neptune. Do not kill this process.\n",
      "All 28 operations synced, thanks for waiting!\n",
      "Explore the metadata in the Neptune app:\n",
      "https://app.neptune.ai/twogudak/Petfrineds/e/PET-44\n",
      "https://app.neptune.ai/twogudak/Petfrineds/e/PET-45\n",
      "Remember to stop your run once you’ve finished logging your metadata (https://docs.neptune.ai/api-reference/run#.stop). It will be stopped automatically only when the notebook kernel/interactive console is terminated.\n",
      "데이터셋 생성 완료,,\n",
      " 데이터셋 사이즈 : 8132\n",
      "데이터셋 생성 완료,,\n",
      " 데이터셋 사이즈 : 2034\n",
      "Loaded pretrained weights for efficientnet-b0\n",
      "Macs : 25.64 MMac\n",
      "params : ['4.02 M']\n"
     ]
    },
    {
     "name": "stderr",
     "output_type": "stream",
     "text": [
      "100%|█████████████████████████████████████████| 102/102 [00:55<00:00,  1.85it/s]\n"
     ]
    },
    {
     "name": "stdout",
     "output_type": "stream",
     "text": [
      "Epoch:[1/200]\n",
      "Train Loss:1.9650773209301169 | Acc:0.13133300541072307 | F1:0.11612477213115484\n"
     ]
    },
    {
     "name": "stderr",
     "output_type": "stream",
     "text": [
      "100%|███████████████████████████████████████████| 26/26 [00:05<00:00,  4.85it/s]\n"
     ]
    },
    {
     "name": "stdout",
     "output_type": "stream",
     "text": [
      "val Loss:1.958371882124519 | Acc:0.14503441494591937 | F1:0.11975925210317241\n",
      "SAVE: 1epoch\n"
     ]
    },
    {
     "name": "stderr",
     "output_type": "stream",
     "text": [
      "100%|█████████████████████████████████████████| 102/102 [00:47<00:00,  2.16it/s]\n"
     ]
    },
    {
     "name": "stdout",
     "output_type": "stream",
     "text": [
      "Epoch:[2/200]\n",
      "Train Loss:1.9611476530186718 | Acc:0.1382193802262666 | F1:0.12130299604633232\n"
     ]
    },
    {
     "name": "stderr",
     "output_type": "stream",
     "text": [
      "100%|███████████████████████████████████████████| 26/26 [00:05<00:00,  5.13it/s]\n"
     ]
    },
    {
     "name": "stdout",
     "output_type": "stream",
     "text": [
      "val Loss:1.956321084393864 | Acc:0.14650934119960668 | F1:0.12307899650613316\n",
      "SAVE: 2epoch\n"
     ]
    },
    {
     "name": "stderr",
     "output_type": "stream",
     "text": [
      "100%|█████████████████████████████████████████| 102/102 [00:47<00:00,  2.17it/s]\n"
     ]
    },
    {
     "name": "stdout",
     "output_type": "stream",
     "text": [
      "Epoch:[3/200]\n",
      "Train Loss:1.9567839792662516 | Acc:0.14166256763403837 | F1:0.1270002136689538\n"
     ]
    },
    {
     "name": "stderr",
     "output_type": "stream",
     "text": [
      "100%|███████████████████████████████████████████| 26/26 [00:05<00:00,  5.08it/s]\n"
     ]
    },
    {
     "name": "stdout",
     "output_type": "stream",
     "text": [
      "val Loss:1.9486485377408294 | Acc:0.14700098328416913 | F1:0.1269587312200689\n",
      "SAVE: 3epoch\n"
     ]
    },
    {
     "name": "stderr",
     "output_type": "stream",
     "text": [
      "100%|█████████████████████████████████████████| 102/102 [00:47<00:00,  2.17it/s]\n"
     ]
    },
    {
     "name": "stdout",
     "output_type": "stream",
     "text": [
      "Epoch:[4/200]\n",
      "Train Loss:1.9384569886630236 | Acc:0.16674864731923267 | F1:0.15002755010360755\n"
     ]
    },
    {
     "name": "stderr",
     "output_type": "stream",
     "text": [
      "100%|███████████████████████████████████████████| 26/26 [00:05<00:00,  5.13it/s]\n"
     ]
    },
    {
     "name": "stdout",
     "output_type": "stream",
     "text": [
      "val Loss:1.9187084361397997 | Acc:0.19616519174041297 | F1:0.17974849222850872\n",
      "SAVE: 4epoch\n"
     ]
    },
    {
     "name": "stderr",
     "output_type": "stream",
     "text": [
      "100%|█████████████████████████████████████████| 102/102 [00:46<00:00,  2.18it/s]\n"
     ]
    },
    {
     "name": "stdout",
     "output_type": "stream",
     "text": [
      "Epoch:[5/200]\n",
      "Train Loss:1.9079701475949342 | Acc:0.22270044269552386 | F1:0.20462121421463042\n"
     ]
    },
    {
     "name": "stderr",
     "output_type": "stream",
     "text": [
      "100%|███████████████████████████████████████████| 26/26 [00:05<00:00,  5.11it/s]\n"
     ]
    },
    {
     "name": "stdout",
     "output_type": "stream",
     "text": [
      "val Loss:1.8924477951364882 | Acc:0.2561455260570305 | F1:0.2398379628727064\n",
      "SAVE: 5epoch\n"
     ]
    },
    {
     "name": "stderr",
     "output_type": "stream",
     "text": [
      "100%|█████████████████████████████████████████| 102/102 [00:47<00:00,  2.17it/s]\n"
     ]
    },
    {
     "name": "stdout",
     "output_type": "stream",
     "text": [
      "Epoch:[6/200]\n",
      "Train Loss:1.8764814132548762 | Acc:0.27852926709296605 | F1:0.25821886740323136\n"
     ]
    },
    {
     "name": "stderr",
     "output_type": "stream",
     "text": [
      "100%|███████████████████████████████████████████| 26/26 [00:05<00:00,  5.11it/s]\n"
     ]
    },
    {
     "name": "stdout",
     "output_type": "stream",
     "text": [
      "val Loss:1.8673269620921642 | Acc:0.2994100294985251 | F1:0.27920232730948275\n",
      "SAVE: 6epoch\n"
     ]
    },
    {
     "name": "stderr",
     "output_type": "stream",
     "text": [
      "100%|█████████████████████████████████████████| 102/102 [00:47<00:00,  2.17it/s]\n"
     ]
    },
    {
     "name": "stdout",
     "output_type": "stream",
     "text": [
      "Epoch:[7/200]\n",
      "Train Loss:1.844192283586276 | Acc:0.3282095425479587 | F1:0.30009985607608863\n"
     ]
    },
    {
     "name": "stderr",
     "output_type": "stream",
     "text": [
      "100%|███████████████████████████████████████████| 26/26 [00:05<00:00,  5.08it/s]\n"
     ]
    },
    {
     "name": "stdout",
     "output_type": "stream",
     "text": [
      "val Loss:1.842708803559475 | Acc:0.3392330383480826 | F1:0.313083840858798\n",
      "SAVE: 7epoch\n"
     ]
    },
    {
     "name": "stderr",
     "output_type": "stream",
     "text": [
      "100%|█████████████████████████████████████████| 102/102 [00:47<00:00,  2.17it/s]\n"
     ]
    },
    {
     "name": "stdout",
     "output_type": "stream",
     "text": [
      "Epoch:[8/200]\n",
      "Train Loss:1.8115550810283354 | Acc:0.3596901131333005 | F1:0.32714919183661617\n"
     ]
    },
    {
     "name": "stderr",
     "output_type": "stream",
     "text": [
      "100%|███████████████████████████████████████████| 26/26 [00:05<00:00,  5.10it/s]\n"
     ]
    },
    {
     "name": "stdout",
     "output_type": "stream",
     "text": [
      "val Loss:1.8176756036433968 | Acc:0.36774827925270404 | F1:0.32951893391451154\n",
      "SAVE: 8epoch\n"
     ]
    },
    {
     "name": "stderr",
     "output_type": "stream",
     "text": [
      "100%|█████████████████████████████████████████| 102/102 [00:47<00:00,  2.15it/s]\n"
     ]
    },
    {
     "name": "stdout",
     "output_type": "stream",
     "text": [
      "Epoch:[9/200]\n",
      "Train Loss:1.7738101342834982 | Acc:0.39793408755533693 | F1:0.3570359139418846\n"
     ]
    },
    {
     "name": "stderr",
     "output_type": "stream",
     "text": [
      "100%|███████████████████████████████████████████| 26/26 [00:05<00:00,  5.10it/s]\n"
     ]
    },
    {
     "name": "stdout",
     "output_type": "stream",
     "text": [
      "val Loss:1.7906719748601099 | Acc:0.38987217305801375 | F1:0.3448502035277204\n",
      "SAVE: 9epoch\n"
     ]
    },
    {
     "name": "stderr",
     "output_type": "stream",
     "text": [
      "100%|█████████████████████████████████████████| 102/102 [00:47<00:00,  2.16it/s]\n"
     ]
    },
    {
     "name": "stdout",
     "output_type": "stream",
     "text": [
      "Epoch:[10/200]\n",
      "Train Loss:1.7387807563907456 | Acc:0.4035907525823906 | F1:0.35967675614184874\n"
     ]
    },
    {
     "name": "stderr",
     "output_type": "stream",
     "text": [
      "100%|███████████████████████████████████████████| 26/26 [00:05<00:00,  4.99it/s]\n"
     ]
    },
    {
     "name": "stdout",
     "output_type": "stream",
     "text": [
      "val Loss:1.7620269613397275 | Acc:0.40117994100294985 | F1:0.3496243460640992\n",
      "SAVE: 10epoch\n"
     ]
    },
    {
     "name": "stderr",
     "output_type": "stream",
     "text": [
      "100%|█████████████████████████████████████████| 102/102 [00:47<00:00,  2.17it/s]\n"
     ]
    },
    {
     "name": "stdout",
     "output_type": "stream",
     "text": [
      "Epoch:[11/200]\n",
      "Train Loss:1.7008827971051728 | Acc:0.42240531234628625 | F1:0.37365884558028484\n"
     ]
    },
    {
     "name": "stderr",
     "output_type": "stream",
     "text": [
      "100%|███████████████████████████████████████████| 26/26 [00:05<00:00,  5.12it/s]\n"
     ]
    },
    {
     "name": "stdout",
     "output_type": "stream",
     "text": [
      "val Loss:1.732444293379432 | Acc:0.4110127826941986 | F1:0.35549535317054143\n",
      "SAVE: 11epoch\n"
     ]
    },
    {
     "name": "stderr",
     "output_type": "stream",
     "text": [
      "100%|█████████████████████████████████████████| 102/102 [00:47<00:00,  2.16it/s]\n"
     ]
    },
    {
     "name": "stdout",
     "output_type": "stream",
     "text": [
      "Epoch:[12/200]\n",
      "Train Loss:1.6638166453529917 | Acc:0.43740777176586326 | F1:0.3818846838051496\n"
     ]
    },
    {
     "name": "stderr",
     "output_type": "stream",
     "text": [
      "100%|███████████████████████████████████████████| 26/26 [00:05<00:00,  5.15it/s]\n"
     ]
    },
    {
     "name": "stdout",
     "output_type": "stream",
     "text": [
      "val Loss:1.7006174208726386 | Acc:0.4252704031465093 | F1:0.36256162157808597\n",
      "SAVE: 12epoch\n"
     ]
    },
    {
     "name": "stderr",
     "output_type": "stream",
     "text": [
      "100%|█████████████████████████████████████████| 102/102 [00:47<00:00,  2.17it/s]\n"
     ]
    },
    {
     "name": "stdout",
     "output_type": "stream",
     "text": [
      "Epoch:[13/200]\n",
      "Train Loss:1.623651973027287 | Acc:0.44822921790457454 | F1:0.38894948617609115\n"
     ]
    },
    {
     "name": "stderr",
     "output_type": "stream",
     "text": [
      "100%|███████████████████████████████████████████| 26/26 [00:05<00:00,  5.10it/s]\n"
     ]
    },
    {
     "name": "stdout",
     "output_type": "stream",
     "text": [
      "val Loss:1.6643911516889125 | Acc:0.4336283185840708 | F1:0.3688388873220058\n",
      "SAVE: 13epoch\n"
     ]
    },
    {
     "name": "stderr",
     "output_type": "stream",
     "text": [
      "100%|█████████████████████████████████████████| 102/102 [00:47<00:00,  2.16it/s]\n"
     ]
    },
    {
     "name": "stdout",
     "output_type": "stream",
     "text": [
      "Epoch:[14/200]\n",
      "Train Loss:1.587729663902823 | Acc:0.455730447614363 | F1:0.39795822944331166\n"
     ]
    },
    {
     "name": "stderr",
     "output_type": "stream",
     "text": [
      "100%|███████████████████████████████████████████| 26/26 [00:05<00:00,  5.07it/s]\n"
     ]
    },
    {
     "name": "stdout",
     "output_type": "stream",
     "text": [
      "val Loss:1.6316830941943878 | Acc:0.44198623402163223 | F1:0.37531461329426713\n",
      "SAVE: 14epoch\n"
     ]
    },
    {
     "name": "stderr",
     "output_type": "stream",
     "text": [
      "100%|█████████████████████████████████████████| 102/102 [00:47<00:00,  2.16it/s]\n"
     ]
    },
    {
     "name": "stdout",
     "output_type": "stream",
     "text": [
      "Epoch:[15/200]\n",
      "Train Loss:1.5556965339846407 | Acc:0.4676586325627152 | F1:0.405183887671235\n"
     ]
    },
    {
     "name": "stderr",
     "output_type": "stream",
     "text": [
      "100%|███████████████████████████████████████████| 26/26 [00:05<00:00,  5.06it/s]\n"
     ]
    },
    {
     "name": "stdout",
     "output_type": "stream",
     "text": [
      "val Loss:1.5975399058359796 | Acc:0.4528023598820059 | F1:0.383977031882816\n",
      "SAVE: 15epoch\n"
     ]
    },
    {
     "name": "stderr",
     "output_type": "stream",
     "text": [
      "100%|█████████████████████████████████████████| 102/102 [00:47<00:00,  2.17it/s]\n"
     ]
    },
    {
     "name": "stdout",
     "output_type": "stream",
     "text": [
      "Epoch:[16/200]\n",
      "Train Loss:1.5217402727804452 | Acc:0.4752828332513527 | F1:0.40956445520516865\n"
     ]
    },
    {
     "name": "stderr",
     "output_type": "stream",
     "text": [
      "100%|███████████████████████████████████████████| 26/26 [00:05<00:00,  5.06it/s]\n"
     ]
    },
    {
     "name": "stdout",
     "output_type": "stream",
     "text": [
      "val Loss:1.5624472873400799 | Acc:0.4616519174041298 | F1:0.39316501388270225\n",
      "SAVE: 16epoch\n"
     ]
    },
    {
     "name": "stderr",
     "output_type": "stream",
     "text": [
      "100%|█████████████████████████████████████████| 102/102 [00:47<00:00,  2.15it/s]\n"
     ]
    },
    {
     "name": "stdout",
     "output_type": "stream",
     "text": [
      "Epoch:[17/200]\n",
      "Train Loss:1.4896964866189726 | Acc:0.4795868175110674 | F1:0.41385489165426664\n"
     ]
    },
    {
     "name": "stderr",
     "output_type": "stream",
     "text": [
      "100%|███████████████████████████████████████████| 26/26 [00:05<00:00,  5.04it/s]\n"
     ]
    },
    {
     "name": "stdout",
     "output_type": "stream",
     "text": [
      "val Loss:1.5341909836644385 | Acc:0.46804326450344147 | F1:0.3992049951182505\n",
      "SAVE: 17epoch\n"
     ]
    },
    {
     "name": "stderr",
     "output_type": "stream",
     "text": [
      "100%|█████████████████████████████████████████| 102/102 [00:47<00:00,  2.16it/s]\n"
     ]
    },
    {
     "name": "stdout",
     "output_type": "stream",
     "text": [
      "Epoch:[18/200]\n",
      "Train Loss:1.4598504554680047 | Acc:0.4877029021151008 | F1:0.4191342821688796\n"
     ]
    },
    {
     "name": "stderr",
     "output_type": "stream",
     "text": [
      "100%|███████████████████████████████████████████| 26/26 [00:05<00:00,  5.07it/s]\n"
     ]
    },
    {
     "name": "stdout",
     "output_type": "stream",
     "text": [
      "val Loss:1.5075419212864563 | Acc:0.47148475909537857 | F1:0.40527061387017177\n",
      "SAVE: 18epoch\n"
     ]
    },
    {
     "name": "stderr",
     "output_type": "stream",
     "text": [
      "100%|█████████████████████████████████████████| 102/102 [00:46<00:00,  2.17it/s]\n"
     ]
    },
    {
     "name": "stdout",
     "output_type": "stream",
     "text": [
      "Epoch:[19/200]\n",
      "Train Loss:1.4297165290158895 | Acc:0.4938514510575504 | F1:0.4244884698250278\n"
     ]
    },
    {
     "name": "stderr",
     "output_type": "stream",
     "text": [
      "100%|███████████████████████████████████████████| 26/26 [00:05<00:00,  5.08it/s]\n"
     ]
    },
    {
     "name": "stdout",
     "output_type": "stream",
     "text": [
      "val Loss:1.4793232157753162 | Acc:0.47984267453294 | F1:0.4136550252017133\n",
      "SAVE: 19epoch\n"
     ]
    },
    {
     "name": "stderr",
     "output_type": "stream",
     "text": [
      "100%|█████████████████████████████████████████| 102/102 [00:47<00:00,  2.17it/s]\n"
     ]
    },
    {
     "name": "stdout",
     "output_type": "stream",
     "text": [
      "Epoch:[20/200]\n",
      "Train Loss:1.4028785323721402 | Acc:0.49815543531726514 | F1:0.42709354855901854\n"
     ]
    },
    {
     "name": "stderr",
     "output_type": "stream",
     "text": [
      "100%|███████████████████████████████████████████| 26/26 [00:05<00:00,  5.08it/s]\n"
     ]
    },
    {
     "name": "stdout",
     "output_type": "stream",
     "text": [
      "val Loss:1.4547488980119794 | Acc:0.48475909537856443 | F1:0.4188079092876219\n",
      "SAVE: 20epoch\n"
     ]
    },
    {
     "name": "stderr",
     "output_type": "stream",
     "text": [
      "100%|█████████████████████████████████████████| 102/102 [00:47<00:00,  2.16it/s]\n"
     ]
    },
    {
     "name": "stdout",
     "output_type": "stream",
     "text": [
      "Epoch:[21/200]\n",
      "Train Loss:1.3783939437096893 | Acc:0.5105755041810133 | F1:0.443215804358664\n"
     ]
    },
    {
     "name": "stderr",
     "output_type": "stream",
     "text": [
      "100%|███████████████████████████████████████████| 26/26 [00:05<00:00,  5.08it/s]\n"
     ]
    },
    {
     "name": "stdout",
     "output_type": "stream",
     "text": [
      "val Loss:1.4328198770506193 | Acc:0.492133726647001 | F1:0.4269763860389531\n",
      "SAVE: 21epoch\n"
     ]
    },
    {
     "name": "stderr",
     "output_type": "stream",
     "text": [
      "100%|█████████████████████████████████████████| 102/102 [00:47<00:00,  2.16it/s]\n"
     ]
    },
    {
     "name": "stdout",
     "output_type": "stream",
     "text": [
      "Epoch:[22/200]\n",
      "Train Loss:1.3613610083518566 | Acc:0.5126660108214461 | F1:0.44898222687743666\n"
     ]
    },
    {
     "name": "stderr",
     "output_type": "stream",
     "text": [
      "100%|███████████████████████████████████████████| 26/26 [00:05<00:00,  5.12it/s]\n"
     ]
    },
    {
     "name": "stdout",
     "output_type": "stream",
     "text": [
      "val Loss:1.4097207493955524 | Acc:0.4941002949852507 | F1:0.4288413196883241\n",
      "SAVE: 22epoch\n"
     ]
    },
    {
     "name": "stderr",
     "output_type": "stream",
     "text": [
      "100%|█████████████████████████████████████████| 102/102 [00:47<00:00,  2.17it/s]\n"
     ]
    },
    {
     "name": "stdout",
     "output_type": "stream",
     "text": [
      "Epoch:[23/200]\n",
      "Train Loss:1.3363531934059845 | Acc:0.5202902115100836 | F1:0.45473833136211617\n"
     ]
    },
    {
     "name": "stderr",
     "output_type": "stream",
     "text": [
      "100%|███████████████████████████████████████████| 26/26 [00:05<00:00,  5.05it/s]\n"
     ]
    },
    {
     "name": "stdout",
     "output_type": "stream",
     "text": [
      "val Loss:1.3873485009109963 | Acc:0.5034414945919371 | F1:0.4439514155369757\n",
      "SAVE: 23epoch\n"
     ]
    },
    {
     "name": "stderr",
     "output_type": "stream",
     "text": [
      "100%|█████████████████████████████████████████| 102/102 [00:47<00:00,  2.17it/s]\n"
     ]
    },
    {
     "name": "stdout",
     "output_type": "stream",
     "text": [
      "Epoch:[24/200]\n",
      "Train Loss:1.314040478731222 | Acc:0.5252090506640433 | F1:0.4620269460556649\n"
     ]
    },
    {
     "name": "stderr",
     "output_type": "stream",
     "text": [
      "100%|███████████████████████████████████████████| 26/26 [00:05<00:00,  5.08it/s]\n"
     ]
    },
    {
     "name": "stdout",
     "output_type": "stream",
     "text": [
      "val Loss:1.3642180901361427 | Acc:0.511307767944936 | F1:0.45461334027714023\n",
      "SAVE: 24epoch\n"
     ]
    },
    {
     "name": "stderr",
     "output_type": "stream",
     "text": [
      "100%|█████████████████████████████████████████| 102/102 [00:47<00:00,  2.16it/s]\n"
     ]
    },
    {
     "name": "stdout",
     "output_type": "stream",
     "text": [
      "Epoch:[25/200]\n",
      "Train Loss:1.2952404469031744 | Acc:0.5327102803738317 | F1:0.4740102554614962\n"
     ]
    },
    {
     "name": "stderr",
     "output_type": "stream",
     "text": [
      "100%|███████████████████████████████████████████| 26/26 [00:05<00:00,  5.09it/s]\n"
     ]
    },
    {
     "name": "stdout",
     "output_type": "stream",
     "text": [
      "val Loss:1.3480735926970386 | Acc:0.5098328416912488 | F1:0.4576659157731459\n",
      "SAVE: 25epoch\n"
     ]
    },
    {
     "name": "stderr",
     "output_type": "stream",
     "text": [
      "100%|█████████████████████████████████████████| 102/102 [00:47<00:00,  2.17it/s]\n"
     ]
    },
    {
     "name": "stdout",
     "output_type": "stream",
     "text": [
      "Epoch:[26/200]\n",
      "Train Loss:1.2795041075963078 | Acc:0.5384899163797344 | F1:0.4800730407558831\n"
     ]
    },
    {
     "name": "stderr",
     "output_type": "stream",
     "text": [
      "100%|███████████████████████████████████████████| 26/26 [00:05<00:00,  5.05it/s]\n"
     ]
    },
    {
     "name": "stdout",
     "output_type": "stream",
     "text": [
      "val Loss:1.3370756288310888 | Acc:0.511307767944936 | F1:0.4612103151634536\n",
      "SAVE: 26epoch\n"
     ]
    },
    {
     "name": "stderr",
     "output_type": "stream",
     "text": [
      "100%|█████████████████████████████████████████| 102/102 [00:47<00:00,  2.17it/s]\n"
     ]
    },
    {
     "name": "stdout",
     "output_type": "stream",
     "text": [
      "Epoch:[27/200]\n",
      "Train Loss:1.2515339386386937 | Acc:0.543777668470241 | F1:0.4874131113076226\n"
     ]
    },
    {
     "name": "stderr",
     "output_type": "stream",
     "text": [
      "100%|███████████████████████████████████████████| 26/26 [00:05<00:00,  5.11it/s]\n"
     ]
    },
    {
     "name": "stdout",
     "output_type": "stream",
     "text": [
      "val Loss:1.3136515695905733 | Acc:0.5206489675516224 | F1:0.4746363800270035\n",
      "SAVE: 27epoch\n"
     ]
    },
    {
     "name": "stderr",
     "output_type": "stream",
     "text": [
      "100%|█████████████████████████████████████████| 102/102 [00:47<00:00,  2.16it/s]\n"
     ]
    },
    {
     "name": "stdout",
     "output_type": "stream",
     "text": [
      "Epoch:[28/200]\n",
      "Train Loss:1.237304929905904 | Acc:0.5501721593703885 | F1:0.4947371135091476\n"
     ]
    },
    {
     "name": "stderr",
     "output_type": "stream",
     "text": [
      "100%|███████████████████████████████████████████| 26/26 [00:05<00:00,  5.13it/s]\n"
     ]
    },
    {
     "name": "stdout",
     "output_type": "stream",
     "text": [
      "val Loss:1.2923194773663695 | Acc:0.528023598820059 | F1:0.48089726733929944\n",
      "SAVE: 28epoch\n"
     ]
    },
    {
     "name": "stderr",
     "output_type": "stream",
     "text": [
      "100%|█████████████████████████████████████████| 102/102 [00:46<00:00,  2.18it/s]\n"
     ]
    },
    {
     "name": "stdout",
     "output_type": "stream",
     "text": [
      "Epoch:[29/200]\n",
      "Train Loss:1.2233213713998228 | Acc:0.5575504181013281 | F1:0.5018747976048795\n"
     ]
    },
    {
     "name": "stderr",
     "output_type": "stream",
     "text": [
      "100%|███████████████████████████████████████████| 26/26 [00:05<00:00,  5.17it/s]\n"
     ]
    },
    {
     "name": "stdout",
     "output_type": "stream",
     "text": [
      "val Loss:1.275229352999812 | Acc:0.5334316617502458 | F1:0.49031577313563485\n",
      "SAVE: 29epoch\n"
     ]
    },
    {
     "name": "stderr",
     "output_type": "stream",
     "text": [
      "100%|█████████████████████████████████████████| 102/102 [00:47<00:00,  2.16it/s]\n"
     ]
    },
    {
     "name": "stdout",
     "output_type": "stream",
     "text": [
      "Epoch:[30/200]\n",
      "Train Loss:1.1992409489627431 | Acc:0.5646827348745695 | F1:0.5108723126379497\n"
     ]
    },
    {
     "name": "stderr",
     "output_type": "stream",
     "text": [
      "100%|███████████████████████████████████████████| 26/26 [00:05<00:00,  5.08it/s]\n"
     ]
    },
    {
     "name": "stdout",
     "output_type": "stream",
     "text": [
      "val Loss:1.2607516596568136 | Acc:0.5339233038348082 | F1:0.4897709499154869\n",
      "SAVE: 30epoch\n"
     ]
    },
    {
     "name": "stderr",
     "output_type": "stream",
     "text": [
      "100%|█████████████████████████████████████████| 102/102 [00:47<00:00,  2.16it/s]\n"
     ]
    },
    {
     "name": "stdout",
     "output_type": "stream",
     "text": [
      "Epoch:[31/200]\n",
      "Train Loss:1.1763786860891474 | Acc:0.5761190359075258 | F1:0.5288602319222764\n"
     ]
    },
    {
     "name": "stderr",
     "output_type": "stream",
     "text": [
      "100%|███████████████████████████████████████████| 26/26 [00:05<00:00,  5.05it/s]\n"
     ]
    },
    {
     "name": "stdout",
     "output_type": "stream",
     "text": [
      "val Loss:1.2498743032401056 | Acc:0.5334316617502458 | F1:0.49357694019715276\n",
      "SAVE: 31epoch\n"
     ]
    },
    {
     "name": "stderr",
     "output_type": "stream",
     "text": [
      "100%|█████████████████████████████████████████| 102/102 [00:47<00:00,  2.17it/s]\n"
     ]
    },
    {
     "name": "stdout",
     "output_type": "stream",
     "text": [
      "Epoch:[32/200]\n",
      "Train Loss:1.1696143448792593 | Acc:0.5731677324151501 | F1:0.523486225158691\n"
     ]
    },
    {
     "name": "stderr",
     "output_type": "stream",
     "text": [
      "100%|███████████████████████████████████████████| 26/26 [00:05<00:00,  5.05it/s]\n"
     ]
    },
    {
     "name": "stdout",
     "output_type": "stream",
     "text": [
      "val Loss:1.2277846410211208 | Acc:0.5412979351032449 | F1:0.5005980326264101\n",
      "SAVE: 32epoch\n"
     ]
    },
    {
     "name": "stderr",
     "output_type": "stream",
     "text": [
      "100%|█████████████████████████████████████████| 102/102 [00:47<00:00,  2.16it/s]\n"
     ]
    },
    {
     "name": "stdout",
     "output_type": "stream",
     "text": [
      "Epoch:[33/200]\n",
      "Train Loss:1.157141345038651 | Acc:0.5762420068863748 | F1:0.5293706238782755\n"
     ]
    },
    {
     "name": "stderr",
     "output_type": "stream",
     "text": [
      "100%|███████████████████████████████████████████| 26/26 [00:05<00:00,  5.11it/s]\n"
     ]
    },
    {
     "name": "stdout",
     "output_type": "stream",
     "text": [
      "val Loss:1.2172922906387988 | Acc:0.5422812192723697 | F1:0.5038518907121515\n",
      "SAVE: 33epoch\n"
     ]
    },
    {
     "name": "stderr",
     "output_type": "stream",
     "text": [
      "100%|█████████████████████████████████████████| 102/102 [00:46<00:00,  2.17it/s]\n"
     ]
    },
    {
     "name": "stdout",
     "output_type": "stream",
     "text": [
      "Epoch:[34/200]\n",
      "Train Loss:1.1416223574552522 | Acc:0.5816527299557305 | F1:0.5354717131345553\n"
     ]
    },
    {
     "name": "stderr",
     "output_type": "stream",
     "text": [
      "100%|███████████████████████████████████████████| 26/26 [00:05<00:00,  5.08it/s]\n"
     ]
    },
    {
     "name": "stdout",
     "output_type": "stream",
     "text": [
      "val Loss:1.205637349139976 | Acc:0.5462143559488692 | F1:0.5105970774251578\n",
      "SAVE: 34epoch\n"
     ]
    },
    {
     "name": "stderr",
     "output_type": "stream",
     "text": [
      "100%|█████████████████████████████████████████| 102/102 [00:47<00:00,  2.16it/s]\n"
     ]
    },
    {
     "name": "stdout",
     "output_type": "stream",
     "text": [
      "Epoch:[35/200]\n",
      "Train Loss:1.1274898291455075 | Acc:0.5854648303000491 | F1:0.5397323330882854\n"
     ]
    },
    {
     "name": "stderr",
     "output_type": "stream",
     "text": [
      "100%|███████████████████████████████████████████| 26/26 [00:05<00:00,  5.03it/s]\n"
     ]
    },
    {
     "name": "stdout",
     "output_type": "stream",
     "text": [
      "val Loss:1.1978662913058946 | Acc:0.5511307767944936 | F1:0.5163265765891067\n",
      "SAVE: 35epoch\n"
     ]
    },
    {
     "name": "stderr",
     "output_type": "stream",
     "text": [
      "100%|█████████████████████████████████████████| 102/102 [00:47<00:00,  2.17it/s]\n"
     ]
    },
    {
     "name": "stdout",
     "output_type": "stream",
     "text": [
      "Epoch:[36/200]\n",
      "Train Loss:1.1149063156674897 | Acc:0.5902606984751598 | F1:0.5481542729986177\n"
     ]
    },
    {
     "name": "stderr",
     "output_type": "stream",
     "text": [
      "100%|███████████████████████████████████████████| 26/26 [00:05<00:00,  5.08it/s]\n"
     ]
    },
    {
     "name": "stdout",
     "output_type": "stream",
     "text": [
      "val Loss:1.184132949206447 | Acc:0.5550639134709932 | F1:0.5225235798532201\n",
      "SAVE: 36epoch\n"
     ]
    },
    {
     "name": "stderr",
     "output_type": "stream",
     "text": [
      "100%|█████████████████████████████████████████| 102/102 [00:47<00:00,  2.17it/s]\n"
     ]
    },
    {
     "name": "stdout",
     "output_type": "stream",
     "text": [
      "Epoch:[37/200]\n",
      "Train Loss:1.0987818723702982 | Acc:0.5999754058042303 | F1:0.5587817325079835\n"
     ]
    },
    {
     "name": "stderr",
     "output_type": "stream",
     "text": [
      "100%|███████████████████████████████████████████| 26/26 [00:05<00:00,  5.09it/s]\n"
     ]
    },
    {
     "name": "stdout",
     "output_type": "stream",
     "text": [
      "val Loss:1.174705606177376 | Acc:0.5585054080629301 | F1:0.5276421902900401\n",
      "SAVE: 37epoch\n"
     ]
    },
    {
     "name": "stderr",
     "output_type": "stream",
     "text": [
      "100%|█████████████████████████████████████████| 102/102 [00:47<00:00,  2.17it/s]\n"
     ]
    },
    {
     "name": "stdout",
     "output_type": "stream",
     "text": [
      "Epoch:[38/200]\n",
      "Train Loss:1.0824336559386658 | Acc:0.6067388096409247 | F1:0.5646200307029423\n"
     ]
    },
    {
     "name": "stderr",
     "output_type": "stream",
     "text": [
      "100%|███████████████████████████████████████████| 26/26 [00:05<00:00,  5.05it/s]\n"
     ]
    },
    {
     "name": "stdout",
     "output_type": "stream",
     "text": [
      "val Loss:1.1646696919888522 | Acc:0.5565388397246804 | F1:0.5263566379071715\n",
      "SAVE: 38epoch\n"
     ]
    },
    {
     "name": "stderr",
     "output_type": "stream",
     "text": [
      "100%|█████████████████████████████████████████| 102/102 [00:47<00:00,  2.16it/s]\n"
     ]
    },
    {
     "name": "stdout",
     "output_type": "stream",
     "text": [
      "Epoch:[39/200]\n",
      "Train Loss:1.0638791281075766 | Acc:0.6116576487948844 | F1:0.5727189621376544\n"
     ]
    },
    {
     "name": "stderr",
     "output_type": "stream",
     "text": [
      "100%|███████████████████████████████████████████| 26/26 [00:05<00:00,  5.11it/s]\n"
     ]
    },
    {
     "name": "stdout",
     "output_type": "stream",
     "text": [
      "val Loss:1.1570202692420082 | Acc:0.5589970501474927 | F1:0.5280521616004329\n",
      "SAVE: 39epoch\n"
     ]
    },
    {
     "name": "stderr",
     "output_type": "stream",
     "text": [
      "100%|█████████████████████████████████████████| 102/102 [00:47<00:00,  2.16it/s]\n"
     ]
    },
    {
     "name": "stdout",
     "output_type": "stream",
     "text": [
      "Epoch:[40/200]\n",
      "Train Loss:1.055426852901288 | Acc:0.6192818494835219 | F1:0.5790186628387044\n"
     ]
    },
    {
     "name": "stderr",
     "output_type": "stream",
     "text": [
      "100%|███████████████████████████████████████████| 26/26 [00:05<00:00,  5.12it/s]\n"
     ]
    },
    {
     "name": "stdout",
     "output_type": "stream",
     "text": [
      "val Loss:1.1393636097012485 | Acc:0.5653883972468043 | F1:0.5373480952604901\n",
      "SAVE: 40epoch\n"
     ]
    },
    {
     "name": "stderr",
     "output_type": "stream",
     "text": [
      "100%|█████████████████████████████████████████| 102/102 [00:47<00:00,  2.17it/s]\n"
     ]
    },
    {
     "name": "stdout",
     "output_type": "stream",
     "text": [
      "Epoch:[41/200]\n",
      "Train Loss:1.0395090384724923 | Acc:0.6159616330545992 | F1:0.5764442486320375\n"
     ]
    },
    {
     "name": "stderr",
     "output_type": "stream",
     "text": [
      "100%|███████████████████████████████████████████| 26/26 [00:05<00:00,  5.08it/s]\n"
     ]
    },
    {
     "name": "stdout",
     "output_type": "stream",
     "text": [
      "val Loss:1.1287747785639506 | Acc:0.5703048180924287 | F1:0.5404268161414671\n",
      "SAVE: 41epoch\n"
     ]
    },
    {
     "name": "stderr",
     "output_type": "stream",
     "text": [
      "100%|█████████████████████████████████████████| 102/102 [00:47<00:00,  2.16it/s]\n"
     ]
    },
    {
     "name": "stdout",
     "output_type": "stream",
     "text": [
      "Epoch:[42/200]\n",
      "Train Loss:1.0254038671408154 | Acc:0.6272749631087063 | F1:0.5896433882811755\n"
     ]
    },
    {
     "name": "stderr",
     "output_type": "stream",
     "text": [
      "100%|███████████████████████████████████████████| 26/26 [00:05<00:00,  5.11it/s]\n"
     ]
    },
    {
     "name": "stdout",
     "output_type": "stream",
     "text": [
      "val Loss:1.105477478300224 | Acc:0.5811209439528023 | F1:0.5514146553281748\n",
      "SAVE: 42epoch\n"
     ]
    },
    {
     "name": "stderr",
     "output_type": "stream",
     "text": [
      "100%|█████████████████████████████████████████| 102/102 [00:47<00:00,  2.16it/s]\n"
     ]
    },
    {
     "name": "stdout",
     "output_type": "stream",
     "text": [
      "Epoch:[43/200]\n",
      "Train Loss:1.0068488655510175 | Acc:0.6335464830300049 | F1:0.595631603134291\n"
     ]
    },
    {
     "name": "stderr",
     "output_type": "stream",
     "text": [
      "100%|███████████████████████████████████████████| 26/26 [00:05<00:00,  5.13it/s]\n"
     ]
    },
    {
     "name": "stdout",
     "output_type": "stream",
     "text": [
      "val Loss:1.0992282502419126 | Acc:0.5850540806293019 | F1:0.5559515611131787\n",
      "SAVE: 43epoch\n"
     ]
    },
    {
     "name": "stderr",
     "output_type": "stream",
     "text": [
      "100%|█████████████████████████████████████████| 102/102 [00:47<00:00,  2.16it/s]\n"
     ]
    },
    {
     "name": "stdout",
     "output_type": "stream",
     "text": [
      "Epoch:[44/200]\n",
      "Train Loss:0.9988472182587691 | Acc:0.6378504672897196 | F1:0.6032214184288739\n"
     ]
    },
    {
     "name": "stderr",
     "output_type": "stream",
     "text": [
      "100%|███████████████████████████████████████████| 26/26 [00:05<00:00,  5.12it/s]\n"
     ]
    },
    {
     "name": "stdout",
     "output_type": "stream",
     "text": [
      "val Loss:1.0980637793226815 | Acc:0.5791543756145526 | F1:0.5527844932926287\n",
      "SAVE: 44epoch\n"
     ]
    },
    {
     "name": "stderr",
     "output_type": "stream",
     "text": [
      "100%|█████████████████████████████████████████| 102/102 [00:46<00:00,  2.17it/s]\n"
     ]
    },
    {
     "name": "stdout",
     "output_type": "stream",
     "text": [
      "Epoch:[45/200]\n",
      "Train Loss:0.9971796639787699 | Acc:0.6286276438760453 | F1:0.5935530458431542\n"
     ]
    },
    {
     "name": "stderr",
     "output_type": "stream",
     "text": [
      "100%|███████████████████████████████████████████| 26/26 [00:05<00:00,  5.05it/s]\n"
     ]
    },
    {
     "name": "stdout",
     "output_type": "stream",
     "text": [
      "val Loss:1.0886052307126093 | Acc:0.5796460176991151 | F1:0.5532990046182168\n",
      "SAVE: 45epoch\n"
     ]
    },
    {
     "name": "stderr",
     "output_type": "stream",
     "text": [
      "100%|█████████████████████████████████████████| 102/102 [00:47<00:00,  2.17it/s]\n"
     ]
    },
    {
     "name": "stdout",
     "output_type": "stream",
     "text": [
      "Epoch:[46/200]\n",
      "Train Loss:0.9887214923104335 | Acc:0.6356369896704378 | F1:0.6016037858650524\n"
     ]
    },
    {
     "name": "stderr",
     "output_type": "stream",
     "text": [
      "100%|███████████████████████████████████████████| 26/26 [00:05<00:00,  5.11it/s]\n"
     ]
    },
    {
     "name": "stdout",
     "output_type": "stream",
     "text": [
      "val Loss:1.0801829939512142 | Acc:0.5845624385447394 | F1:0.558989746731738\n",
      "SAVE: 46epoch\n"
     ]
    },
    {
     "name": "stderr",
     "output_type": "stream",
     "text": [
      "100%|█████████████████████████████████████████| 102/102 [00:47<00:00,  2.16it/s]\n"
     ]
    },
    {
     "name": "stdout",
     "output_type": "stream",
     "text": [
      "Epoch:[47/200]\n",
      "Train Loss:0.9672566623858965 | Acc:0.6489178553861289 | F1:0.6140030247126876\n"
     ]
    },
    {
     "name": "stderr",
     "output_type": "stream",
     "text": [
      "100%|███████████████████████████████████████████| 26/26 [00:05<00:00,  5.06it/s]\n"
     ]
    },
    {
     "name": "stdout",
     "output_type": "stream",
     "text": [
      "val Loss:1.0620861653615825 | Acc:0.5934119960668633 | F1:0.5655768041667553\n",
      "SAVE: 47epoch\n"
     ]
    },
    {
     "name": "stderr",
     "output_type": "stream",
     "text": [
      "100%|█████████████████████████████████████████| 102/102 [00:47<00:00,  2.16it/s]\n"
     ]
    },
    {
     "name": "stdout",
     "output_type": "stream",
     "text": [
      "Epoch:[48/200]\n",
      "Train Loss:0.9544173320466758 | Acc:0.6506394490900148 | F1:0.6170709507156321\n"
     ]
    },
    {
     "name": "stderr",
     "output_type": "stream",
     "text": [
      "100%|███████████████████████████████████████████| 26/26 [00:05<00:00,  5.11it/s]\n"
     ]
    },
    {
     "name": "stdout",
     "output_type": "stream",
     "text": [
      "val Loss:1.0530076606552627 | Acc:0.6027531956735497 | F1:0.5754641539313219\n",
      "SAVE: 48epoch\n"
     ]
    },
    {
     "name": "stderr",
     "output_type": "stream",
     "text": [
      "100%|█████████████████████████████████████████| 102/102 [00:47<00:00,  2.16it/s]\n"
     ]
    },
    {
     "name": "stdout",
     "output_type": "stream",
     "text": [
      "Epoch:[49/200]\n",
      "Train Loss:0.9554711414919776 | Acc:0.6436301032956222 | F1:0.6087717440647531\n"
     ]
    },
    {
     "name": "stderr",
     "output_type": "stream",
     "text": [
      "100%|███████████████████████████████████████████| 26/26 [00:05<00:00,  5.09it/s]\n"
     ]
    },
    {
     "name": "stdout",
     "output_type": "stream",
     "text": [
      "val Loss:1.0600937371643127 | Acc:0.5880039331366765 | F1:0.5632637220589242\n"
     ]
    },
    {
     "name": "stderr",
     "output_type": "stream",
     "text": [
      "100%|█████████████████████████████████████████| 102/102 [00:46<00:00,  2.17it/s]\n"
     ]
    },
    {
     "name": "stdout",
     "output_type": "stream",
     "text": [
      "Epoch:[50/200]\n",
      "Train Loss:0.9394223759224775 | Acc:0.6629365469749139 | F1:0.6312148190893769\n"
     ]
    },
    {
     "name": "stderr",
     "output_type": "stream",
     "text": [
      "100%|███████████████████████████████████████████| 26/26 [00:05<00:00,  5.08it/s]\n"
     ]
    },
    {
     "name": "stdout",
     "output_type": "stream",
     "text": [
      "val Loss:1.060336974635354 | Acc:0.5914454277286135 | F1:0.5654156897810746\n"
     ]
    },
    {
     "name": "stderr",
     "output_type": "stream",
     "text": [
      "100%|█████████████████████████████████████████| 102/102 [00:47<00:00,  2.17it/s]\n"
     ]
    },
    {
     "name": "stdout",
     "output_type": "stream",
     "text": [
      "Epoch:[51/200]\n",
      "Train Loss:0.9326943964777589 | Acc:0.6609690113133301 | F1:0.6301144513960212\n"
     ]
    },
    {
     "name": "stderr",
     "output_type": "stream",
     "text": [
      "100%|███████████████████████████████████████████| 26/26 [00:05<00:00,  5.08it/s]\n"
     ]
    },
    {
     "name": "stdout",
     "output_type": "stream",
     "text": [
      "val Loss:1.0414717649288234 | Acc:0.6027531956735497 | F1:0.5758026043922968\n",
      "SAVE: 51epoch\n"
     ]
    },
    {
     "name": "stderr",
     "output_type": "stream",
     "text": [
      "100%|█████████████████████████████████████████| 102/102 [00:47<00:00,  2.17it/s]\n"
     ]
    },
    {
     "name": "stdout",
     "output_type": "stream",
     "text": [
      "Epoch:[52/200]\n",
      "Train Loss:0.9233318386673635 | Acc:0.6642892277422529 | F1:0.633584054064661\n"
     ]
    },
    {
     "name": "stderr",
     "output_type": "stream",
     "text": [
      "100%|███████████████████████████████████████████| 26/26 [00:05<00:00,  5.12it/s]\n"
     ]
    },
    {
     "name": "stdout",
     "output_type": "stream",
     "text": [
      "val Loss:1.0317530394655414 | Acc:0.6057030481809242 | F1:0.5781279933406827\n",
      "SAVE: 52epoch\n"
     ]
    },
    {
     "name": "stderr",
     "output_type": "stream",
     "text": [
      "100%|█████████████████████████████████████████| 102/102 [00:47<00:00,  2.17it/s]\n"
     ]
    },
    {
     "name": "stdout",
     "output_type": "stream",
     "text": [
      "Epoch:[53/200]\n",
      "Train Loss:0.9113444942473427 | Acc:0.6685932120019675 | F1:0.638391702502501\n"
     ]
    },
    {
     "name": "stderr",
     "output_type": "stream",
     "text": [
      "100%|███████████████████████████████████████████| 26/26 [00:05<00:00,  5.11it/s]\n"
     ]
    },
    {
     "name": "stdout",
     "output_type": "stream",
     "text": [
      "val Loss:1.034351294254014 | Acc:0.6037364798426745 | F1:0.5773231450888897\n"
     ]
    },
    {
     "name": "stderr",
     "output_type": "stream",
     "text": [
      "100%|█████████████████████████████████████████| 102/102 [00:46<00:00,  2.18it/s]\n"
     ]
    },
    {
     "name": "stdout",
     "output_type": "stream",
     "text": [
      "Epoch:[54/200]\n",
      "Train Loss:0.9005463907006803 | Acc:0.6719134284308903 | F1:0.6406479508115471\n"
     ]
    },
    {
     "name": "stderr",
     "output_type": "stream",
     "text": [
      "100%|███████████████████████████████████████████| 26/26 [00:05<00:00,  5.04it/s]\n"
     ]
    },
    {
     "name": "stdout",
     "output_type": "stream",
     "text": [
      "val Loss:1.0259466508848478 | Acc:0.6101278269419862 | F1:0.5829300622864265\n",
      "SAVE: 54epoch\n"
     ]
    },
    {
     "name": "stderr",
     "output_type": "stream",
     "text": [
      "100%|█████████████████████████████████████████| 102/102 [00:47<00:00,  2.17it/s]\n"
     ]
    },
    {
     "name": "stdout",
     "output_type": "stream",
     "text": [
      "Epoch:[55/200]\n",
      "Train Loss:0.8930592552758295 | Acc:0.6715445154943434 | F1:0.640737328537397\n"
     ]
    },
    {
     "name": "stderr",
     "output_type": "stream",
     "text": [
      "100%|███████████████████████████████████████████| 26/26 [00:05<00:00,  5.07it/s]\n"
     ]
    },
    {
     "name": "stdout",
     "output_type": "stream",
     "text": [
      "val Loss:1.0189393797455284 | Acc:0.6184857423795477 | F1:0.591672967922456\n",
      "SAVE: 55epoch\n"
     ]
    },
    {
     "name": "stderr",
     "output_type": "stream",
     "text": [
      "100%|█████████████████████████████████████████| 102/102 [00:46<00:00,  2.17it/s]\n"
     ]
    },
    {
     "name": "stdout",
     "output_type": "stream",
     "text": [
      "Epoch:[56/200]\n",
      "Train Loss:0.8834652842058669 | Acc:0.6779390063944909 | F1:0.6482219793249626\n"
     ]
    },
    {
     "name": "stderr",
     "output_type": "stream",
     "text": [
      "100%|███████████████████████████████████████████| 26/26 [00:05<00:00,  5.07it/s]\n"
     ]
    },
    {
     "name": "stdout",
     "output_type": "stream",
     "text": [
      "val Loss:1.0187912433899962 | Acc:0.6130776794493609 | F1:0.5865993760199845\n",
      "SAVE: 56epoch\n"
     ]
    },
    {
     "name": "stderr",
     "output_type": "stream",
     "text": [
      "100%|█████████████████████████████████████████| 102/102 [00:47<00:00,  2.16it/s]\n"
     ]
    },
    {
     "name": "stdout",
     "output_type": "stream",
     "text": [
      "Epoch:[57/200]\n",
      "Train Loss:0.8739631930947949 | Acc:0.6792916871618299 | F1:0.6497086367419164\n"
     ]
    },
    {
     "name": "stderr",
     "output_type": "stream",
     "text": [
      "100%|███████████████████████████████████████████| 26/26 [00:05<00:00,  5.15it/s]\n"
     ]
    },
    {
     "name": "stdout",
     "output_type": "stream",
     "text": [
      "val Loss:1.003511629449231 | Acc:0.6194690265486725 | F1:0.5951939182254928\n",
      "SAVE: 57epoch\n"
     ]
    },
    {
     "name": "stderr",
     "output_type": "stream",
     "text": [
      "100%|█████████████████████████████████████████| 102/102 [00:47<00:00,  2.17it/s]\n"
     ]
    },
    {
     "name": "stdout",
     "output_type": "stream",
     "text": [
      "Epoch:[58/200]\n",
      "Train Loss:0.8642544338284487 | Acc:0.6829808165272996 | F1:0.6536624405740409\n"
     ]
    },
    {
     "name": "stderr",
     "output_type": "stream",
     "text": [
      "100%|███████████████████████████████████████████| 26/26 [00:05<00:00,  5.11it/s]\n"
     ]
    },
    {
     "name": "stdout",
     "output_type": "stream",
     "text": [
      "val Loss:1.0064872771120588 | Acc:0.6219272369714848 | F1:0.5970555490564735\n"
     ]
    },
    {
     "name": "stderr",
     "output_type": "stream",
     "text": [
      "100%|█████████████████████████████████████████| 102/102 [00:47<00:00,  2.17it/s]\n"
     ]
    },
    {
     "name": "stdout",
     "output_type": "stream",
     "text": [
      "Epoch:[59/200]\n",
      "Train Loss:0.851963839065366 | Acc:0.6893753074274471 | F1:0.6593401392407957\n"
     ]
    },
    {
     "name": "stderr",
     "output_type": "stream",
     "text": [
      "100%|███████████████████████████████████████████| 26/26 [00:05<00:00,  5.07it/s]\n"
     ]
    },
    {
     "name": "stdout",
     "output_type": "stream",
     "text": [
      "val Loss:0.9979538418198757 | Acc:0.6263520157325467 | F1:0.6006236887147798\n",
      "SAVE: 59epoch\n"
     ]
    },
    {
     "name": "stderr",
     "output_type": "stream",
     "text": [
      "100%|█████████████████████████████████████████| 102/102 [00:47<00:00,  2.17it/s]\n"
     ]
    },
    {
     "name": "stdout",
     "output_type": "stream",
     "text": [
      "Epoch:[60/200]\n",
      "Train Loss:0.8501662538371764 | Acc:0.6942941465814068 | F1:0.6648304658429035\n"
     ]
    },
    {
     "name": "stderr",
     "output_type": "stream",
     "text": [
      "100%|███████████████████████████████████████████| 26/26 [00:05<00:00,  5.08it/s]\n"
     ]
    },
    {
     "name": "stdout",
     "output_type": "stream",
     "text": [
      "val Loss:0.9898795155531772 | Acc:0.6332350049164208 | F1:0.608330071694873\n",
      "SAVE: 60epoch\n"
     ]
    },
    {
     "name": "stderr",
     "output_type": "stream",
     "text": [
      "100%|█████████████████████████████████████████| 102/102 [00:47<00:00,  2.16it/s]\n"
     ]
    },
    {
     "name": "stdout",
     "output_type": "stream",
     "text": [
      "Epoch:[61/200]\n",
      "Train Loss:0.8400652528805974 | Acc:0.6924495818986719 | F1:0.6647547448272579\n"
     ]
    },
    {
     "name": "stderr",
     "output_type": "stream",
     "text": [
      "100%|███████████████████████████████████████████| 26/26 [00:05<00:00,  5.08it/s]\n"
     ]
    },
    {
     "name": "stdout",
     "output_type": "stream",
     "text": [
      "val Loss:0.9899981933240225 | Acc:0.6297935103244838 | F1:0.6062426770337214\n"
     ]
    },
    {
     "name": "stderr",
     "output_type": "stream",
     "text": [
      "100%|█████████████████████████████████████████| 102/102 [00:46<00:00,  2.17it/s]\n"
     ]
    },
    {
     "name": "stdout",
     "output_type": "stream",
     "text": [
      "Epoch:[62/200]\n",
      "Train Loss:0.8295318982721959 | Acc:0.6956468273487457 | F1:0.6691481002585327\n"
     ]
    },
    {
     "name": "stderr",
     "output_type": "stream",
     "text": [
      "100%|███████████████████████████████████████████| 26/26 [00:05<00:00,  5.06it/s]\n"
     ]
    },
    {
     "name": "stdout",
     "output_type": "stream",
     "text": [
      "val Loss:0.9842550752202787 | Acc:0.6366764995083579 | F1:0.6119126375390846\n",
      "SAVE: 62epoch\n"
     ]
    },
    {
     "name": "stderr",
     "output_type": "stream",
     "text": [
      "100%|█████████████████████████████████████████| 102/102 [00:46<00:00,  2.17it/s]\n"
     ]
    },
    {
     "name": "stdout",
     "output_type": "stream",
     "text": [
      "Epoch:[63/200]\n",
      "Train Loss:0.8150510472202911 | Acc:0.7009345794392523 | F1:0.6732400491655727\n"
     ]
    },
    {
     "name": "stderr",
     "output_type": "stream",
     "text": [
      "100%|███████████████████████████████████████████| 26/26 [00:05<00:00,  5.16it/s]\n"
     ]
    },
    {
     "name": "stdout",
     "output_type": "stream",
     "text": [
      "val Loss:0.9697909824030003 | Acc:0.6376597836774828 | F1:0.6149112340873192\n",
      "SAVE: 63epoch\n"
     ]
    },
    {
     "name": "stderr",
     "output_type": "stream",
     "text": [
      "100%|█████████████████████████████████████████| 102/102 [00:46<00:00,  2.17it/s]\n"
     ]
    },
    {
     "name": "stdout",
     "output_type": "stream",
     "text": [
      "Epoch:[64/200]\n",
      "Train Loss:0.8154264503784855 | Acc:0.7097884899163798 | F1:0.684669379685287\n"
     ]
    },
    {
     "name": "stderr",
     "output_type": "stream",
     "text": [
      "100%|███████████████████████████████████████████| 26/26 [00:05<00:00,  5.10it/s]\n"
     ]
    },
    {
     "name": "stdout",
     "output_type": "stream",
     "text": [
      "val Loss:0.9696540122772974 | Acc:0.6415929203539823 | F1:0.6177104573288977\n",
      "SAVE: 64epoch\n"
     ]
    },
    {
     "name": "stderr",
     "output_type": "stream",
     "text": [
      "100%|█████████████████████████████████████████| 102/102 [00:46<00:00,  2.17it/s]\n"
     ]
    },
    {
     "name": "stdout",
     "output_type": "stream",
     "text": [
      "Epoch:[65/200]\n",
      "Train Loss:0.8014183060558805 | Acc:0.7047466797835711 | F1:0.6782105656713371\n"
     ]
    },
    {
     "name": "stderr",
     "output_type": "stream",
     "text": [
      "100%|███████████████████████████████████████████| 26/26 [00:05<00:00,  5.11it/s]\n"
     ]
    },
    {
     "name": "stdout",
     "output_type": "stream",
     "text": [
      "val Loss:0.9572742046273681 | Acc:0.63913470993117 | F1:0.615031257327947\n",
      "SAVE: 65epoch\n"
     ]
    },
    {
     "name": "stderr",
     "output_type": "stream",
     "text": [
      "100%|█████████████████████████████████████████| 102/102 [00:47<00:00,  2.17it/s]\n"
     ]
    },
    {
     "name": "stdout",
     "output_type": "stream",
     "text": [
      "Epoch:[66/200]\n",
      "Train Loss:0.793748647927417 | Acc:0.7124938514510576 | F1:0.6861965499709478\n"
     ]
    },
    {
     "name": "stderr",
     "output_type": "stream",
     "text": [
      "100%|███████████████████████████████████████████| 26/26 [00:05<00:00,  5.13it/s]\n"
     ]
    },
    {
     "name": "stdout",
     "output_type": "stream",
     "text": [
      "val Loss:0.9534218884499024 | Acc:0.6415929203539823 | F1:0.6173286685406462\n",
      "SAVE: 66epoch\n"
     ]
    },
    {
     "name": "stderr",
     "output_type": "stream",
     "text": [
      "100%|█████████████████████████████████████████| 102/102 [00:46<00:00,  2.17it/s]\n"
     ]
    },
    {
     "name": "stdout",
     "output_type": "stream",
     "text": [
      "Epoch:[67/200]\n",
      "Train Loss:0.7918413075917586 | Acc:0.7080668962124939 | F1:0.6806719994192917\n"
     ]
    },
    {
     "name": "stderr",
     "output_type": "stream",
     "text": [
      "100%|███████████████████████████████████████████| 26/26 [00:05<00:00,  5.05it/s]\n"
     ]
    },
    {
     "name": "stdout",
     "output_type": "stream",
     "text": [
      "val Loss:0.9549829166899036 | Acc:0.6396263520157326 | F1:0.6167363082478791\n"
     ]
    },
    {
     "name": "stderr",
     "output_type": "stream",
     "text": [
      "100%|█████████████████████████████████████████| 102/102 [00:47<00:00,  2.17it/s]\n"
     ]
    },
    {
     "name": "stdout",
     "output_type": "stream",
     "text": [
      "Epoch:[68/200]\n",
      "Train Loss:0.7795561470542116 | Acc:0.721224790949336 | F1:0.6949273984436022\n"
     ]
    },
    {
     "name": "stderr",
     "output_type": "stream",
     "text": [
      "100%|███████████████████████████████████████████| 26/26 [00:05<00:00,  5.06it/s]\n"
     ]
    },
    {
     "name": "stdout",
     "output_type": "stream",
     "text": [
      "val Loss:0.9496153398483786 | Acc:0.6484759095378564 | F1:0.6231622589267243\n",
      "SAVE: 68epoch\n"
     ]
    },
    {
     "name": "stderr",
     "output_type": "stream",
     "text": [
      "100%|█████████████████████████████████████████| 102/102 [00:47<00:00,  2.16it/s]\n"
     ]
    },
    {
     "name": "stdout",
     "output_type": "stream",
     "text": [
      "Epoch:[69/200]\n",
      "Train Loss:0.7628198163707562 | Acc:0.7219626168224299 | F1:0.6959434754619156\n"
     ]
    },
    {
     "name": "stderr",
     "output_type": "stream",
     "text": [
      "100%|███████████████████████████████████████████| 26/26 [00:05<00:00,  5.06it/s]\n"
     ]
    },
    {
     "name": "stdout",
     "output_type": "stream",
     "text": [
      "val Loss:0.9520835774486396 | Acc:0.6470009832841691 | F1:0.623465787050621\n"
     ]
    },
    {
     "name": "stderr",
     "output_type": "stream",
     "text": [
      "100%|█████████████████████████████████████████| 102/102 [00:47<00:00,  2.17it/s]\n"
     ]
    },
    {
     "name": "stdout",
     "output_type": "stream",
     "text": [
      "Epoch:[70/200]\n",
      "Train Loss:0.7652279390118361 | Acc:0.7249139203148057 | F1:0.6989844956797583\n"
     ]
    },
    {
     "name": "stderr",
     "output_type": "stream",
     "text": [
      "100%|███████████████████████████████████████████| 26/26 [00:05<00:00,  5.08it/s]\n"
     ]
    },
    {
     "name": "stdout",
     "output_type": "stream",
     "text": [
      "val Loss:0.9528113261905509 | Acc:0.6425762045231072 | F1:0.6195501455683636\n"
     ]
    },
    {
     "name": "stderr",
     "output_type": "stream",
     "text": [
      "100%|█████████████████████████████████████████| 102/102 [00:47<00:00,  2.16it/s]\n"
     ]
    },
    {
     "name": "stdout",
     "output_type": "stream",
     "text": [
      "Epoch:[71/200]\n",
      "Train Loss:0.766545225116225 | Acc:0.7222085587801279 | F1:0.6971102030416694\n"
     ]
    },
    {
     "name": "stderr",
     "output_type": "stream",
     "text": [
      "100%|███████████████████████████████████████████| 26/26 [00:05<00:00,  5.12it/s]\n"
     ]
    },
    {
     "name": "stdout",
     "output_type": "stream",
     "text": [
      "val Loss:0.9379383330265446 | Acc:0.6543756145526057 | F1:0.6302023071327779\n",
      "SAVE: 71epoch\n"
     ]
    },
    {
     "name": "stderr",
     "output_type": "stream",
     "text": [
      "100%|█████████████████████████████████████████| 102/102 [00:47<00:00,  2.16it/s]\n"
     ]
    },
    {
     "name": "stdout",
     "output_type": "stream",
     "text": [
      "Epoch:[72/200]\n",
      "Train Loss:0.7599699693070922 | Acc:0.7240531234628628 | F1:0.6996424820729973\n"
     ]
    },
    {
     "name": "stderr",
     "output_type": "stream",
     "text": [
      "100%|███████████████████████████████████████████| 26/26 [00:05<00:00,  5.10it/s]\n"
     ]
    },
    {
     "name": "stdout",
     "output_type": "stream",
     "text": [
      "val Loss:0.9323253451664305 | Acc:0.6568338249754179 | F1:0.6316283509692596\n",
      "SAVE: 72epoch\n"
     ]
    },
    {
     "name": "stderr",
     "output_type": "stream",
     "text": [
      "100%|█████████████████████████████████████████| 102/102 [00:47<00:00,  2.17it/s]\n"
     ]
    },
    {
     "name": "stdout",
     "output_type": "stream",
     "text": [
      "Epoch:[73/200]\n",
      "Train Loss:0.7456504869683881 | Acc:0.7292179045745204 | F1:0.7042782177521733\n"
     ]
    },
    {
     "name": "stderr",
     "output_type": "stream",
     "text": [
      "100%|███████████████████████████████████████████| 26/26 [00:05<00:00,  5.11it/s]\n"
     ]
    },
    {
     "name": "stdout",
     "output_type": "stream",
     "text": [
      "val Loss:0.9399221133927914 | Acc:0.6504424778761062 | F1:0.6271003874006439\n"
     ]
    },
    {
     "name": "stderr",
     "output_type": "stream",
     "text": [
      "100%|█████████████████████████████████████████| 102/102 [00:47<00:00,  2.17it/s]\n"
     ]
    },
    {
     "name": "stdout",
     "output_type": "stream",
     "text": [
      "Epoch:[74/200]\n",
      "Train Loss:0.732660594065085 | Acc:0.7353664535169699 | F1:0.7118411720297342\n"
     ]
    },
    {
     "name": "stderr",
     "output_type": "stream",
     "text": [
      "100%|███████████████████████████████████████████| 26/26 [00:05<00:00,  5.15it/s]\n"
     ]
    },
    {
     "name": "stdout",
     "output_type": "stream",
     "text": [
      "val Loss:0.9327629084901238 | Acc:0.6484759095378564 | F1:0.6249535994088867\n"
     ]
    },
    {
     "name": "stderr",
     "output_type": "stream",
     "text": [
      "100%|█████████████████████████████████████████| 102/102 [00:47<00:00,  2.17it/s]\n"
     ]
    },
    {
     "name": "stdout",
     "output_type": "stream",
     "text": [
      "Epoch:[75/200]\n",
      "Train Loss:0.731254838337408 | Acc:0.7362272503689129 | F1:0.7121218271675099\n"
     ]
    },
    {
     "name": "stderr",
     "output_type": "stream",
     "text": [
      "100%|███████████████████████████████████████████| 26/26 [00:05<00:00,  5.09it/s]\n"
     ]
    },
    {
     "name": "stdout",
     "output_type": "stream",
     "text": [
      "val Loss:0.9262306494464331 | Acc:0.6484759095378564 | F1:0.6220435284253251\n",
      "SAVE: 75epoch\n"
     ]
    },
    {
     "name": "stderr",
     "output_type": "stream",
     "text": [
      "100%|█████████████████████████████████████████| 102/102 [00:47<00:00,  2.16it/s]\n"
     ]
    },
    {
     "name": "stdout",
     "output_type": "stream",
     "text": [
      "Epoch:[76/200]\n",
      "Train Loss:0.7259753218027857 | Acc:0.7330300049188392 | F1:0.7094642163426459\n"
     ]
    },
    {
     "name": "stderr",
     "output_type": "stream",
     "text": [
      "100%|███████████████████████████████████████████| 26/26 [00:05<00:00,  5.04it/s]\n"
     ]
    },
    {
     "name": "stdout",
     "output_type": "stream",
     "text": [
      "val Loss:0.927592680869201 | Acc:0.655850540806293 | F1:0.6310457799481338\n"
     ]
    },
    {
     "name": "stderr",
     "output_type": "stream",
     "text": [
      "100%|█████████████████████████████████████████| 102/102 [00:47<00:00,  2.17it/s]\n"
     ]
    },
    {
     "name": "stdout",
     "output_type": "stream",
     "text": [
      "Epoch:[77/200]\n",
      "Train Loss:0.7192642292364207 | Acc:0.7453271028037384 | F1:0.7218997678497254\n"
     ]
    },
    {
     "name": "stderr",
     "output_type": "stream",
     "text": [
      "100%|███████████████████████████████████████████| 26/26 [00:05<00:00,  5.05it/s]\n"
     ]
    },
    {
     "name": "stdout",
     "output_type": "stream",
     "text": [
      "val Loss:0.9207334728250344 | Acc:0.6538839724680433 | F1:0.6285637591081618\n",
      "SAVE: 77epoch\n"
     ]
    },
    {
     "name": "stderr",
     "output_type": "stream",
     "text": [
      "100%|█████████████████████████████████████████| 102/102 [00:47<00:00,  2.17it/s]\n"
     ]
    },
    {
     "name": "stdout",
     "output_type": "stream",
     "text": [
      "Epoch:[78/200]\n",
      "Train Loss:0.7113200979636212 | Acc:0.7377029021151008 | F1:0.7167309616190014\n"
     ]
    },
    {
     "name": "stderr",
     "output_type": "stream",
     "text": [
      "100%|███████████████████████████████████████████| 26/26 [00:05<00:00,  5.10it/s]\n"
     ]
    },
    {
     "name": "stdout",
     "output_type": "stream",
     "text": [
      "val Loss:0.9129900953997084 | Acc:0.6588003933136677 | F1:0.6355013389839883\n",
      "SAVE: 78epoch\n"
     ]
    },
    {
     "name": "stderr",
     "output_type": "stream",
     "text": [
      "100%|█████████████████████████████████████████| 102/102 [00:46<00:00,  2.17it/s]\n"
     ]
    },
    {
     "name": "stdout",
     "output_type": "stream",
     "text": [
      "Epoch:[79/200]\n",
      "Train Loss:0.7092053218539923 | Acc:0.7481554353172651 | F1:0.7249784305683267\n"
     ]
    },
    {
     "name": "stderr",
     "output_type": "stream",
     "text": [
      "100%|███████████████████████████████████████████| 26/26 [00:05<00:00,  5.04it/s]\n"
     ]
    },
    {
     "name": "stdout",
     "output_type": "stream",
     "text": [
      "val Loss:0.9188473956657605 | Acc:0.6568338249754179 | F1:0.6330077946199398\n"
     ]
    },
    {
     "name": "stderr",
     "output_type": "stream",
     "text": [
      "100%|█████████████████████████████████████████| 102/102 [00:46<00:00,  2.17it/s]\n"
     ]
    },
    {
     "name": "stdout",
     "output_type": "stream",
     "text": [
      "Epoch:[80/200]\n",
      "Train Loss:0.7030744226003479 | Acc:0.7461878996556812 | F1:0.7244141300458364\n"
     ]
    },
    {
     "name": "stderr",
     "output_type": "stream",
     "text": [
      "100%|███████████████████████████████████████████| 26/26 [00:05<00:00,  5.10it/s]\n"
     ]
    },
    {
     "name": "stdout",
     "output_type": "stream",
     "text": [
      "val Loss:0.9128596454477826 | Acc:0.6563421828908554 | F1:0.6314022809948706\n",
      "SAVE: 80epoch\n"
     ]
    },
    {
     "name": "stderr",
     "output_type": "stream",
     "text": [
      "100%|█████████████████████████████████████████| 102/102 [00:47<00:00,  2.17it/s]\n"
     ]
    },
    {
     "name": "stdout",
     "output_type": "stream",
     "text": [
      "Epoch:[81/200]\n",
      "Train Loss:0.6912904968709707 | Acc:0.7568863748155436 | F1:0.7353012692742518\n"
     ]
    },
    {
     "name": "stderr",
     "output_type": "stream",
     "text": [
      "100%|███████████████████████████████████████████| 26/26 [00:05<00:00,  5.09it/s]\n"
     ]
    },
    {
     "name": "stdout",
     "output_type": "stream",
     "text": [
      "val Loss:0.9166420961317177 | Acc:0.6573254670599803 | F1:0.6338110205107926\n"
     ]
    },
    {
     "name": "stderr",
     "output_type": "stream",
     "text": [
      "100%|█████████████████████████████████████████| 102/102 [00:47<00:00,  2.16it/s]\n"
     ]
    },
    {
     "name": "stdout",
     "output_type": "stream",
     "text": [
      "Epoch:[82/200]\n",
      "Train Loss:0.6804467114801778 | Acc:0.7562715199212986 | F1:0.7363466761548779\n"
     ]
    },
    {
     "name": "stderr",
     "output_type": "stream",
     "text": [
      "100%|███████████████████████████████████████████| 26/26 [00:05<00:00,  5.06it/s]\n"
     ]
    },
    {
     "name": "stdout",
     "output_type": "stream",
     "text": [
      "val Loss:0.9145674237811108 | Acc:0.6563421828908554 | F1:0.6323277052804107\n"
     ]
    },
    {
     "name": "stderr",
     "output_type": "stream",
     "text": [
      "100%|█████████████████████████████████████████| 102/102 [00:47<00:00,  2.16it/s]\n"
     ]
    },
    {
     "name": "stdout",
     "output_type": "stream",
     "text": [
      "Epoch:[83/200]\n",
      "Train Loss:0.6704810690363815 | Acc:0.7571323167732416 | F1:0.7344760464871734\n"
     ]
    },
    {
     "name": "stderr",
     "output_type": "stream",
     "text": [
      "100%|███████████████████████████████████████████| 26/26 [00:05<00:00,  5.11it/s]\n"
     ]
    },
    {
     "name": "stdout",
     "output_type": "stream",
     "text": [
      "val Loss:0.9072032321167555 | Acc:0.6588003933136677 | F1:0.6365466125204995\n",
      "SAVE: 83epoch\n"
     ]
    },
    {
     "name": "stderr",
     "output_type": "stream",
     "text": [
      "100%|█████████████████████████████████████████| 102/102 [00:46<00:00,  2.17it/s]\n"
     ]
    },
    {
     "name": "stdout",
     "output_type": "stream",
     "text": [
      "Epoch:[84/200]\n",
      "Train Loss:0.6810852597044773 | Acc:0.7549188391539596 | F1:0.7337223342621845\n"
     ]
    },
    {
     "name": "stderr",
     "output_type": "stream",
     "text": [
      "100%|███████████████████████████████████████████| 26/26 [00:05<00:00,  5.07it/s]\n"
     ]
    },
    {
     "name": "stdout",
     "output_type": "stream",
     "text": [
      "val Loss:0.9200349392089169 | Acc:0.655850540806293 | F1:0.6325234806145824\n"
     ]
    },
    {
     "name": "stderr",
     "output_type": "stream",
     "text": [
      "100%|█████████████████████████████████████████| 102/102 [00:47<00:00,  2.16it/s]\n"
     ]
    },
    {
     "name": "stdout",
     "output_type": "stream",
     "text": [
      "Epoch:[85/200]\n",
      "Train Loss:0.659166863266025 | Acc:0.7673389080177078 | F1:0.7465719439493261\n"
     ]
    },
    {
     "name": "stderr",
     "output_type": "stream",
     "text": [
      "100%|███████████████████████████████████████████| 26/26 [00:05<00:00,  5.04it/s]\n"
     ]
    },
    {
     "name": "stdout",
     "output_type": "stream",
     "text": [
      "val Loss:0.9081131552172973 | Acc:0.6568338249754179 | F1:0.6327967883730731\n"
     ]
    },
    {
     "name": "stderr",
     "output_type": "stream",
     "text": [
      "100%|█████████████████████████████████████████| 102/102 [00:46<00:00,  2.17it/s]\n"
     ]
    },
    {
     "name": "stdout",
     "output_type": "stream",
     "text": [
      "Epoch:[86/200]\n",
      "Train Loss:0.6574598366382728 | Acc:0.764387604525332 | F1:0.7443825534223854\n"
     ]
    },
    {
     "name": "stderr",
     "output_type": "stream",
     "text": [
      "100%|███████████████████████████████████████████| 26/26 [00:05<00:00,  5.08it/s]\n"
     ]
    },
    {
     "name": "stdout",
     "output_type": "stream",
     "text": [
      "val Loss:0.8926056942874117 | Acc:0.6647000983284169 | F1:0.6410684194162176\n",
      "SAVE: 86epoch\n"
     ]
    },
    {
     "name": "stderr",
     "output_type": "stream",
     "text": [
      "100%|█████████████████████████████████████████| 102/102 [00:47<00:00,  2.16it/s]\n"
     ]
    },
    {
     "name": "stdout",
     "output_type": "stream",
     "text": [
      "Epoch:[87/200]\n",
      "Train Loss:0.6449878363555368 | Acc:0.764018691588785 | F1:0.7427725006103104\n"
     ]
    },
    {
     "name": "stderr",
     "output_type": "stream",
     "text": [
      "100%|███████████████████████████████████████████| 26/26 [00:05<00:00,  5.06it/s]\n"
     ]
    },
    {
     "name": "stdout",
     "output_type": "stream",
     "text": [
      "val Loss:0.8884658512815965 | Acc:0.671583087512291 | F1:0.6465770688607952\n",
      "SAVE: 87epoch\n"
     ]
    },
    {
     "name": "stderr",
     "output_type": "stream",
     "text": [
      "100%|█████████████████████████████████████████| 102/102 [00:47<00:00,  2.17it/s]\n"
     ]
    },
    {
     "name": "stdout",
     "output_type": "stream",
     "text": [
      "Epoch:[88/200]\n",
      "Train Loss:0.6371973757080063 | Acc:0.7759468765371372 | F1:0.7559937376877723\n"
     ]
    },
    {
     "name": "stderr",
     "output_type": "stream",
     "text": [
      "100%|███████████████████████████████████████████| 26/26 [00:05<00:00,  5.12it/s]\n"
     ]
    },
    {
     "name": "stdout",
     "output_type": "stream",
     "text": [
      "val Loss:0.9050500761560049 | Acc:0.6666666666666666 | F1:0.6454359572308547\n"
     ]
    },
    {
     "name": "stderr",
     "output_type": "stream",
     "text": [
      "100%|█████████████████████████████████████████| 102/102 [00:46<00:00,  2.17it/s]\n"
     ]
    },
    {
     "name": "stdout",
     "output_type": "stream",
     "text": [
      "Epoch:[89/200]\n",
      "Train Loss:0.6380506675640938 | Acc:0.7668470241023119 | F1:0.7459617094401414\n"
     ]
    },
    {
     "name": "stderr",
     "output_type": "stream",
     "text": [
      "100%|███████████████████████████████████████████| 26/26 [00:05<00:00,  5.10it/s]\n"
     ]
    },
    {
     "name": "stdout",
     "output_type": "stream",
     "text": [
      "val Loss:0.9001153434389577 | Acc:0.6622418879056047 | F1:0.6391521854605932\n"
     ]
    },
    {
     "name": "stderr",
     "output_type": "stream",
     "text": [
      "100%|█████████████████████████████████████████| 102/102 [00:47<00:00,  2.17it/s]\n"
     ]
    },
    {
     "name": "stdout",
     "output_type": "stream",
     "text": [
      "Epoch:[90/200]\n",
      "Train Loss:0.6359225454086513 | Acc:0.7743482538121004 | F1:0.75406501045127\n"
     ]
    },
    {
     "name": "stderr",
     "output_type": "stream",
     "text": [
      "100%|███████████████████████████████████████████| 26/26 [00:05<00:00,  5.11it/s]\n"
     ]
    },
    {
     "name": "stdout",
     "output_type": "stream",
     "text": [
      "val Loss:0.9005340023612789 | Acc:0.6745329400196657 | F1:0.6539515865181421\n"
     ]
    },
    {
     "name": "stderr",
     "output_type": "stream",
     "text": [
      "100%|█████████████████████████████████████████| 102/102 [00:47<00:00,  2.17it/s]\n"
     ]
    },
    {
     "name": "stdout",
     "output_type": "stream",
     "text": [
      "Epoch:[91/200]\n",
      "Train Loss:0.627186683968142 | Acc:0.778406296114117 | F1:0.7590321201142797\n"
     ]
    },
    {
     "name": "stderr",
     "output_type": "stream",
     "text": [
      "100%|███████████████████████████████████████████| 26/26 [00:05<00:00,  5.08it/s]\n"
     ]
    },
    {
     "name": "stdout",
     "output_type": "stream",
     "text": [
      "val Loss:0.9014960427785927 | Acc:0.6710914454277286 | F1:0.6509631651945789\n"
     ]
    },
    {
     "name": "stderr",
     "output_type": "stream",
     "text": [
      "100%|█████████████████████████████████████████| 102/102 [00:47<00:00,  2.16it/s]\n"
     ]
    },
    {
     "name": "stdout",
     "output_type": "stream",
     "text": [
      "Epoch:[92/200]\n",
      "Train Loss:0.6201761682750084 | Acc:0.7824643384161338 | F1:0.7640361571307441\n"
     ]
    },
    {
     "name": "stderr",
     "output_type": "stream",
     "text": [
      "100%|███████████████████████████████████████████| 26/26 [00:05<00:00,  5.11it/s]\n"
     ]
    },
    {
     "name": "stdout",
     "output_type": "stream",
     "text": [
      "val Loss:0.8906174564666336 | Acc:0.6745329400196657 | F1:0.6536856297261583\n"
     ]
    },
    {
     "name": "stderr",
     "output_type": "stream",
     "text": [
      "100%|█████████████████████████████████████████| 102/102 [00:46<00:00,  2.17it/s]\n"
     ]
    },
    {
     "name": "stdout",
     "output_type": "stream",
     "text": [
      "Epoch:[93/200]\n",
      "Train Loss:0.6212347582884159 | Acc:0.7777914412198721 | F1:0.7578286057396809\n"
     ]
    },
    {
     "name": "stderr",
     "output_type": "stream",
     "text": [
      "100%|███████████████████████████████████████████| 26/26 [00:05<00:00,  5.11it/s]\n"
     ]
    },
    {
     "name": "stdout",
     "output_type": "stream",
     "text": [
      "val Loss:0.8982516414061877 | Acc:0.6710914454277286 | F1:0.6476761380343806\n"
     ]
    },
    {
     "name": "stderr",
     "output_type": "stream",
     "text": [
      "100%|█████████████████████████████████████████| 102/102 [00:47<00:00,  2.17it/s]\n"
     ]
    },
    {
     "name": "stdout",
     "output_type": "stream",
     "text": [
      "Epoch:[94/200]\n",
      "Train Loss:0.6120436509958466 | Acc:0.7791441219872111 | F1:0.7596781743934548\n"
     ]
    },
    {
     "name": "stderr",
     "output_type": "stream",
     "text": [
      "100%|███████████████████████████████████████████| 26/26 [00:05<00:00,  5.04it/s]\n"
     ]
    },
    {
     "name": "stdout",
     "output_type": "stream",
     "text": [
      "val Loss:0.8955326482375229 | Acc:0.6691248770894789 | F1:0.6454181579039864\n"
     ]
    },
    {
     "name": "stderr",
     "output_type": "stream",
     "text": [
      "100%|█████████████████████████████████████████| 102/102 [00:47<00:00,  2.16it/s]\n"
     ]
    },
    {
     "name": "stdout",
     "output_type": "stream",
     "text": [
      "Epoch:[95/200]\n",
      "Train Loss:0.6016251506678764 | Acc:0.7867683226758485 | F1:0.7675973149675874\n"
     ]
    },
    {
     "name": "stderr",
     "output_type": "stream",
     "text": [
      "100%|███████████████████████████████████████████| 26/26 [00:05<00:00,  5.11it/s]\n"
     ]
    },
    {
     "name": "stdout",
     "output_type": "stream",
     "text": [
      "val Loss:0.8866825192844388 | Acc:0.6730580137659784 | F1:0.6503340608393687\n",
      "SAVE: 95epoch\n"
     ]
    },
    {
     "name": "stderr",
     "output_type": "stream",
     "text": [
      "100%|█████████████████████████████████████████| 102/102 [00:47<00:00,  2.16it/s]\n"
     ]
    },
    {
     "name": "stdout",
     "output_type": "stream",
     "text": [
      "Epoch:[96/200]\n",
      "Train Loss:0.5953359581013354 | Acc:0.7899655681259223 | F1:0.7717319908458277\n"
     ]
    },
    {
     "name": "stderr",
     "output_type": "stream",
     "text": [
      "100%|███████████████████████████████████████████| 26/26 [00:05<00:00,  5.09it/s]\n"
     ]
    },
    {
     "name": "stdout",
     "output_type": "stream",
     "text": [
      "val Loss:0.8937668645628082 | Acc:0.6755162241887905 | F1:0.6525333435611058\n"
     ]
    },
    {
     "name": "stderr",
     "output_type": "stream",
     "text": [
      "100%|█████████████████████████████████████████| 102/102 [00:47<00:00,  2.16it/s]\n"
     ]
    },
    {
     "name": "stdout",
     "output_type": "stream",
     "text": [
      "Epoch:[97/200]\n",
      "Train Loss:0.6004154830511368 | Acc:0.7895966551893753 | F1:0.7702941943235064\n"
     ]
    },
    {
     "name": "stderr",
     "output_type": "stream",
     "text": [
      "100%|███████████████████████████████████████████| 26/26 [00:05<00:00,  5.04it/s]\n"
     ]
    },
    {
     "name": "stdout",
     "output_type": "stream",
     "text": [
      "val Loss:0.892509767439513 | Acc:0.6710914454277286 | F1:0.648694219632627\n"
     ]
    },
    {
     "name": "stderr",
     "output_type": "stream",
     "text": [
      "100%|█████████████████████████████████████████| 102/102 [00:47<00:00,  2.16it/s]\n"
     ]
    },
    {
     "name": "stdout",
     "output_type": "stream",
     "text": [
      "Epoch:[98/200]\n",
      "Train Loss:0.5875265144299124 | Acc:0.793408755533694 | F1:0.7748559904569089\n"
     ]
    },
    {
     "name": "stderr",
     "output_type": "stream",
     "text": [
      "100%|███████████████████████████████████████████| 26/26 [00:05<00:00,  5.09it/s]\n"
     ]
    },
    {
     "name": "stdout",
     "output_type": "stream",
     "text": [
      "val Loss:0.8951318143860546 | Acc:0.6755162241887905 | F1:0.6519103338165101\n"
     ]
    },
    {
     "name": "stderr",
     "output_type": "stream",
     "text": [
      "100%|█████████████████████████████████████████| 102/102 [00:46<00:00,  2.18it/s]\n"
     ]
    },
    {
     "name": "stdout",
     "output_type": "stream",
     "text": [
      "Epoch:[99/200]\n",
      "Train Loss:0.5924900119608397 | Acc:0.7850467289719626 | F1:0.7648926785708975\n"
     ]
    },
    {
     "name": "stderr",
     "output_type": "stream",
     "text": [
      "100%|███████████████████████████████████████████| 26/26 [00:05<00:00,  5.10it/s]\n"
     ]
    },
    {
     "name": "stdout",
     "output_type": "stream",
     "text": [
      "val Loss:0.8871038192141373 | Acc:0.6789577187807276 | F1:0.6557665584923661\n"
     ]
    },
    {
     "name": "stderr",
     "output_type": "stream",
     "text": [
      "100%|█████████████████████████████████████████| 102/102 [00:47<00:00,  2.16it/s]\n"
     ]
    },
    {
     "name": "stdout",
     "output_type": "stream",
     "text": [
      "Epoch:[100/200]\n",
      "Train Loss:0.5781497239069697 | Acc:0.7926709296606 | F1:0.7748010728964395\n"
     ]
    },
    {
     "name": "stderr",
     "output_type": "stream",
     "text": [
      "100%|███████████████████████████████████████████| 26/26 [00:05<00:00,  5.04it/s]\n"
     ]
    },
    {
     "name": "stdout",
     "output_type": "stream",
     "text": [
      "val Loss:0.9026265841786958 | Acc:0.6755162241887905 | F1:0.6529813048911522\n"
     ]
    },
    {
     "name": "stderr",
     "output_type": "stream",
     "text": [
      "100%|█████████████████████████████████████████| 102/102 [00:46<00:00,  2.17it/s]\n"
     ]
    },
    {
     "name": "stdout",
     "output_type": "stream",
     "text": [
      "Epoch:[101/200]\n",
      "Train Loss:0.5688117750161279 | Acc:0.7964830300049188 | F1:0.7781612735912008\n"
     ]
    },
    {
     "name": "stderr",
     "output_type": "stream",
     "text": [
      "100%|███████████████████████████████████████████| 26/26 [00:05<00:00,  5.10it/s]\n"
     ]
    },
    {
     "name": "stdout",
     "output_type": "stream",
     "text": [
      "val Loss:0.8886151791439413 | Acc:0.6769911504424779 | F1:0.6547571465430038\n"
     ]
    },
    {
     "name": "stderr",
     "output_type": "stream",
     "text": [
      "100%|█████████████████████████████████████████| 102/102 [00:47<00:00,  2.17it/s]\n"
     ]
    },
    {
     "name": "stdout",
     "output_type": "stream",
     "text": [
      "Epoch:[102/200]\n",
      "Train Loss:0.5625336859182836 | Acc:0.8000491883915396 | F1:0.7816244247435229\n"
     ]
    },
    {
     "name": "stderr",
     "output_type": "stream",
     "text": [
      "100%|███████████████████████████████████████████| 26/26 [00:05<00:00,  5.10it/s]\n"
     ]
    },
    {
     "name": "stdout",
     "output_type": "stream",
     "text": [
      "val Loss:0.8852122830430315 | Acc:0.6789577187807276 | F1:0.6569738429695076\n",
      "SAVE: 102epoch\n"
     ]
    },
    {
     "name": "stderr",
     "output_type": "stream",
     "text": [
      "100%|█████████████████████████████████████████| 102/102 [00:47<00:00,  2.17it/s]\n"
     ]
    },
    {
     "name": "stdout",
     "output_type": "stream",
     "text": [
      "Epoch:[103/200]\n",
      "Train Loss:0.5532869809493606 | Acc:0.8053369404820462 | F1:0.7885887489987878\n"
     ]
    },
    {
     "name": "stderr",
     "output_type": "stream",
     "text": [
      "100%|███████████████████████████████████████████| 26/26 [00:05<00:00,  5.09it/s]\n"
     ]
    },
    {
     "name": "stdout",
     "output_type": "stream",
     "text": [
      "val Loss:0.8789000297835209 | Acc:0.6814159292035398 | F1:0.6602830925875615\n",
      "SAVE: 103epoch\n"
     ]
    },
    {
     "name": "stderr",
     "output_type": "stream",
     "text": [
      "100%|█████████████████████████████████████████| 102/102 [00:47<00:00,  2.16it/s]\n"
     ]
    },
    {
     "name": "stdout",
     "output_type": "stream",
     "text": [
      "Epoch:[104/200]\n",
      "Train Loss:0.558349962355876 | Acc:0.8052139695031972 | F1:0.7883053375346213\n"
     ]
    },
    {
     "name": "stderr",
     "output_type": "stream",
     "text": [
      "100%|███████████████████████████████████████████| 26/26 [00:05<00:00,  5.07it/s]\n"
     ]
    },
    {
     "name": "stdout",
     "output_type": "stream",
     "text": [
      "val Loss:0.8765037818175384 | Acc:0.6863323500491643 | F1:0.6635396351153957\n",
      "SAVE: 104epoch\n"
     ]
    },
    {
     "name": "stderr",
     "output_type": "stream",
     "text": [
      "100%|█████████████████████████████████████████| 102/102 [00:47<00:00,  2.16it/s]\n"
     ]
    },
    {
     "name": "stdout",
     "output_type": "stream",
     "text": [
      "Epoch:[105/200]\n",
      "Train Loss:0.5495326078647589 | Acc:0.808042302016724 | F1:0.7908352828181638\n"
     ]
    },
    {
     "name": "stderr",
     "output_type": "stream",
     "text": [
      "100%|███████████████████████████████████████████| 26/26 [00:05<00:00,  5.06it/s]\n"
     ]
    },
    {
     "name": "stdout",
     "output_type": "stream",
     "text": [
      "val Loss:0.8733041917093852 | Acc:0.6873156342182891 | F1:0.6656875766304974\n",
      "SAVE: 105epoch\n"
     ]
    },
    {
     "name": "stderr",
     "output_type": "stream",
     "text": [
      "100%|█████████████████████████████████████████| 102/102 [00:47<00:00,  2.16it/s]\n"
     ]
    },
    {
     "name": "stdout",
     "output_type": "stream",
     "text": [
      "Epoch:[106/200]\n",
      "Train Loss:0.5440147414444353 | Acc:0.8064436792916871 | F1:0.7892031300451788\n"
     ]
    },
    {
     "name": "stderr",
     "output_type": "stream",
     "text": [
      "100%|███████████████████████████████████████████| 26/26 [00:05<00:00,  5.08it/s]\n"
     ]
    },
    {
     "name": "stdout",
     "output_type": "stream",
     "text": [
      "val Loss:0.8837414022275011 | Acc:0.6814159292035398 | F1:0.6600565705834436\n"
     ]
    },
    {
     "name": "stderr",
     "output_type": "stream",
     "text": [
      "100%|█████████████████████████████████████████| 102/102 [00:46<00:00,  2.17it/s]\n"
     ]
    },
    {
     "name": "stdout",
     "output_type": "stream",
     "text": [
      "Epoch:[107/200]\n",
      "Train Loss:0.5496363352509596 | Acc:0.8030004918839154 | F1:0.7846042936264004\n"
     ]
    },
    {
     "name": "stderr",
     "output_type": "stream",
     "text": [
      "100%|███████████████████████████████████████████| 26/26 [00:05<00:00,  5.08it/s]\n"
     ]
    },
    {
     "name": "stdout",
     "output_type": "stream",
     "text": [
      "val Loss:0.8874859591852599 | Acc:0.6833824975417896 | F1:0.6614320659238472\n"
     ]
    },
    {
     "name": "stderr",
     "output_type": "stream",
     "text": [
      "100%|█████████████████████████████████████████| 102/102 [00:47<00:00,  2.15it/s]\n"
     ]
    },
    {
     "name": "stdout",
     "output_type": "stream",
     "text": [
      "Epoch:[108/200]\n",
      "Train Loss:0.5347086467651446 | Acc:0.8116084604033448 | F1:0.7944053421964726\n"
     ]
    },
    {
     "name": "stderr",
     "output_type": "stream",
     "text": [
      "100%|███████████████████████████████████████████| 26/26 [00:05<00:00,  5.11it/s]\n"
     ]
    },
    {
     "name": "stdout",
     "output_type": "stream",
     "text": [
      "val Loss:0.880280768332111 | Acc:0.6897738446411013 | F1:0.6675776586902493\n"
     ]
    },
    {
     "name": "stderr",
     "output_type": "stream",
     "text": [
      "100%|█████████████████████████████████████████| 102/102 [00:46<00:00,  2.17it/s]\n"
     ]
    },
    {
     "name": "stdout",
     "output_type": "stream",
     "text": [
      "Epoch:[109/200]\n",
      "Train Loss:0.530895178211304 | Acc:0.8097638957206099 | F1:0.79240909138418\n"
     ]
    },
    {
     "name": "stderr",
     "output_type": "stream",
     "text": [
      "100%|███████████████████████████████████████████| 26/26 [00:05<00:00,  5.04it/s]\n"
     ]
    },
    {
     "name": "stdout",
     "output_type": "stream",
     "text": [
      "val Loss:0.8864691091615308 | Acc:0.683874139626352 | F1:0.6621460115030378\n"
     ]
    },
    {
     "name": "stderr",
     "output_type": "stream",
     "text": [
      "100%|█████████████████████████████████████████| 102/102 [00:47<00:00,  2.16it/s]\n"
     ]
    },
    {
     "name": "stdout",
     "output_type": "stream",
     "text": [
      "Epoch:[110/200]\n",
      "Train Loss:0.5320893920998355 | Acc:0.8111165764879489 | F1:0.7946825379387755\n"
     ]
    },
    {
     "name": "stderr",
     "output_type": "stream",
     "text": [
      "100%|███████████████████████████████████████████| 26/26 [00:05<00:00,  5.13it/s]\n"
     ]
    },
    {
     "name": "stdout",
     "output_type": "stream",
     "text": [
      "val Loss:0.8689930209250811 | Acc:0.696165191740413 | F1:0.6736024239694035\n",
      "SAVE: 110epoch\n"
     ]
    },
    {
     "name": "stderr",
     "output_type": "stream",
     "text": [
      "100%|█████████████████████████████████████████| 102/102 [00:47<00:00,  2.17it/s]\n"
     ]
    },
    {
     "name": "stdout",
     "output_type": "stream",
     "text": [
      "Epoch:[111/200]\n",
      "Train Loss:0.5233132125295797 | Acc:0.8167732415150024 | F1:0.7999342085923732\n"
     ]
    },
    {
     "name": "stderr",
     "output_type": "stream",
     "text": [
      "100%|███████████████████████████████████████████| 26/26 [00:05<00:00,  5.12it/s]\n"
     ]
    },
    {
     "name": "stdout",
     "output_type": "stream",
     "text": [
      "val Loss:0.8839479269296839 | Acc:0.688298918387414 | F1:0.6668738024499768\n"
     ]
    },
    {
     "name": "stderr",
     "output_type": "stream",
     "text": [
      "100%|█████████████████████████████████████████| 102/102 [00:47<00:00,  2.17it/s]\n"
     ]
    },
    {
     "name": "stdout",
     "output_type": "stream",
     "text": [
      "Epoch:[112/200]\n",
      "Train Loss:0.5097395914913221 | Acc:0.8160354156419085 | F1:0.8009123251022628\n"
     ]
    },
    {
     "name": "stderr",
     "output_type": "stream",
     "text": [
      "100%|███████████████████████████████████████████| 26/26 [00:05<00:00,  5.13it/s]\n"
     ]
    },
    {
     "name": "stdout",
     "output_type": "stream",
     "text": [
      "val Loss:0.874368200259926 | Acc:0.6932153392330384 | F1:0.6712522300407733\n"
     ]
    },
    {
     "name": "stderr",
     "output_type": "stream",
     "text": [
      "100%|█████████████████████████████████████████| 102/102 [00:46<00:00,  2.18it/s]\n"
     ]
    },
    {
     "name": "stdout",
     "output_type": "stream",
     "text": [
      "Epoch:[113/200]\n",
      "Train Loss:0.5123712880178678 | Acc:0.8197245450073782 | F1:0.8052174373160376\n"
     ]
    },
    {
     "name": "stderr",
     "output_type": "stream",
     "text": [
      "100%|███████████████████████████████████████████| 26/26 [00:05<00:00,  5.09it/s]\n"
     ]
    },
    {
     "name": "stdout",
     "output_type": "stream",
     "text": [
      "val Loss:0.8708322280862221 | Acc:0.6927236971484759 | F1:0.6722778060985007\n"
     ]
    },
    {
     "name": "stderr",
     "output_type": "stream",
     "text": [
      "100%|█████████████████████████████████████████| 102/102 [00:47<00:00,  2.17it/s]\n"
     ]
    },
    {
     "name": "stdout",
     "output_type": "stream",
     "text": [
      "Epoch:[114/200]\n",
      "Train Loss:0.511750825786614 | Acc:0.8208312838170192 | F1:0.8048840071506517\n"
     ]
    },
    {
     "name": "stderr",
     "output_type": "stream",
     "text": [
      "100%|███████████████████████████████████████████| 26/26 [00:05<00:00,  5.15it/s]\n"
     ]
    },
    {
     "name": "stdout",
     "output_type": "stream",
     "text": [
      "val Loss:0.8743043075386168 | Acc:0.6912487708947886 | F1:0.6698065093578959\n"
     ]
    },
    {
     "name": "stderr",
     "output_type": "stream",
     "text": [
      "100%|█████████████████████████████████████████| 102/102 [00:47<00:00,  2.16it/s]\n"
     ]
    },
    {
     "name": "stdout",
     "output_type": "stream",
     "text": [
      "Epoch:[115/200]\n",
      "Train Loss:0.49469581989601685 | Acc:0.8263649778652238 | F1:0.8106035547073303\n"
     ]
    },
    {
     "name": "stderr",
     "output_type": "stream",
     "text": [
      "100%|███████████████████████████████████████████| 26/26 [00:05<00:00,  4.97it/s]\n"
     ]
    },
    {
     "name": "stdout",
     "output_type": "stream",
     "text": [
      "val Loss:0.8772576522217622 | Acc:0.6932153392330384 | F1:0.672104887150861\n"
     ]
    },
    {
     "name": "stderr",
     "output_type": "stream",
     "text": [
      "100%|█████████████████████████████████████████| 102/102 [00:46<00:00,  2.17it/s]\n"
     ]
    },
    {
     "name": "stdout",
     "output_type": "stream",
     "text": [
      "Epoch:[116/200]\n",
      "Train Loss:0.49645333124743385 | Acc:0.8266109198229218 | F1:0.8108216292727556\n"
     ]
    },
    {
     "name": "stderr",
     "output_type": "stream",
     "text": [
      "100%|███████████████████████████████████████████| 26/26 [00:05<00:00,  5.10it/s]\n"
     ]
    },
    {
     "name": "stdout",
     "output_type": "stream",
     "text": [
      "val Loss:0.8742725914792912 | Acc:0.6946902654867256 | F1:0.67217126007178\n"
     ]
    },
    {
     "name": "stderr",
     "output_type": "stream",
     "text": [
      "100%|█████████████████████████████████████████| 102/102 [00:46<00:00,  2.17it/s]\n"
     ]
    },
    {
     "name": "stdout",
     "output_type": "stream",
     "text": [
      "Epoch:[117/200]\n",
      "Train Loss:0.49182271183387316 | Acc:0.8262420068863748 | F1:0.8109442048183422\n"
     ]
    },
    {
     "name": "stderr",
     "output_type": "stream",
     "text": [
      "100%|███████████████████████████████████████████| 26/26 [00:05<00:00,  5.03it/s]\n"
     ]
    },
    {
     "name": "stdout",
     "output_type": "stream",
     "text": [
      "val Loss:0.8784812420401484 | Acc:0.6991150442477876 | F1:0.6778013107775738\n"
     ]
    },
    {
     "name": "stderr",
     "output_type": "stream",
     "text": [
      "100%|█████████████████████████████████████████| 102/102 [00:47<00:00,  2.17it/s]\n"
     ]
    },
    {
     "name": "stdout",
     "output_type": "stream",
     "text": [
      "Epoch:[118/200]\n",
      "Train Loss:0.48591420941322355 | Acc:0.8256271519921299 | F1:0.811528684068077\n"
     ]
    },
    {
     "name": "stderr",
     "output_type": "stream",
     "text": [
      "100%|███████████████████████████████████████████| 26/26 [00:05<00:00,  5.08it/s]\n"
     ]
    },
    {
     "name": "stdout",
     "output_type": "stream",
     "text": [
      "val Loss:0.8804278575623867 | Acc:0.6932153392330384 | F1:0.6719129257852801\n"
     ]
    },
    {
     "name": "stderr",
     "output_type": "stream",
     "text": [
      "100%|█████████████████████████████████████████| 102/102 [00:47<00:00,  2.16it/s]\n"
     ]
    },
    {
     "name": "stdout",
     "output_type": "stream",
     "text": [
      "Epoch:[119/200]\n",
      "Train Loss:0.48121243378122747 | Acc:0.8282095425479586 | F1:0.8122297731873508\n"
     ]
    },
    {
     "name": "stderr",
     "output_type": "stream",
     "text": [
      "100%|███████████████████████████████████████████| 26/26 [00:05<00:00,  5.13it/s]\n"
     ]
    },
    {
     "name": "stdout",
     "output_type": "stream",
     "text": [
      "val Loss:0.8692808652932196 | Acc:0.6981317600786627 | F1:0.6777402276651756\n"
     ]
    },
    {
     "name": "stderr",
     "output_type": "stream",
     "text": [
      "100%|█████████████████████████████████████████| 102/102 [00:47<00:00,  2.17it/s]\n"
     ]
    },
    {
     "name": "stdout",
     "output_type": "stream",
     "text": [
      "Epoch:[120/200]\n",
      "Train Loss:0.48279975144310766 | Acc:0.8289473684210527 | F1:0.8136360610554908\n"
     ]
    },
    {
     "name": "stderr",
     "output_type": "stream",
     "text": [
      "100%|███████████████████████████████████████████| 26/26 [00:05<00:00,  5.08it/s]"
     ]
    },
    {
     "name": "stdout",
     "output_type": "stream",
     "text": [
      "val Loss:0.8727548340135853 | Acc:0.7000983284169124 | F1:0.678276147860627\n",
      "Best Val Epoch:110, Val Loss : 0.8689930209250811, Val Acc:0.696165191740413, Best Val F1:0.6736024239694035\n",
      "Total Process time:104.788Minute\n",
      "Shutting down background jobs, please wait a moment...\n"
     ]
    },
    {
     "name": "stderr",
     "output_type": "stream",
     "text": [
      "\n"
     ]
    },
    {
     "name": "stdout",
     "output_type": "stream",
     "text": [
      "Done!\n",
      "Waiting for the remaining 45 operations to synchronize with Neptune. Do not kill this process.\n",
      "All 45 operations synced, thanks for waiting!\n",
      "Explore the metadata in the Neptune app:\n",
      "https://app.neptune.ai/twogudak/Petfrineds/e/PET-45\n",
      "https://app.neptune.ai/twogudak/Petfrineds/e/PET-46\n",
      "Remember to stop your run once you’ve finished logging your metadata (https://docs.neptune.ai/api-reference/run#.stop). It will be stopped automatically only when the notebook kernel/interactive console is terminated.\n",
      "데이터셋 생성 완료,,\n",
      " 데이터셋 사이즈 : 17968\n",
      "데이터셋 생성 완료,,\n",
      " 데이터셋 사이즈 : 4492\n",
      "Loaded pretrained weights for efficientnet-b0\n",
      "Macs : 25.64 MMac\n",
      "params : ['4.02 M']\n"
     ]
    },
    {
     "name": "stderr",
     "output_type": "stream",
     "text": [
      "100%|█████████████████████████████████████████| 225/225 [01:48<00:00,  2.08it/s]\n"
     ]
    },
    {
     "name": "stdout",
     "output_type": "stream",
     "text": [
      "Epoch:[1/200]\n",
      "Train Loss:1.9688302169181573 | Acc:0.12739314336598398 | F1:0.12254941969806186\n"
     ]
    },
    {
     "name": "stderr",
     "output_type": "stream",
     "text": [
      "100%|███████████████████████████████████████████| 57/57 [00:10<00:00,  5.35it/s]\n"
     ]
    },
    {
     "name": "stdout",
     "output_type": "stream",
     "text": [
      "val Loss:1.9659083098677366 | Acc:0.13601959038290293 | F1:0.1342573010501468\n",
      "SAVE: 1epoch\n"
     ]
    },
    {
     "name": "stderr",
     "output_type": "stream",
     "text": [
      "100%|█████████████████████████████████████████| 225/225 [01:40<00:00,  2.23it/s]\n"
     ]
    },
    {
     "name": "stdout",
     "output_type": "stream",
     "text": [
      "Epoch:[2/200]\n",
      "Train Loss:1.9643292158497092 | Acc:0.13396037399821906 | F1:0.1301422108736448\n"
     ]
    },
    {
     "name": "stderr",
     "output_type": "stream",
     "text": [
      "100%|███████████████████████████████████████████| 57/57 [00:10<00:00,  5.50it/s]\n"
     ]
    },
    {
     "name": "stdout",
     "output_type": "stream",
     "text": [
      "val Loss:1.9558995910128205 | Acc:0.14536954585930542 | F1:0.13700475075996435\n",
      "SAVE: 2epoch\n"
     ]
    },
    {
     "name": "stderr",
     "output_type": "stream",
     "text": [
      "100%|█████████████████████████████████████████| 225/225 [01:41<00:00,  2.23it/s]\n"
     ]
    },
    {
     "name": "stdout",
     "output_type": "stream",
     "text": [
      "Epoch:[3/200]\n",
      "Train Loss:1.9529633617570967 | Acc:0.1429207479964381 | F1:0.14102009169970678\n"
     ]
    },
    {
     "name": "stderr",
     "output_type": "stream",
     "text": [
      "100%|███████████████████████████████████████████| 57/57 [00:10<00:00,  5.48it/s]\n"
     ]
    },
    {
     "name": "stdout",
     "output_type": "stream",
     "text": [
      "val Loss:1.9414385901108875 | Acc:0.1651825467497774 | F1:0.15780989959048378\n",
      "SAVE: 3epoch\n"
     ]
    },
    {
     "name": "stderr",
     "output_type": "stream",
     "text": [
      "100%|█████████████████████████████████████████| 225/225 [01:40<00:00,  2.23it/s]\n"
     ]
    },
    {
     "name": "stdout",
     "output_type": "stream",
     "text": [
      "Epoch:[4/200]\n",
      "Train Loss:1.9150518374260472 | Acc:0.203806767586821 | F1:0.20562552023455574\n"
     ]
    },
    {
     "name": "stderr",
     "output_type": "stream",
     "text": [
      "100%|███████████████████████████████████████████| 57/57 [00:10<00:00,  5.49it/s]\n"
     ]
    },
    {
     "name": "stdout",
     "output_type": "stream",
     "text": [
      "val Loss:1.8737134384663108 | Acc:0.27515583259127335 | F1:0.27439024769784737\n",
      "SAVE: 4epoch\n"
     ]
    },
    {
     "name": "stderr",
     "output_type": "stream",
     "text": [
      "100%|█████████████████████████████████████████| 225/225 [01:40<00:00,  2.23it/s]\n"
     ]
    },
    {
     "name": "stdout",
     "output_type": "stream",
     "text": [
      "Epoch:[5/200]\n",
      "Train Loss:1.85570139727843 | Acc:0.2910173642030276 | F1:0.28621707874172736\n"
     ]
    },
    {
     "name": "stderr",
     "output_type": "stream",
     "text": [
      "100%|███████████████████████████████████████████| 57/57 [00:10<00:00,  5.44it/s]\n"
     ]
    },
    {
     "name": "stdout",
     "output_type": "stream",
     "text": [
      "val Loss:1.8062989651254533 | Acc:0.34082813891362423 | F1:0.3254744957418527\n",
      "SAVE: 5epoch\n"
     ]
    },
    {
     "name": "stderr",
     "output_type": "stream",
     "text": [
      "100%|█████████████████████████████████████████| 225/225 [01:41<00:00,  2.22it/s]\n"
     ]
    },
    {
     "name": "stdout",
     "output_type": "stream",
     "text": [
      "Epoch:[6/200]\n",
      "Train Loss:1.7912465610996697 | Acc:0.34400044523597506 | F1:0.3259606958463698\n"
     ]
    },
    {
     "name": "stderr",
     "output_type": "stream",
     "text": [
      "100%|███████████████████████████████████████████| 57/57 [00:10<00:00,  5.49it/s]\n"
     ]
    },
    {
     "name": "stdout",
     "output_type": "stream",
     "text": [
      "val Loss:1.7364670654969458 | Acc:0.3722172751558326 | F1:0.3483119656863906\n",
      "SAVE: 6epoch\n"
     ]
    },
    {
     "name": "stderr",
     "output_type": "stream",
     "text": [
      "100%|█████████████████████████████████████████| 225/225 [01:40<00:00,  2.23it/s]\n"
     ]
    },
    {
     "name": "stdout",
     "output_type": "stream",
     "text": [
      "Epoch:[7/200]\n",
      "Train Loss:1.7292719931869982 | Acc:0.37260685663401605 | F1:0.3466750868373431\n"
     ]
    },
    {
     "name": "stderr",
     "output_type": "stream",
     "text": [
      "100%|███████████████████████████████████████████| 57/57 [00:10<00:00,  5.50it/s]\n"
     ]
    },
    {
     "name": "stdout",
     "output_type": "stream",
     "text": [
      "val Loss:1.6722806110407558 | Acc:0.39759572573463936 | F1:0.36988748455594184\n",
      "SAVE: 7epoch\n"
     ]
    },
    {
     "name": "stderr",
     "output_type": "stream",
     "text": [
      "100%|█████████████████████████████████████████| 225/225 [01:40<00:00,  2.23it/s]\n"
     ]
    },
    {
     "name": "stdout",
     "output_type": "stream",
     "text": [
      "Epoch:[8/200]\n",
      "Train Loss:1.6724513177880196 | Acc:0.3954252003561888 | F1:0.3664040948632632\n"
     ]
    },
    {
     "name": "stderr",
     "output_type": "stream",
     "text": [
      "100%|███████████████████████████████████████████| 57/57 [00:10<00:00,  5.47it/s]\n"
     ]
    },
    {
     "name": "stdout",
     "output_type": "stream",
     "text": [
      "val Loss:1.615339981586086 | Acc:0.409839715048976 | F1:0.38186911456952183\n",
      "SAVE: 8epoch\n"
     ]
    },
    {
     "name": "stderr",
     "output_type": "stream",
     "text": [
      "100%|█████████████████████████████████████████| 225/225 [01:41<00:00,  2.23it/s]\n"
     ]
    },
    {
     "name": "stdout",
     "output_type": "stream",
     "text": [
      "Epoch:[9/200]\n",
      "Train Loss:1.6235872892429015 | Acc:0.4054986642920748 | F1:0.37700524979846767\n"
     ]
    },
    {
     "name": "stderr",
     "output_type": "stream",
     "text": [
      "100%|███████████████████████████████████████████| 57/57 [00:10<00:00,  5.43it/s]\n"
     ]
    },
    {
     "name": "stdout",
     "output_type": "stream",
     "text": [
      "val Loss:1.5663800940169677 | Acc:0.4238646482635797 | F1:0.3989991414328716\n",
      "SAVE: 9epoch\n"
     ]
    },
    {
     "name": "stderr",
     "output_type": "stream",
     "text": [
      "100%|█████████████████████████████████████████| 225/225 [01:41<00:00,  2.22it/s]\n"
     ]
    },
    {
     "name": "stdout",
     "output_type": "stream",
     "text": [
      "Epoch:[10/200]\n",
      "Train Loss:1.5741404741869796 | Acc:0.421360195903829 | F1:0.3948272118028636\n"
     ]
    },
    {
     "name": "stderr",
     "output_type": "stream",
     "text": [
      "100%|███████████████████████████████████████████| 57/57 [00:10<00:00,  5.48it/s]\n"
     ]
    },
    {
     "name": "stdout",
     "output_type": "stream",
     "text": [
      "val Loss:1.5216460010353625 | Acc:0.4358860195903829 | F1:0.4148827233006721\n",
      "SAVE: 10epoch\n"
     ]
    },
    {
     "name": "stderr",
     "output_type": "stream",
     "text": [
      "100%|█████████████████████████████████████████| 225/225 [01:40<00:00,  2.23it/s]\n"
     ]
    },
    {
     "name": "stdout",
     "output_type": "stream",
     "text": [
      "Epoch:[11/200]\n",
      "Train Loss:1.5286862668668386 | Acc:0.4378895814781834 | F1:0.4144357858463948\n"
     ]
    },
    {
     "name": "stderr",
     "output_type": "stream",
     "text": [
      "100%|███████████████████████████████████████████| 57/57 [00:10<00:00,  5.48it/s]\n"
     ]
    },
    {
     "name": "stdout",
     "output_type": "stream",
     "text": [
      "val Loss:1.483264400082195 | Acc:0.4454585930543188 | F1:0.4273632066470188\n",
      "SAVE: 11epoch\n"
     ]
    },
    {
     "name": "stderr",
     "output_type": "stream",
     "text": [
      "100%|█████████████████████████████████████████| 225/225 [01:40<00:00,  2.23it/s]\n"
     ]
    },
    {
     "name": "stdout",
     "output_type": "stream",
     "text": [
      "Epoch:[12/200]\n",
      "Train Loss:1.4863041947170337 | Acc:0.45119100623330366 | F1:0.4295721996594836\n"
     ]
    },
    {
     "name": "stderr",
     "output_type": "stream",
     "text": [
      "100%|███████████████████████████████████████████| 57/57 [00:10<00:00,  5.49it/s]\n"
     ]
    },
    {
     "name": "stdout",
     "output_type": "stream",
     "text": [
      "val Loss:1.4462814730188194 | Acc:0.45926090828138916 | F1:0.4454263708772634\n",
      "SAVE: 12epoch\n"
     ]
    },
    {
     "name": "stderr",
     "output_type": "stream",
     "text": [
      "100%|█████████████████████████████████████████| 225/225 [01:40<00:00,  2.23it/s]\n"
     ]
    },
    {
     "name": "stdout",
     "output_type": "stream",
     "text": [
      "Epoch:[13/200]\n",
      "Train Loss:1.4464238836419232 | Acc:0.46666295636687444 | F1:0.4471942526052782\n"
     ]
    },
    {
     "name": "stderr",
     "output_type": "stream",
     "text": [
      "100%|███████████████████████████████████████████| 57/57 [00:10<00:00,  5.45it/s]\n"
     ]
    },
    {
     "name": "stdout",
     "output_type": "stream",
     "text": [
      "val Loss:1.4120490451211496 | Acc:0.47395369545859306 | F1:0.4630763834339227\n",
      "SAVE: 13epoch\n"
     ]
    },
    {
     "name": "stderr",
     "output_type": "stream",
     "text": [
      "100%|█████████████████████████████████████████| 225/225 [01:40<00:00,  2.23it/s]\n"
     ]
    },
    {
     "name": "stdout",
     "output_type": "stream",
     "text": [
      "Epoch:[14/200]\n",
      "Train Loss:1.4077041640625612 | Acc:0.4821905609973286 | F1:0.46623164403501677\n"
     ]
    },
    {
     "name": "stderr",
     "output_type": "stream",
     "text": [
      "100%|███████████████████████████████████████████| 57/57 [00:10<00:00,  5.45it/s]\n"
     ]
    },
    {
     "name": "stdout",
     "output_type": "stream",
     "text": [
      "val Loss:1.3820166816057526 | Acc:0.4866429207479964 | F1:0.4779735055710436\n",
      "SAVE: 14epoch\n"
     ]
    },
    {
     "name": "stderr",
     "output_type": "stream",
     "text": [
      "100%|█████████████████████████████████████████| 225/225 [01:40<00:00,  2.23it/s]\n"
     ]
    },
    {
     "name": "stdout",
     "output_type": "stream",
     "text": [
      "Epoch:[15/200]\n",
      "Train Loss:1.373521721798293 | Acc:0.4959372217275156 | F1:0.48292185188727305\n"
     ]
    },
    {
     "name": "stderr",
     "output_type": "stream",
     "text": [
      "100%|███████████████████████████████████████████| 57/57 [00:10<00:00,  5.49it/s]\n"
     ]
    },
    {
     "name": "stdout",
     "output_type": "stream",
     "text": [
      "val Loss:1.349221342287208 | Acc:0.49577025823686555 | F1:0.49050251528032496\n",
      "SAVE: 15epoch\n"
     ]
    },
    {
     "name": "stderr",
     "output_type": "stream",
     "text": [
      "100%|█████████████████████████████████████████| 225/225 [01:40<00:00,  2.23it/s]\n"
     ]
    },
    {
     "name": "stdout",
     "output_type": "stream",
     "text": [
      "Epoch:[16/200]\n",
      "Train Loss:1.3395394222713004 | Acc:0.5074577025823687 | F1:0.49644391921593006\n"
     ]
    },
    {
     "name": "stderr",
     "output_type": "stream",
     "text": [
      "100%|███████████████████████████████████████████| 57/57 [00:10<00:00,  5.44it/s]\n"
     ]
    },
    {
     "name": "stdout",
     "output_type": "stream",
     "text": [
      "val Loss:1.319550864418383 | Acc:0.5064559216384684 | F1:0.5025937028929025\n",
      "SAVE: 16epoch\n"
     ]
    },
    {
     "name": "stderr",
     "output_type": "stream",
     "text": [
      "100%|█████████████████████████████████████████| 225/225 [01:41<00:00,  2.23it/s]\n"
     ]
    },
    {
     "name": "stdout",
     "output_type": "stream",
     "text": [
      "Epoch:[17/200]\n",
      "Train Loss:1.305176163080645 | Acc:0.5198686553873553 | F1:0.5100642590287795\n"
     ]
    },
    {
     "name": "stderr",
     "output_type": "stream",
     "text": [
      "100%|███████████████████████████████████████████| 57/57 [00:10<00:00,  5.51it/s]\n"
     ]
    },
    {
     "name": "stdout",
     "output_type": "stream",
     "text": [
      "val Loss:1.2936017056819273 | Acc:0.5180320569902048 | F1:0.5141228332299688\n",
      "SAVE: 17epoch\n"
     ]
    },
    {
     "name": "stderr",
     "output_type": "stream",
     "text": [
      "100%|█████████████████████████████████████████| 225/225 [01:40<00:00,  2.24it/s]\n"
     ]
    },
    {
     "name": "stdout",
     "output_type": "stream",
     "text": [
      "Epoch:[18/200]\n",
      "Train Loss:1.2758128690804527 | Acc:0.5318343722172751 | F1:0.5250325872581891\n"
     ]
    },
    {
     "name": "stderr",
     "output_type": "stream",
     "text": [
      "100%|███████████████████████████████████████████| 57/57 [00:10<00:00,  5.49it/s]\n"
     ]
    },
    {
     "name": "stdout",
     "output_type": "stream",
     "text": [
      "val Loss:1.2688061942081843 | Acc:0.5289403383793411 | F1:0.5279236924047801\n",
      "SAVE: 18epoch\n"
     ]
    },
    {
     "name": "stderr",
     "output_type": "stream",
     "text": [
      "100%|█████████████████████████████████████████| 225/225 [01:40<00:00,  2.23it/s]\n"
     ]
    },
    {
     "name": "stdout",
     "output_type": "stream",
     "text": [
      "Epoch:[19/200]\n",
      "Train Loss:1.2523463131164931 | Acc:0.5405721282279609 | F1:0.5355406248552053\n"
     ]
    },
    {
     "name": "stderr",
     "output_type": "stream",
     "text": [
      "100%|███████████████████████████████████████████| 57/57 [00:10<00:00,  5.45it/s]\n"
     ]
    },
    {
     "name": "stdout",
     "output_type": "stream",
     "text": [
      "val Loss:1.2458849074791716 | Acc:0.5369545859305432 | F1:0.5369028356849698\n",
      "SAVE: 19epoch\n"
     ]
    },
    {
     "name": "stderr",
     "output_type": "stream",
     "text": [
      "100%|█████████████████████████████████████████| 225/225 [01:40<00:00,  2.23it/s]\n"
     ]
    },
    {
     "name": "stdout",
     "output_type": "stream",
     "text": [
      "Epoch:[20/200]\n",
      "Train Loss:1.2277675231757805 | Acc:0.546527159394479 | F1:0.5440264199758146\n"
     ]
    },
    {
     "name": "stderr",
     "output_type": "stream",
     "text": [
      "100%|███████████████████████████████████████████| 57/57 [00:10<00:00,  5.44it/s]\n"
     ]
    },
    {
     "name": "stdout",
     "output_type": "stream",
     "text": [
      "val Loss:1.2269553788411012 | Acc:0.5438557435440784 | F1:0.5438959768492172\n",
      "SAVE: 20epoch\n"
     ]
    },
    {
     "name": "stderr",
     "output_type": "stream",
     "text": [
      "100%|█████████████████████████████████████████| 225/225 [01:41<00:00,  2.23it/s]\n"
     ]
    },
    {
     "name": "stdout",
     "output_type": "stream",
     "text": [
      "Epoch:[21/200]\n",
      "Train Loss:1.2037332984664455 | Acc:0.5576580587711487 | F1:0.5562517334820369\n"
     ]
    },
    {
     "name": "stderr",
     "output_type": "stream",
     "text": [
      "100%|███████████████████████████████████████████| 57/57 [00:10<00:00,  5.46it/s]\n"
     ]
    },
    {
     "name": "stdout",
     "output_type": "stream",
     "text": [
      "val Loss:1.2060765077360804 | Acc:0.5536509349955476 | F1:0.5556686717546145\n",
      "SAVE: 21epoch\n"
     ]
    },
    {
     "name": "stderr",
     "output_type": "stream",
     "text": [
      "100%|█████████████████████████████████████████| 225/225 [01:41<00:00,  2.22it/s]\n"
     ]
    },
    {
     "name": "stdout",
     "output_type": "stream",
     "text": [
      "Epoch:[22/200]\n",
      "Train Loss:1.1817843839725213 | Acc:0.5642252894033838 | F1:0.5631946969438054\n"
     ]
    },
    {
     "name": "stderr",
     "output_type": "stream",
     "text": [
      "100%|███████████████████████████████████████████| 57/57 [00:10<00:00,  5.47it/s]\n"
     ]
    },
    {
     "name": "stdout",
     "output_type": "stream",
     "text": [
      "val Loss:1.1920868999599243 | Acc:0.5525378450578807 | F1:0.556413620061824\n",
      "SAVE: 22epoch\n"
     ]
    },
    {
     "name": "stderr",
     "output_type": "stream",
     "text": [
      "100%|█████████████████████████████████████████| 225/225 [01:40<00:00,  2.23it/s]\n"
     ]
    },
    {
     "name": "stdout",
     "output_type": "stream",
     "text": [
      "Epoch:[23/200]\n",
      "Train Loss:1.1620292713465907 | Acc:0.5751892252894034 | F1:0.5761930205919803\n"
     ]
    },
    {
     "name": "stderr",
     "output_type": "stream",
     "text": [
      "100%|███████████████████████████████████████████| 57/57 [00:10<00:00,  5.44it/s]\n"
     ]
    },
    {
     "name": "stdout",
     "output_type": "stream",
     "text": [
      "val Loss:1.1740558963212602 | Acc:0.5614425645592164 | F1:0.5682287846043473\n",
      "SAVE: 23epoch\n"
     ]
    },
    {
     "name": "stderr",
     "output_type": "stream",
     "text": [
      "100%|█████████████████████████████████████████| 225/225 [01:41<00:00,  2.23it/s]\n"
     ]
    },
    {
     "name": "stdout",
     "output_type": "stream",
     "text": [
      "Epoch:[24/200]\n",
      "Train Loss:1.1395901109847446 | Acc:0.5847617987533392 | F1:0.5852175320685894\n"
     ]
    },
    {
     "name": "stderr",
     "output_type": "stream",
     "text": [
      "100%|███████████████████████████████████████████| 57/57 [00:10<00:00,  5.47it/s]\n"
     ]
    },
    {
     "name": "stdout",
     "output_type": "stream",
     "text": [
      "val Loss:1.1603011035643194 | Acc:0.5665627782724845 | F1:0.5727299023946907\n",
      "SAVE: 24epoch\n"
     ]
    },
    {
     "name": "stderr",
     "output_type": "stream",
     "text": [
      "100%|█████████████████████████████████████████| 225/225 [01:40<00:00,  2.23it/s]\n"
     ]
    },
    {
     "name": "stdout",
     "output_type": "stream",
     "text": [
      "Epoch:[25/200]\n",
      "Train Loss:1.1269485486583422 | Acc:0.5850957257346393 | F1:0.5866119063146796\n"
     ]
    },
    {
     "name": "stderr",
     "output_type": "stream",
     "text": [
      "100%|███████████████████████████████████████████| 57/57 [00:10<00:00,  5.43it/s]\n"
     ]
    },
    {
     "name": "stdout",
     "output_type": "stream",
     "text": [
      "val Loss:1.1491850294497856 | Acc:0.5721282279608192 | F1:0.5805277746086688\n",
      "SAVE: 25epoch\n"
     ]
    },
    {
     "name": "stderr",
     "output_type": "stream",
     "text": [
      "100%|█████████████████████████████████████████| 225/225 [01:41<00:00,  2.23it/s]\n"
     ]
    },
    {
     "name": "stdout",
     "output_type": "stream",
     "text": [
      "Epoch:[26/200]\n",
      "Train Loss:1.1052013939231609 | Acc:0.5921081923419412 | F1:0.5948774170471812\n"
     ]
    },
    {
     "name": "stderr",
     "output_type": "stream",
     "text": [
      "100%|███████████████████████████████████████████| 57/57 [00:10<00:00,  5.48it/s]\n"
     ]
    },
    {
     "name": "stdout",
     "output_type": "stream",
     "text": [
      "val Loss:1.1379007786273532 | Acc:0.5743544078361532 | F1:0.582753939386531\n",
      "SAVE: 26epoch\n"
     ]
    },
    {
     "name": "stderr",
     "output_type": "stream",
     "text": [
      "100%|█████████████████████████████████████████| 225/225 [01:40<00:00,  2.23it/s]\n"
     ]
    },
    {
     "name": "stdout",
     "output_type": "stream",
     "text": [
      "Epoch:[27/200]\n",
      "Train Loss:1.0900662039818767 | Acc:0.5988423864648263 | F1:0.6027662687777574\n"
     ]
    },
    {
     "name": "stderr",
     "output_type": "stream",
     "text": [
      "100%|███████████████████████████████████████████| 57/57 [00:10<00:00,  5.50it/s]\n"
     ]
    },
    {
     "name": "stdout",
     "output_type": "stream",
     "text": [
      "val Loss:1.1249564471036753 | Acc:0.5796972395369546 | F1:0.5894238096865628\n",
      "SAVE: 27epoch\n"
     ]
    },
    {
     "name": "stderr",
     "output_type": "stream",
     "text": [
      "100%|█████████████████████████████████████████| 225/225 [01:40<00:00,  2.23it/s]\n"
     ]
    },
    {
     "name": "stdout",
     "output_type": "stream",
     "text": [
      "Epoch:[28/200]\n",
      "Train Loss:1.0794746940515982 | Acc:0.6026825467497774 | F1:0.6068927185804374\n"
     ]
    },
    {
     "name": "stderr",
     "output_type": "stream",
     "text": [
      "100%|███████████████████████████████████████████| 57/57 [00:10<00:00,  5.47it/s]\n"
     ]
    },
    {
     "name": "stdout",
     "output_type": "stream",
     "text": [
      "val Loss:1.1122995434811576 | Acc:0.5830365093499554 | F1:0.5914534787662479\n",
      "SAVE: 28epoch\n"
     ]
    },
    {
     "name": "stderr",
     "output_type": "stream",
     "text": [
      "100%|█████████████████████████████████████████| 225/225 [01:40<00:00,  2.23it/s]\n"
     ]
    },
    {
     "name": "stdout",
     "output_type": "stream",
     "text": [
      "Epoch:[29/200]\n",
      "Train Loss:1.0631440425173895 | Acc:0.6079140694568121 | F1:0.614373402102794\n"
     ]
    },
    {
     "name": "stderr",
     "output_type": "stream",
     "text": [
      "100%|███████████████████████████████████████████| 57/57 [00:10<00:00,  5.45it/s]\n"
     ]
    },
    {
     "name": "stdout",
     "output_type": "stream",
     "text": [
      "val Loss:1.1055165469540302 | Acc:0.5865983971504898 | F1:0.5962463011906526\n",
      "SAVE: 29epoch\n"
     ]
    },
    {
     "name": "stderr",
     "output_type": "stream",
     "text": [
      "100%|█████████████████████████████████████████| 225/225 [01:40<00:00,  2.23it/s]\n"
     ]
    },
    {
     "name": "stdout",
     "output_type": "stream",
     "text": [
      "Epoch:[30/200]\n",
      "Train Loss:1.0510204769306064 | Acc:0.6125890471950134 | F1:0.6182723117355723\n"
     ]
    },
    {
     "name": "stderr",
     "output_type": "stream",
     "text": [
      "100%|███████████████████████████████████████████| 57/57 [00:10<00:00,  5.45it/s]\n"
     ]
    },
    {
     "name": "stdout",
     "output_type": "stream",
     "text": [
      "val Loss:1.0969468288037358 | Acc:0.588379341050757 | F1:0.5974332525507736\n",
      "SAVE: 30epoch\n"
     ]
    },
    {
     "name": "stderr",
     "output_type": "stream",
     "text": [
      "100%|█████████████████████████████████████████| 225/225 [01:40<00:00,  2.23it/s]\n"
     ]
    },
    {
     "name": "stdout",
     "output_type": "stream",
     "text": [
      "Epoch:[31/200]\n",
      "Train Loss:1.0363384518152035 | Acc:0.6179875333926982 | F1:0.6243873716218223\n"
     ]
    },
    {
     "name": "stderr",
     "output_type": "stream",
     "text": [
      "100%|███████████████████████████████████████████| 57/57 [00:10<00:00,  5.52it/s]\n"
     ]
    },
    {
     "name": "stdout",
     "output_type": "stream",
     "text": [
      "val Loss:1.086644622569411 | Acc:0.5959483526268923 | F1:0.6053025063617054\n",
      "SAVE: 31epoch\n"
     ]
    },
    {
     "name": "stderr",
     "output_type": "stream",
     "text": [
      "100%|█████████████████████████████████████████| 225/225 [01:40<00:00,  2.23it/s]\n"
     ]
    },
    {
     "name": "stdout",
     "output_type": "stream",
     "text": [
      "Epoch:[32/200]\n",
      "Train Loss:1.0267776465798104 | Acc:0.6217163846838825 | F1:0.6285814594626534\n"
     ]
    },
    {
     "name": "stderr",
     "output_type": "stream",
     "text": [
      "100%|███████████████████████████████████████████| 57/57 [00:10<00:00,  5.49it/s]\n"
     ]
    },
    {
     "name": "stdout",
     "output_type": "stream",
     "text": [
      "val Loss:1.0813407451047075 | Acc:0.5970614425645592 | F1:0.6082082200204262\n",
      "SAVE: 32epoch\n"
     ]
    },
    {
     "name": "stderr",
     "output_type": "stream",
     "text": [
      "100%|█████████████████████████████████████████| 225/225 [01:40<00:00,  2.23it/s]\n"
     ]
    },
    {
     "name": "stdout",
     "output_type": "stream",
     "text": [
      "Epoch:[33/200]\n",
      "Train Loss:1.0126886324275315 | Acc:0.6291740872662511 | F1:0.6392127488501054\n"
     ]
    },
    {
     "name": "stderr",
     "output_type": "stream",
     "text": [
      "100%|███████████████████████████████████████████| 57/57 [00:10<00:00,  5.42it/s]\n"
     ]
    },
    {
     "name": "stdout",
     "output_type": "stream",
     "text": [
      "val Loss:1.0707348999389026 | Acc:0.6004007123775601 | F1:0.612911262489255\n",
      "SAVE: 33epoch\n"
     ]
    },
    {
     "name": "stderr",
     "output_type": "stream",
     "text": [
      "100%|█████████████████████████████████████████| 225/225 [01:40<00:00,  2.23it/s]\n"
     ]
    },
    {
     "name": "stdout",
     "output_type": "stream",
     "text": [
      "Epoch:[34/200]\n",
      "Train Loss:0.9979542723640414 | Acc:0.6328472840605521 | F1:0.6414150753418971\n"
     ]
    },
    {
     "name": "stderr",
     "output_type": "stream",
     "text": [
      "100%|███████████████████████████████████████████| 57/57 [00:10<00:00,  5.45it/s]\n"
     ]
    },
    {
     "name": "stdout",
     "output_type": "stream",
     "text": [
      "val Loss:1.061659440570714 | Acc:0.6032947462154942 | F1:0.6154866524728951\n",
      "SAVE: 34epoch\n"
     ]
    },
    {
     "name": "stderr",
     "output_type": "stream",
     "text": [
      "100%|█████████████████████████████████████████| 225/225 [01:40<00:00,  2.23it/s]\n"
     ]
    },
    {
     "name": "stdout",
     "output_type": "stream",
     "text": [
      "Epoch:[35/200]\n",
      "Train Loss:0.9904702731465401 | Acc:0.6370213713268033 | F1:0.6452926755071682\n"
     ]
    },
    {
     "name": "stderr",
     "output_type": "stream",
     "text": [
      "100%|███████████████████████████████████████████| 57/57 [00:10<00:00,  5.45it/s]\n"
     ]
    },
    {
     "name": "stdout",
     "output_type": "stream",
     "text": [
      "val Loss:1.056124178219988 | Acc:0.6061887800534284 | F1:0.6179658343394651\n",
      "SAVE: 35epoch\n"
     ]
    },
    {
     "name": "stderr",
     "output_type": "stream",
     "text": [
      "100%|█████████████████████████████████████████| 225/225 [01:41<00:00,  2.22it/s]\n"
     ]
    },
    {
     "name": "stdout",
     "output_type": "stream",
     "text": [
      "Epoch:[36/200]\n",
      "Train Loss:0.9799270875625916 | Acc:0.6406945681211041 | F1:0.6510158273769999\n"
     ]
    },
    {
     "name": "stderr",
     "output_type": "stream",
     "text": [
      "100%|███████████████████████████████████████████| 57/57 [00:10<00:00,  5.44it/s]\n"
     ]
    },
    {
     "name": "stdout",
     "output_type": "stream",
     "text": [
      "val Loss:1.0453186095663192 | Acc:0.6104185218165628 | F1:0.622744710505542\n",
      "SAVE: 36epoch\n"
     ]
    },
    {
     "name": "stderr",
     "output_type": "stream",
     "text": [
      "100%|█████████████████████████████████████████| 225/225 [01:41<00:00,  2.22it/s]\n"
     ]
    },
    {
     "name": "stdout",
     "output_type": "stream",
     "text": [
      "Epoch:[37/200]\n",
      "Train Loss:0.9678336175976326 | Acc:0.6493210151380232 | F1:0.6580012576757596\n"
     ]
    },
    {
     "name": "stderr",
     "output_type": "stream",
     "text": [
      "100%|███████████████████████████████████████████| 57/57 [00:10<00:00,  5.38it/s]\n"
     ]
    },
    {
     "name": "stdout",
     "output_type": "stream",
     "text": [
      "val Loss:1.041596177185845 | Acc:0.6121994657168299 | F1:0.6251512068553484\n",
      "SAVE: 37epoch\n"
     ]
    },
    {
     "name": "stderr",
     "output_type": "stream",
     "text": [
      "100%|█████████████████████████████████████████| 225/225 [01:41<00:00,  2.22it/s]\n"
     ]
    },
    {
     "name": "stdout",
     "output_type": "stream",
     "text": [
      "Epoch:[38/200]\n",
      "Train Loss:0.9557444918718279 | Acc:0.6504341050756901 | F1:0.6603408906540681\n"
     ]
    },
    {
     "name": "stderr",
     "output_type": "stream",
     "text": [
      "100%|███████████████████████████████████████████| 57/57 [00:11<00:00,  5.12it/s]\n"
     ]
    },
    {
     "name": "stdout",
     "output_type": "stream",
     "text": [
      "val Loss:1.034028379145416 | Acc:0.6144256455921638 | F1:0.6290700342523576\n",
      "SAVE: 38epoch\n"
     ]
    },
    {
     "name": "stderr",
     "output_type": "stream",
     "text": [
      "100%|█████████████████████████████████████████| 225/225 [01:41<00:00,  2.21it/s]\n"
     ]
    },
    {
     "name": "stdout",
     "output_type": "stream",
     "text": [
      "Epoch:[39/200]\n",
      "Train Loss:0.944886200256042 | Acc:0.6596727515583259 | F1:0.6699411009537274\n"
     ]
    },
    {
     "name": "stderr",
     "output_type": "stream",
     "text": [
      "100%|███████████████████████████████████████████| 57/57 [00:10<00:00,  5.41it/s]\n"
     ]
    },
    {
     "name": "stdout",
     "output_type": "stream",
     "text": [
      "val Loss:1.026969140699052 | Acc:0.6175422974176313 | F1:0.6308736642914555\n",
      "SAVE: 39epoch\n"
     ]
    },
    {
     "name": "stderr",
     "output_type": "stream",
     "text": [
      "100%|█████████████████████████████████████████| 225/225 [01:43<00:00,  2.18it/s]\n"
     ]
    },
    {
     "name": "stdout",
     "output_type": "stream",
     "text": [
      "Epoch:[40/200]\n",
      "Train Loss:0.9393021437278944 | Acc:0.6561108637577916 | F1:0.6671069850926513\n"
     ]
    },
    {
     "name": "stderr",
     "output_type": "stream",
     "text": [
      "100%|███████████████████████████████████████████| 57/57 [00:11<00:00,  5.01it/s]\n"
     ]
    },
    {
     "name": "stdout",
     "output_type": "stream",
     "text": [
      "val Loss:1.0241501667832862 | Acc:0.6193232413178985 | F1:0.634579941001831\n",
      "SAVE: 40epoch\n"
     ]
    },
    {
     "name": "stderr",
     "output_type": "stream",
     "text": [
      "100%|█████████████████████████████████████████| 225/225 [01:47<00:00,  2.09it/s]\n"
     ]
    },
    {
     "name": "stdout",
     "output_type": "stream",
     "text": [
      "Epoch:[41/200]\n",
      "Train Loss:0.9235872413468806 | Acc:0.6627337488869101 | F1:0.673177894084601\n"
     ]
    },
    {
     "name": "stderr",
     "output_type": "stream",
     "text": [
      "100%|███████████████████████████████████████████| 57/57 [00:12<00:00,  4.74it/s]\n"
     ]
    },
    {
     "name": "stdout",
     "output_type": "stream",
     "text": [
      "val Loss:1.0168053733113613 | Acc:0.6268922528940338 | F1:0.6406608669125516\n",
      "SAVE: 41epoch\n"
     ]
    },
    {
     "name": "stderr",
     "output_type": "stream",
     "text": [
      "100%|█████████████████████████████████████████| 225/225 [01:46<00:00,  2.11it/s]\n"
     ]
    },
    {
     "name": "stdout",
     "output_type": "stream",
     "text": [
      "Epoch:[42/200]\n",
      "Train Loss:0.9145399299139225 | Acc:0.6694679430097952 | F1:0.6818452259889419\n"
     ]
    },
    {
     "name": "stderr",
     "output_type": "stream",
     "text": [
      "100%|███████████████████████████████████████████| 57/57 [00:12<00:00,  4.71it/s]\n"
     ]
    },
    {
     "name": "stdout",
     "output_type": "stream",
     "text": [
      "val Loss:1.0080815263072613 | Acc:0.6284505788067676 | F1:0.6418498023530825\n",
      "SAVE: 42epoch\n"
     ]
    },
    {
     "name": "stderr",
     "output_type": "stream",
     "text": [
      "100%|█████████████████████████████████████████| 225/225 [01:49<00:00,  2.06it/s]\n"
     ]
    },
    {
     "name": "stdout",
     "output_type": "stream",
     "text": [
      "Epoch:[43/200]\n",
      "Train Loss:0.8997137900027227 | Acc:0.6714158504007124 | F1:0.6834385970925927\n"
     ]
    },
    {
     "name": "stderr",
     "output_type": "stream",
     "text": [
      "100%|███████████████████████████████████████████| 57/57 [00:11<00:00,  4.93it/s]\n"
     ]
    },
    {
     "name": "stdout",
     "output_type": "stream",
     "text": [
      "val Loss:1.004913696012429 | Acc:0.6295636687444346 | F1:0.6435684991394164\n",
      "SAVE: 43epoch\n"
     ]
    },
    {
     "name": "stderr",
     "output_type": "stream",
     "text": [
      "100%|█████████████████████████████████████████| 225/225 [01:47<00:00,  2.08it/s]\n"
     ]
    },
    {
     "name": "stdout",
     "output_type": "stream",
     "text": [
      "Epoch:[44/200]\n",
      "Train Loss:0.8925337635398655 | Acc:0.6780387355298308 | F1:0.6898043676870872\n"
     ]
    },
    {
     "name": "stderr",
     "output_type": "stream",
     "text": [
      "100%|███████████████████████████████████████████| 57/57 [00:12<00:00,  4.65it/s]\n"
     ]
    },
    {
     "name": "stdout",
     "output_type": "stream",
     "text": [
      "val Loss:1.000354242452212 | Acc:0.6315672306322351 | F1:0.6466104265467327\n",
      "SAVE: 44epoch\n"
     ]
    },
    {
     "name": "stderr",
     "output_type": "stream",
     "text": [
      "100%|█████████████████████████████████████████| 225/225 [01:46<00:00,  2.11it/s]\n"
     ]
    },
    {
     "name": "stdout",
     "output_type": "stream",
     "text": [
      "Epoch:[45/200]\n",
      "Train Loss:0.8815513833335543 | Acc:0.6823241317898486 | F1:0.6954449046442911\n"
     ]
    },
    {
     "name": "stderr",
     "output_type": "stream",
     "text": [
      "100%|███████████████████████████████████████████| 57/57 [00:10<00:00,  5.20it/s]\n"
     ]
    },
    {
     "name": "stdout",
     "output_type": "stream",
     "text": [
      "val Loss:0.9935530193501674 | Acc:0.6331255565449688 | F1:0.6481228524842793\n",
      "SAVE: 45epoch\n"
     ]
    },
    {
     "name": "stderr",
     "output_type": "stream",
     "text": [
      "100%|█████████████████████████████████████████| 225/225 [01:39<00:00,  2.26it/s]\n"
     ]
    },
    {
     "name": "stdout",
     "output_type": "stream",
     "text": [
      "Epoch:[46/200]\n",
      "Train Loss:0.8710678610436532 | Acc:0.6836041852181657 | F1:0.6968409966387333\n"
     ]
    },
    {
     "name": "stderr",
     "output_type": "stream",
     "text": [
      "100%|███████████████████████████████████████████| 57/57 [00:10<00:00,  5.20it/s]\n"
     ]
    },
    {
     "name": "stdout",
     "output_type": "stream",
     "text": [
      "val Loss:0.9895361258266021 | Acc:0.6364648263579697 | F1:0.6518376366821368\n",
      "SAVE: 46epoch\n"
     ]
    },
    {
     "name": "stderr",
     "output_type": "stream",
     "text": [
      "100%|█████████████████████████████████████████| 225/225 [01:39<00:00,  2.27it/s]\n"
     ]
    },
    {
     "name": "stdout",
     "output_type": "stream",
     "text": [
      "Epoch:[47/200]\n",
      "Train Loss:0.8651899765987855 | Acc:0.6837711487088157 | F1:0.6964110943623739\n"
     ]
    },
    {
     "name": "stderr",
     "output_type": "stream",
     "text": [
      "100%|███████████████████████████████████████████| 57/57 [00:11<00:00,  5.15it/s]\n"
     ]
    },
    {
     "name": "stdout",
     "output_type": "stream",
     "text": [
      "val Loss:0.9885475852079723 | Acc:0.6384683882457702 | F1:0.6533875368452634\n",
      "SAVE: 47epoch\n"
     ]
    },
    {
     "name": "stderr",
     "output_type": "stream",
     "text": [
      "100%|█████████████████████████████████████████| 225/225 [01:39<00:00,  2.27it/s]\n"
     ]
    },
    {
     "name": "stdout",
     "output_type": "stream",
     "text": [
      "Epoch:[48/200]\n",
      "Train Loss:0.8583314585452194 | Acc:0.6878895814781835 | F1:0.7005074896825202\n"
     ]
    },
    {
     "name": "stderr",
     "output_type": "stream",
     "text": [
      "100%|███████████████████████████████████████████| 57/57 [00:11<00:00,  5.14it/s]\n"
     ]
    },
    {
     "name": "stdout",
     "output_type": "stream",
     "text": [
      "val Loss:0.9805803482859451 | Acc:0.6395814781834372 | F1:0.6538364880172784\n",
      "SAVE: 48epoch\n"
     ]
    },
    {
     "name": "stderr",
     "output_type": "stream",
     "text": [
      "100%|█████████████████████████████████████████| 225/225 [01:40<00:00,  2.24it/s]\n"
     ]
    },
    {
     "name": "stdout",
     "output_type": "stream",
     "text": [
      "Epoch:[49/200]\n",
      "Train Loss:0.8471285165789291 | Acc:0.6937889581478184 | F1:0.7072883737915727\n"
     ]
    },
    {
     "name": "stderr",
     "output_type": "stream",
     "text": [
      "100%|███████████████████████████████████████████| 57/57 [00:11<00:00,  5.13it/s]\n"
     ]
    },
    {
     "name": "stdout",
     "output_type": "stream",
     "text": [
      "val Loss:0.97890447752877 | Acc:0.6460373998219056 | F1:0.6609308437950266\n",
      "SAVE: 49epoch\n"
     ]
    },
    {
     "name": "stderr",
     "output_type": "stream",
     "text": [
      "100%|█████████████████████████████████████████| 225/225 [01:36<00:00,  2.34it/s]\n"
     ]
    },
    {
     "name": "stdout",
     "output_type": "stream",
     "text": [
      "Epoch:[50/200]\n",
      "Train Loss:0.842819823925769 | Acc:0.6957368655387355 | F1:0.7084887583539718\n"
     ]
    },
    {
     "name": "stderr",
     "output_type": "stream",
     "text": [
      "100%|███████████████████████████████████████████| 57/57 [00:09<00:00,  5.82it/s]\n"
     ]
    },
    {
     "name": "stdout",
     "output_type": "stream",
     "text": [
      "val Loss:0.9705671466097487 | Acc:0.6447016918967052 | F1:0.6624706579856584\n",
      "SAVE: 50epoch\n"
     ]
    },
    {
     "name": "stderr",
     "output_type": "stream",
     "text": [
      "100%|█████████████████████████████████████████| 225/225 [01:32<00:00,  2.44it/s]\n"
     ]
    },
    {
     "name": "stdout",
     "output_type": "stream",
     "text": [
      "Epoch:[51/200]\n",
      "Train Loss:0.8356365916565498 | Acc:0.6968499554764025 | F1:0.7103018071454913\n"
     ]
    },
    {
     "name": "stderr",
     "output_type": "stream",
     "text": [
      "100%|███████████████████████████████████████████| 57/57 [00:09<00:00,  5.81it/s]\n"
     ]
    },
    {
     "name": "stdout",
     "output_type": "stream",
     "text": [
      "val Loss:0.9682282552269029 | Acc:0.6471504897595726 | F1:0.6638531738630642\n",
      "SAVE: 51epoch\n"
     ]
    },
    {
     "name": "stderr",
     "output_type": "stream",
     "text": [
      "100%|█████████████████████████████████████████| 225/225 [01:32<00:00,  2.44it/s]\n"
     ]
    },
    {
     "name": "stdout",
     "output_type": "stream",
     "text": [
      "Epoch:[52/200]\n",
      "Train Loss:0.8208631083355986 | Acc:0.7040293855743545 | F1:0.7182631982192473\n"
     ]
    },
    {
     "name": "stderr",
     "output_type": "stream",
     "text": [
      "100%|███████████████████████████████████████████| 57/57 [00:09<00:00,  5.85it/s]\n"
     ]
    },
    {
     "name": "stdout",
     "output_type": "stream",
     "text": [
      "val Loss:0.964666786649242 | Acc:0.6487088156723063 | F1:0.6669284080513515\n",
      "SAVE: 52epoch\n"
     ]
    },
    {
     "name": "stderr",
     "output_type": "stream",
     "text": [
      "100%|█████████████████████████████████████████| 225/225 [01:31<00:00,  2.45it/s]\n"
     ]
    },
    {
     "name": "stdout",
     "output_type": "stream",
     "text": [
      "Epoch:[53/200]\n",
      "Train Loss:0.807502772430172 | Acc:0.7092052537845058 | F1:0.7225781517645189\n"
     ]
    },
    {
     "name": "stderr",
     "output_type": "stream",
     "text": [
      "100%|███████████████████████████████████████████| 57/57 [00:09<00:00,  5.82it/s]\n"
     ]
    },
    {
     "name": "stdout",
     "output_type": "stream",
     "text": [
      "val Loss:0.9600219141927449 | Acc:0.6504897595725735 | F1:0.66811149215995\n",
      "SAVE: 53epoch\n"
     ]
    },
    {
     "name": "stderr",
     "output_type": "stream",
     "text": [
      "100%|█████████████████████████████████████████| 225/225 [01:31<00:00,  2.45it/s]\n"
     ]
    },
    {
     "name": "stdout",
     "output_type": "stream",
     "text": [
      "Epoch:[54/200]\n",
      "Train Loss:0.8048410163006396 | Acc:0.7112088156723063 | F1:0.7242559673568685\n"
     ]
    },
    {
     "name": "stderr",
     "output_type": "stream",
     "text": [
      "100%|███████████████████████████████████████████| 57/57 [00:09<00:00,  5.82it/s]\n"
     ]
    },
    {
     "name": "stdout",
     "output_type": "stream",
     "text": [
      "val Loss:0.9542581747656727 | Acc:0.6529385574354408 | F1:0.6710619488692612\n",
      "SAVE: 54epoch\n"
     ]
    },
    {
     "name": "stderr",
     "output_type": "stream",
     "text": [
      "100%|█████████████████████████████████████████| 225/225 [01:32<00:00,  2.44it/s]\n"
     ]
    },
    {
     "name": "stdout",
     "output_type": "stream",
     "text": [
      "Epoch:[55/200]\n",
      "Train Loss:0.7958544640273573 | Acc:0.7133236865538736 | F1:0.7266847953425094\n"
     ]
    },
    {
     "name": "stderr",
     "output_type": "stream",
     "text": [
      "100%|███████████████████████████████████████████| 57/57 [00:09<00:00,  5.83it/s]\n"
     ]
    },
    {
     "name": "stdout",
     "output_type": "stream",
     "text": [
      "val Loss:0.9513193220563585 | Acc:0.6533837934105076 | F1:0.6710515372527673\n",
      "SAVE: 55epoch\n"
     ]
    },
    {
     "name": "stderr",
     "output_type": "stream",
     "text": [
      "100%|█████████████████████████████████████████| 225/225 [01:31<00:00,  2.45it/s]\n"
     ]
    },
    {
     "name": "stdout",
     "output_type": "stream",
     "text": [
      "Epoch:[56/200]\n",
      "Train Loss:0.7890178096527939 | Acc:0.7134349955476402 | F1:0.726573570350551\n"
     ]
    },
    {
     "name": "stderr",
     "output_type": "stream",
     "text": [
      "100%|███████████████████████████████████████████| 57/57 [00:09<00:00,  5.81it/s]\n"
     ]
    },
    {
     "name": "stdout",
     "output_type": "stream",
     "text": [
      "val Loss:0.9499170196342978 | Acc:0.6531611754229741 | F1:0.6718253428520518\n",
      "SAVE: 56epoch\n"
     ]
    },
    {
     "name": "stderr",
     "output_type": "stream",
     "text": [
      "100%|█████████████████████████████████████████| 225/225 [01:32<00:00,  2.43it/s]\n"
     ]
    },
    {
     "name": "stdout",
     "output_type": "stream",
     "text": [
      "Epoch:[57/200]\n",
      "Train Loss:0.7865360485371584 | Acc:0.713379341050757 | F1:0.7266551833186288\n"
     ]
    },
    {
     "name": "stderr",
     "output_type": "stream",
     "text": [
      "100%|███████████████████████████████████████████| 57/57 [00:09<00:00,  5.81it/s]\n"
     ]
    },
    {
     "name": "stdout",
     "output_type": "stream",
     "text": [
      "val Loss:0.9476922232714065 | Acc:0.6547195013357079 | F1:0.674397740476943\n",
      "SAVE: 57epoch\n"
     ]
    },
    {
     "name": "stderr",
     "output_type": "stream",
     "text": [
      "100%|█████████████████████████████████████████| 225/225 [01:31<00:00,  2.45it/s]\n"
     ]
    },
    {
     "name": "stdout",
     "output_type": "stream",
     "text": [
      "Epoch:[58/200]\n",
      "Train Loss:0.7749310776471879 | Acc:0.7205587711487088 | F1:0.7343241961693627\n"
     ]
    },
    {
     "name": "stderr",
     "output_type": "stream",
     "text": [
      "100%|███████████████████████████████████████████| 57/57 [00:09<00:00,  5.85it/s]\n"
     ]
    },
    {
     "name": "stdout",
     "output_type": "stream",
     "text": [
      "val Loss:0.9436895008715581 | Acc:0.6607301869991096 | F1:0.6784234740352548\n",
      "SAVE: 58epoch\n"
     ]
    },
    {
     "name": "stderr",
     "output_type": "stream",
     "text": [
      "100%|█████████████████████████████████████████| 225/225 [01:31<00:00,  2.45it/s]\n"
     ]
    },
    {
     "name": "stdout",
     "output_type": "stream",
     "text": [
      "Epoch:[59/200]\n",
      "Train Loss:0.7661651837326858 | Acc:0.7227849510240427 | F1:0.7364677399997008\n"
     ]
    },
    {
     "name": "stderr",
     "output_type": "stream",
     "text": [
      "100%|███████████████████████████████████████████| 57/57 [00:09<00:00,  5.81it/s]\n"
     ]
    },
    {
     "name": "stdout",
     "output_type": "stream",
     "text": [
      "val Loss:0.9449100564180053 | Acc:0.6576135351736421 | F1:0.6760966133142156\n"
     ]
    },
    {
     "name": "stderr",
     "output_type": "stream",
     "text": [
      "100%|█████████████████████████████████████████| 225/225 [01:32<00:00,  2.44it/s]\n"
     ]
    },
    {
     "name": "stdout",
     "output_type": "stream",
     "text": [
      "Epoch:[60/200]\n",
      "Train Loss:0.7555323611490449 | Acc:0.7232301869991096 | F1:0.7376403481834217\n"
     ]
    },
    {
     "name": "stderr",
     "output_type": "stream",
     "text": [
      "100%|███████████████████████████████████████████| 57/57 [00:10<00:00,  5.68it/s]\n"
     ]
    },
    {
     "name": "stdout",
     "output_type": "stream",
     "text": [
      "val Loss:0.9392418712510239 | Acc:0.6629563668744435 | F1:0.6814278798228948\n",
      "SAVE: 60epoch\n"
     ]
    },
    {
     "name": "stderr",
     "output_type": "stream",
     "text": [
      "100%|█████████████████████████████████████████| 225/225 [01:31<00:00,  2.45it/s]\n"
     ]
    },
    {
     "name": "stdout",
     "output_type": "stream",
     "text": [
      "Epoch:[61/200]\n",
      "Train Loss:0.7501257548667656 | Acc:0.7265138023152271 | F1:0.7413830004578933\n"
     ]
    },
    {
     "name": "stderr",
     "output_type": "stream",
     "text": [
      "100%|███████████████████████████████████████████| 57/57 [00:09<00:00,  5.82it/s]\n"
     ]
    },
    {
     "name": "stdout",
     "output_type": "stream",
     "text": [
      "val Loss:0.9340961602311632 | Acc:0.6651825467497774 | F1:0.6833011058039283\n",
      "SAVE: 61epoch\n"
     ]
    },
    {
     "name": "stderr",
     "output_type": "stream",
     "text": [
      "100%|█████████████████████████████████████████| 225/225 [01:31<00:00,  2.45it/s]\n"
     ]
    },
    {
     "name": "stdout",
     "output_type": "stream",
     "text": [
      "Epoch:[62/200]\n",
      "Train Loss:0.7484499029782025 | Acc:0.7294634906500446 | F1:0.7435979095136452\n"
     ]
    },
    {
     "name": "stderr",
     "output_type": "stream",
     "text": [
      "100%|███████████████████████████████████████████| 57/57 [00:09<00:00,  5.78it/s]\n"
     ]
    },
    {
     "name": "stdout",
     "output_type": "stream",
     "text": [
      "val Loss:0.9336245122331651 | Acc:0.6676313446126447 | F1:0.6856583657560129\n",
      "SAVE: 62epoch\n"
     ]
    },
    {
     "name": "stderr",
     "output_type": "stream",
     "text": [
      "100%|█████████████████████████████████████████| 225/225 [01:31<00:00,  2.45it/s]\n"
     ]
    },
    {
     "name": "stdout",
     "output_type": "stream",
     "text": [
      "Epoch:[63/200]\n",
      "Train Loss:0.739535969543542 | Acc:0.734973285841496 | F1:0.7487441359940961\n"
     ]
    },
    {
     "name": "stderr",
     "output_type": "stream",
     "text": [
      "100%|███████████████████████████████████████████| 57/57 [00:09<00:00,  5.81it/s]\n"
     ]
    },
    {
     "name": "stdout",
     "output_type": "stream",
     "text": [
      "val Loss:0.9340681421735514 | Acc:0.6651825467497774 | F1:0.682721749366168\n"
     ]
    },
    {
     "name": "stderr",
     "output_type": "stream",
     "text": [
      "100%|█████████████████████████████████████████| 225/225 [01:31<00:00,  2.45it/s]\n"
     ]
    },
    {
     "name": "stdout",
     "output_type": "stream",
     "text": [
      "Epoch:[64/200]\n",
      "Train Loss:0.7255308130757679 | Acc:0.7399821905609973 | F1:0.753410682676276\n"
     ]
    },
    {
     "name": "stderr",
     "output_type": "stream",
     "text": [
      "100%|███████████████████████████████████████████| 57/57 [00:09<00:00,  5.80it/s]\n"
     ]
    },
    {
     "name": "stdout",
     "output_type": "stream",
     "text": [
      "val Loss:0.9306493132696126 | Acc:0.6636242208370436 | F1:0.6814205879179532\n",
      "SAVE: 64epoch\n"
     ]
    },
    {
     "name": "stderr",
     "output_type": "stream",
     "text": [
      "100%|█████████████████████████████████████████| 225/225 [01:33<00:00,  2.40it/s]\n"
     ]
    },
    {
     "name": "stdout",
     "output_type": "stream",
     "text": [
      "Epoch:[65/200]\n",
      "Train Loss:0.7243139931164144 | Acc:0.7383682101513802 | F1:0.7526633592134421\n"
     ]
    },
    {
     "name": "stderr",
     "output_type": "stream",
     "text": [
      "100%|███████████████████████████████████████████| 57/57 [00:10<00:00,  5.45it/s]\n"
     ]
    },
    {
     "name": "stdout",
     "output_type": "stream",
     "text": [
      "val Loss:0.9311003850595503 | Acc:0.6676313446126447 | F1:0.687101011616188\n"
     ]
    },
    {
     "name": "stderr",
     "output_type": "stream",
     "text": [
      "100%|█████████████████████████████████████████| 225/225 [01:32<00:00,  2.43it/s]\n"
     ]
    },
    {
     "name": "stdout",
     "output_type": "stream",
     "text": [
      "Epoch:[66/200]\n",
      "Train Loss:0.7159768643648838 | Acc:0.7398152270703473 | F1:0.7537344531923821\n"
     ]
    },
    {
     "name": "stderr",
     "output_type": "stream",
     "text": [
      "100%|███████████████████████████████████████████| 57/57 [00:10<00:00,  5.59it/s]\n"
     ]
    },
    {
     "name": "stdout",
     "output_type": "stream",
     "text": [
      "val Loss:0.9262013123275336 | Acc:0.6694122885129118 | F1:0.6883308584785643\n",
      "SAVE: 66epoch\n"
     ]
    },
    {
     "name": "stderr",
     "output_type": "stream",
     "text": [
      "100%|█████████████████████████████████████████| 225/225 [01:32<00:00,  2.42it/s]\n"
     ]
    },
    {
     "name": "stdout",
     "output_type": "stream",
     "text": [
      "Epoch:[67/200]\n",
      "Train Loss:0.7127476243280664 | Acc:0.7441562778272485 | F1:0.7583717916120563\n"
     ]
    },
    {
     "name": "stderr",
     "output_type": "stream",
     "text": [
      "100%|███████████████████████████████████████████| 57/57 [00:09<00:00,  5.71it/s]\n"
     ]
    },
    {
     "name": "stdout",
     "output_type": "stream",
     "text": [
      "val Loss:0.9243306685587389 | Acc:0.6714158504007124 | F1:0.6903344253319481\n",
      "SAVE: 67epoch\n"
     ]
    },
    {
     "name": "stderr",
     "output_type": "stream",
     "text": [
      "100%|█████████████████████████████████████████| 225/225 [01:32<00:00,  2.44it/s]\n"
     ]
    },
    {
     "name": "stdout",
     "output_type": "stream",
     "text": [
      "Epoch:[68/200]\n",
      "Train Loss:0.7018061519889882 | Acc:0.7448241317898486 | F1:0.7591167402797883\n"
     ]
    },
    {
     "name": "stderr",
     "output_type": "stream",
     "text": [
      "100%|███████████████████████████████████████████| 57/57 [00:09<00:00,  5.80it/s]\n"
     ]
    },
    {
     "name": "stdout",
     "output_type": "stream",
     "text": [
      "val Loss:0.9208112479264675 | Acc:0.6700801424755121 | F1:0.6900803655016399\n",
      "SAVE: 68epoch\n"
     ]
    },
    {
     "name": "stderr",
     "output_type": "stream",
     "text": [
      "100%|█████████████████████████████████████████| 225/225 [01:32<00:00,  2.44it/s]\n"
     ]
    },
    {
     "name": "stdout",
     "output_type": "stream",
     "text": [
      "Epoch:[69/200]\n",
      "Train Loss:0.6991759392160023 | Acc:0.7476625111308994 | F1:0.7614737956017892\n"
     ]
    },
    {
     "name": "stderr",
     "output_type": "stream",
     "text": [
      "100%|███████████████████████████████████████████| 57/57 [00:10<00:00,  5.65it/s]\n"
     ]
    },
    {
     "name": "stdout",
     "output_type": "stream",
     "text": [
      "val Loss:0.9243535011714841 | Acc:0.671193232413179 | F1:0.6901922859053444\n"
     ]
    },
    {
     "name": "stderr",
     "output_type": "stream",
     "text": [
      "100%|█████████████████████████████████████████| 225/225 [01:35<00:00,  2.37it/s]\n"
     ]
    },
    {
     "name": "stdout",
     "output_type": "stream",
     "text": [
      "Epoch:[70/200]\n",
      "Train Loss:0.6862971437157845 | Acc:0.7539514692787177 | F1:0.7668783159498058\n"
     ]
    },
    {
     "name": "stderr",
     "output_type": "stream",
     "text": [
      "100%|███████████████████████████████████████████| 57/57 [00:10<00:00,  5.37it/s]\n"
     ]
    },
    {
     "name": "stdout",
     "output_type": "stream",
     "text": [
      "val Loss:0.9251018366904951 | Acc:0.6709706144256455 | F1:0.6901574972215093\n"
     ]
    },
    {
     "name": "stderr",
     "output_type": "stream",
     "text": [
      " 40%|████████████████▊                         | 90/225 [00:38<00:54,  2.46it/s]"
     ]
    }
   ],
   "source": [
    "args = getConfig()\n",
    "\n",
    "# Random Seed\n",
    "seed = args.seed\n",
    "os.environ['PYTHONHASHSEED'] = str(seed)\n",
    "random.seed(seed)\n",
    "np.random.seed(seed)\n",
    "torch.manual_seed(seed)\n",
    "torch.cuda.manual_seed(seed)\n",
    "torch.cuda.manual_seed_all(seed)\n",
    "torch.backends.cudnn.benchmark = True\n",
    "\n",
    "    \n",
    "args.batch_size = 80\n",
    "args.drop_path_rate = 0.2\n",
    "args.encoder_name = \"efficientnet-b0\"\n",
    "args.img_size=312\n",
    "args.aug_ver=11\n",
    "args.epochs=200\n",
    "args.warm_epoch=3\n",
    "args.file_name=\"region_A.csv\"\n",
    "args.tag=\"15\"\n",
    "\n",
    "\n",
    "\n",
    "Trainer(args, 15)\n",
    "\n",
    "args.batch_size = 80\n",
    "args.drop_path_rate = 0.2\n",
    "args.encoder_name = \"efficientnet-b0\"\n",
    "args.img_size=312\n",
    "args.aug_ver=11\n",
    "args.epochs=200\n",
    "args.warm_epoch=3\n",
    "args.file_name=\"region_B.csv\"\n",
    "args.tag=\"16\"\n",
    "\n",
    "\n",
    "\n",
    "Trainer(args, 16)\n",
    "\n",
    "args.batch_size = 80\n",
    "args.drop_path_rate = 0.2\n",
    "args.encoder_name = \"efficientnet-b0\"\n",
    "args.img_size=312\n",
    "args.aug_ver=11\n",
    "args.epochs=200\n",
    "args.warm_epoch=3\n",
    "args.file_name=\"region_H.csv\"\n",
    "args.tag=\"17\"\n",
    "\n",
    "\n",
    "\n",
    "Trainer(args, 17)\n",
    "\n",
    "args.batch_size = 80\n",
    "args.drop_path_rate = 0.2\n",
    "args.encoder_name = \"efficientnet-b0\"\n",
    "args.img_size=312\n",
    "args.aug_ver=11\n",
    "args.epochs=200\n",
    "args.warm_epoch=3\n",
    "args.file_name=\"region_L.csv\"\n",
    "args.tag=\"18\"\n",
    "\n",
    "\n",
    "\n",
    "Trainer(args, 18)"
   ]
  },
  {
   "cell_type": "code",
   "execution_count": null,
   "id": "d536278f",
   "metadata": {},
   "outputs": [],
   "source": []
  }
 ],
 "metadata": {
  "kernelspec": {
   "display_name": "Python 3 (ipykernel)",
   "language": "python",
   "name": "python3"
  },
  "language_info": {
   "codemirror_mode": {
    "name": "ipython",
    "version": 3
   },
   "file_extension": ".py",
   "mimetype": "text/x-python",
   "name": "python",
   "nbconvert_exporter": "python",
   "pygments_lexer": "ipython3",
   "version": "3.8.13"
  }
 },
 "nbformat": 4,
 "nbformat_minor": 5
}

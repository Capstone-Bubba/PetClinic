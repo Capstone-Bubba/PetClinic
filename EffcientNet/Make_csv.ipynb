{
 "cells": [
  {
   "cell_type": "markdown",
   "id": "e2b8b4c7",
   "metadata": {},
   "source": [
    "# 모듈 등록"
   ]
  },
  {
   "cell_type": "code",
   "execution_count": 22,
   "id": "f1ec2ecd",
   "metadata": {},
   "outputs": [],
   "source": [
    "import os ,time, json\n",
    "\n",
    "from glob import glob\n",
    "import random\n",
    "from PIL import Image\n",
    "import matplotlib.pyplot as plt\n",
    "\n",
    "import numpy as np\n",
    "import pandas as pd, cv2\n",
    "from tqdm import tqdm\n",
    "from easydict import EasyDict\n",
    "from sklearn.preprocessing import LabelEncoder #Label Encoder로 숫자로 변경함\n",
    "\n",
    "import warnings\n",
    "from pandas.core.common import SettingWithCopyWarning\n",
    "warnings.simplefilter(action=\"ignore\", category=SettingWithCopyWarning)\n",
    "warnings.filterwarnings(action='ignore')\n",
    "\n",
    "os.environ['CUDA_LAUNCH_BLOCKING'] = \"1\"\n",
    "os.environ[\"CUDA_VISIBLE_DEVICES\"] = \"0\""
   ]
  },
  {
   "cell_type": "markdown",
   "id": "a130c2ed",
   "metadata": {},
   "source": [
    "# Load Data\n",
    "\n",
    "A1 = 구진 플라크  \n",
    "A2 = 비듬 각질 상피성 잔고리  \n",
    "A3 = 태선화 과다 색소 침착  \n",
    "A4 = 농포 여드름  \n",
    "A5 = 미란 궤양  \n",
    "A6 = 결절 종괴  "
   ]
  },
  {
   "cell_type": "code",
   "execution_count": 23,
   "id": "5cd68a0d",
   "metadata": {},
   "outputs": [],
   "source": [
    "                \n",
    "유증상 = []\n",
    "무증상 = []\n",
    "\n",
    "A1 = []\n",
    "A2 = []\n",
    "A3 = []\n",
    "A4 = []\n",
    "A5 = []\n",
    "A6 = []\n",
    "\n",
    "root = \"/home/twogudack/petclinc/Dataset/cropdata\"\n",
    "\n",
    "\n",
    "def fast_scandir(dirname):\n",
    "    subfolders= [f.path for f in os.scandir(dirname) if f.is_dir()]\n",
    "    for dirname in list(subfolders):\n",
    "        subfolders.extend(fast_scandir(dirname))\n",
    "    return subfolders\n",
    "    \n",
    "\n",
    "for i in fast_scandir(root+\"/유증상\"):\n",
    "    for image in glob(i + \"/*.jpg\"):\n",
    "        유증상.append(image)\n",
    "        \n",
    "for i in fast_scandir(root+\"/무증상\"):\n",
    "    for image in glob(i + \"/*.jpg\"):\n",
    "        무증상.append(image)"
   ]
  },
  {
   "cell_type": "code",
   "execution_count": 24,
   "id": "8f1247a9",
   "metadata": {},
   "outputs": [
    {
     "data": {
      "image/png": "[encoded data removed]",
      "text/plain": [
       "<Figure size 432x288 with 1 Axes>"
      ]
     },
     "metadata": {
      "needs_background": "light"
     },
     "output_type": "display_data"
    }
   ],
   "source": [
    "plt.title(\"symptom non_symptom compare\")\n",
    "plt.bar([\"symptom\",\"non_symptom\"],[len(유증상),len(무증상)], color=['r','g'])\n",
    "plt.show()"
   ]
  },
  {
   "cell_type": "markdown",
   "id": "c44969dd",
   "metadata": {},
   "source": [
    "증상 유증상은 각각 6만장씩 존재함"
   ]
  },
  {
   "cell_type": "markdown",
   "id": "56dd7d74",
   "metadata": {},
   "source": [
    "### 유증상 데이터 분류 시작화"
   ]
  },
  {
   "cell_type": "code",
   "execution_count": 25,
   "id": "5c4eada3",
   "metadata": {},
   "outputs": [],
   "source": [
    "for i in 유증상:\n",
    "    if \"A1\" in i:\n",
    "        A1.append(i)\n",
    "    elif \"A2\" in i:\n",
    "        A2.append(i)\n",
    "    elif \"A3\" in i:\n",
    "        A3.append(i)\n",
    "    elif \"A4\" in i:\n",
    "        A4.append(i)\n",
    "    elif \"A5\" in i:\n",
    "        A5.append(i)\n",
    "    elif \"A6\" in i:\n",
    "        A6.append(i)"
   ]
  },
  {
   "cell_type": "code",
   "execution_count": 26,
   "id": "40aaff6f",
   "metadata": {},
   "outputs": [
    {
     "data": {
      "image/png": "[encoded data removed]",
      "text/plain": [
       "<Figure size 432x288 with 1 Axes>"
      ]
     },
     "metadata": {
      "needs_background": "light"
     },
     "output_type": "display_data"
    }
   ],
   "source": [
    "plt.title(\"DATA COMPARE\")\n",
    "plt.bar([\"A1\",\"A2\",\"A3\",\"A4\",\"A5\",\"A6\"], [len(A1),len(A2),len(A3),len(A4),len(A5),len(A6)], color=['tab:blue','tab:orange','tab:green','tab:red',\"tab:purple\",\"tab:brown\",\"tab:pink\"])\n",
    "plt.show()"
   ]
  },
  {
   "cell_type": "markdown",
   "id": "7b2622c6",
   "metadata": {},
   "source": [
    "유증상 데이터는 병별로 각각 만장씩 존재함 (무증상은 6만장)"
   ]
  },
  {
   "cell_type": "markdown",
   "id": "aab92335",
   "metadata": {},
   "source": [
    "## 부위별로 데이터를 나눔\n",
    "\n",
    "A = 배 다리 연결 부위  \n",
    "B = 배  \n",
    "H = 귀  \n",
    "L = 발  \n",
    "\n",
    "A1_data = [A,B,H,L]  \n",
    "region_A = [A1,A2,A3,A4,A5,A6]"
   ]
  },
  {
   "cell_type": "markdown",
   "id": "b38b0e2f",
   "metadata": {},
   "source": []
  },
  {
   "cell_type": "code",
   "execution_count": 27,
   "id": "989fe044",
   "metadata": {},
   "outputs": [],
   "source": [
    "A1_data = [[],[],[],[]]\n",
    "A2_data = [[],[],[],[]]\n",
    "A3_data = [[],[],[],[]]\n",
    "A4_data = [[],[],[],[]]\n",
    "A5_data = [[],[],[],[]]\n",
    "A6_data = [[],[],[],[]]\n",
    "\n",
    "def seperateRegion(dis,types):\n",
    "    for imgPath in dis:\n",
    "        jsonPath = imgPath.replace('jpg','json')\n",
    "        with open(jsonPath) as f:\n",
    "            jsonData = json.load(f)\n",
    "            region = jsonData['metaData']['region']   \n",
    "            if 'A' == region:\n",
    "                types[0].append(imgPath)\n",
    "            elif 'B' == region:\n",
    "                types[1].append(imgPath)\n",
    "            elif 'H' == region:\n",
    "                types[2].append(imgPath)\n",
    "            elif 'L' == region:\n",
    "                    types[3].append(imgPath)\n",
    "            \n",
    "seperateRegion(A1,A1_data)\n",
    "seperateRegion(A2,A2_data)\n",
    "seperateRegion(A3,A3_data)\n",
    "seperateRegion(A4,A4_data)\n",
    "seperateRegion(A5,A5_data)\n",
    "seperateRegion(A6,A6_data)\n",
    "\n",
    "region_A = [A1_data[0],A2_data[0],A3_data[0],A4_data[0],A5_data[0],A6_data[0]]\n",
    "region_B = [A1_data[1],A2_data[1],A3_data[1],A4_data[1],A5_data[1],A6_data[1]]\n",
    "region_H = [A1_data[2],A2_data[2],A3_data[2],A4_data[2],A5_data[2],A6_data[2]]\n",
    "region_L = [A1_data[3],A2_data[3],A3_data[3],A4_data[3],A5_data[3],A6_data[3]]"
   ]
  },
  {
   "cell_type": "code",
   "execution_count": 30,
   "id": "bd530a27",
   "metadata": {},
   "outputs": [
    {
     "data": {
      "image/png": "[encoded data removed]",
      "text/plain": [
       "<Figure size 432x288 with 1 Axes>"
      ]
     },
     "metadata": {
      "needs_background": "light"
     },
     "output_type": "display_data"
    },
    {
     "data": {
      "image/png": "[encoded data removed]",
      "text/plain": [
       "<Figure size 432x288 with 1 Axes>"
      ]
     },
     "metadata": {
      "needs_background": "light"
     },
     "output_type": "display_data"
    },
    {
     "data": {
      "image/png": "[encoded data removed]",
      "text/plain": [
       "<Figure size 432x288 with 1 Axes>"
      ]
     },
     "metadata": {
      "needs_background": "light"
     },
     "output_type": "display_data"
    },
    {
     "data": {
      "image/png": "[encoded data removed]",
      "text/plain": [
       "<Figure size 432x288 with 1 Axes>"
      ]
     },
     "metadata": {
      "needs_background": "light"
     },
     "output_type": "display_data"
    },
    {
     "data": {
      "image/png": "[encoded data removed]",
      "text/plain": [
       "<Figure size 432x288 with 1 Axes>"
      ]
     },
     "metadata": {
      "needs_background": "light"
     },
     "output_type": "display_data"
    },
    {
     "data": {
      "image/png": "[encoded data removed]",
      "text/plain": [
       "<Figure size 432x288 with 1 Axes>"
      ]
     },
     "metadata": {
      "needs_background": "light"
     },
     "output_type": "display_data"
    }
   ],
   "source": [
    "index = [\"A\",\"B\",\"H\",\"L\"]\n",
    "\n",
    "region_a1 = [len(A1_data[0]),len(A1_data[1]),len(A1_data[2]),len(A1_data[3])]\n",
    "region_a2 = [len(A2_data[0]),len(A2_data[1]),len(A2_data[2]),len(A2_data[3])]\n",
    "region_a3 = [len(A3_data[0]),len(A3_data[1]),len(A3_data[2]),len(A3_data[3])]\n",
    "region_a4 = [len(A4_data[0]),len(A4_data[1]),len(A4_data[2]),len(A4_data[3])]\n",
    "region_a5 = [len(A5_data[0]),len(A5_data[1]),len(A5_data[2]),len(A5_data[3])]\n",
    "region_a6 = [len(A6_data[0]),len(A6_data[1]),len(A6_data[2]),len(A6_data[3])]\n",
    "\n",
    "\n",
    "plt.title(\"A1 Data\", fontsize = 20)\n",
    "plt.bar(index, region_a1, color=['tab:blue','tab:orange','tab:green','tab:red',\"tab:purple\",\"tab:brown\",\"tab:pink\"])\n",
    "for i, v in enumerate(index):\n",
    "    plt.text(v, region_a1[i], region_a1[i], fontsize = 10, color='black',horizontalalignment='center',verticalalignment='bottom')\n",
    "plt.show()\n",
    "\n",
    "plt.title(\"A2 Data\", fontsize = 20)\n",
    "plt.bar(index, region_a2, color=['tab:blue','tab:orange','tab:green','tab:red',\"tab:purple\",\"tab:brown\",\"tab:pink\"])\n",
    "for i, v in enumerate(index):\n",
    "    plt.text(v, region_a2[i], region_a2[i], fontsize = 10, color='black',horizontalalignment='center',verticalalignment='bottom')\n",
    "plt.show()\n",
    "\n",
    "plt.title(\"A3 Data\", fontsize = 20)\n",
    "plt.bar(index, region_a3, color=['tab:blue','tab:orange','tab:green','tab:red',\"tab:purple\",\"tab:brown\",\"tab:pink\"])\n",
    "for i, v in enumerate(index):\n",
    "    plt.text(v, region_a3[i], region_a3[i], fontsize = 10, color='black',horizontalalignment='center',verticalalignment='bottom')\n",
    "plt.show()\n",
    "\n",
    "plt.title(\"A4 Data\", fontsize = 20)\n",
    "plt.bar(index, region_a4, color=['tab:blue','tab:orange','tab:green','tab:red',\"tab:purple\",\"tab:brown\",\"tab:pink\"])\n",
    "for i, v in enumerate(index):\n",
    "    plt.text(v, region_a4[i], region_a4[i], fontsize = 10, color='black',horizontalalignment='center',verticalalignment='bottom')\n",
    "plt.show()\n",
    "\n",
    "plt.title(\"A5 Data\", fontsize = 20)\n",
    "plt.bar(index, region_a5, color=['tab:blue','tab:orange','tab:green','tab:red',\"tab:purple\",\"tab:brown\",\"tab:pink\"])\n",
    "for i, v in enumerate(index):\n",
    "    plt.text(v, region_a5[i], region_a5[i], fontsize = 10, color='black',horizontalalignment='center',verticalalignment='bottom')\n",
    "plt.show()\n",
    "\n",
    "plt.title(\"A6 Data\", fontsize = 20)\n",
    "plt.bar(index, region_a6, color=['tab:blue','tab:orange','tab:green','tab:red',\"tab:purple\",\"tab:brown\",\"tab:pink\"])\n",
    "for i, v in enumerate(index):\n",
    "    plt.text(v, region_a6[i], region_a6[i], fontsize = 10, color='black',horizontalalignment='center',verticalalignment='bottom')\n",
    "plt.show()"
   ]
  },
  {
   "cell_type": "markdown",
   "id": "2fb63ab7",
   "metadata": {},
   "source": [
    "## 데이터 양이 고르지 않음 B > L > H > A\n",
    "\n",
    "가장 부위의 특징이 잘 나타나는 L로 먼저 학습을 진행"
   ]
  },
  {
   "cell_type": "markdown",
   "id": "77ea4d40",
   "metadata": {},
   "source": [
    "# Pandas로 저장"
   ]
  },
  {
   "cell_type": "code",
   "execution_count": 31,
   "id": "bf1c1964",
   "metadata": {},
   "outputs": [],
   "source": [
    "regions = [region_A,region_B,region_H,region_L]\n",
    "\n",
    "\n",
    "    \n",
    "def makedf(regions):\n",
    "    sumdf = []\n",
    "    for i in regions:\n",
    "        df = []\n",
    "        무증상[:2000]\n",
    "        label = np.empty_like(무증상[:2000])\n",
    "        label.fill(0)\n",
    "        df.append(np.stack([무증상[:2000],label],axis = 1))\n",
    "        \n",
    "        \n",
    "        for num,region in enumerate(i):\n",
    "            label = np.empty_like(region)\n",
    "            label.fill(num+1)\n",
    "            a = np.stack([region,label],axis = 1)\n",
    "            df.append(a)\n",
    "        \n",
    "        df = np.array(df)\n",
    "        df = np.vstack(df)\n",
    "        \n",
    "        sumdf.append(pd.DataFrame(df,columns = [\"file_name\",\"label\"]))\n",
    "            \n",
    "        \n",
    "    return sumdf\n",
    "        "
   ]
  },
  {
   "cell_type": "code",
   "execution_count": 32,
   "id": "10613abc",
   "metadata": {},
   "outputs": [],
   "source": [
    "df = makedf(regions)\n",
    "\n",
    "df[0].to_csv('../Dataset/region_A.csv',index=False)\n",
    "df[1].to_csv('../Dataset/region_B.csv',index=False)\n",
    "df[2].to_csv('../Dataset/region_H.csv',index=False)\n",
    "df[3].to_csv('../Dataset/region_L.csv',index=False)"
   ]
  },
  {
   "cell_type": "code",
   "execution_count": null,
   "id": "ed689033",
   "metadata": {},
   "outputs": [],
   "source": []
  }
 ],
 "metadata": {
  "kernelspec": {
   "display_name": "Python 3 (ipykernel)",
   "language": "python",
   "name": "python3"
  },
  "language_info": {
   "codemirror_mode": {
    "name": "ipython",
    "version": 3
   },
   "file_extension": ".py",
   "mimetype": "text/x-python",
   "name": "python",
   "nbconvert_exporter": "python",
   "pygments_lexer": "ipython3",
   "version": "3.8.13"
  }
 },
 "nbformat": 4,
 "nbformat_minor": 5
}
